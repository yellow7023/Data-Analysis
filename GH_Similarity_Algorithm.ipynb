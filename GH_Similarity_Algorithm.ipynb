{
  "nbformat": 4,
  "nbformat_minor": 0,
  "metadata": {
    "colab": {
      "name": "GH_Similarity_Algorithm.ipynb",
      "provenance": [],
      "collapsed_sections": []
    },
    "kernelspec": {
      "name": "python3",
      "display_name": "Python 3"
    },
    "language_info": {
      "name": "python"
    }
  },
  "cells": [
    {
      "cell_type": "code",
      "metadata": {
        "colab": {
          "base_uri": "https://localhost:8080/"
        },
        "id": "BM2LdU-JnPL7",
        "outputId": "056ea213-b16d-43fb-f904-fbbf3fe281d1"
      },
      "source": [
        "!sudo apt-get install -y fonts-nanum\n",
        "!sudo fc-cache -fv\n",
        "!rm ~/.cache/matplotlib -rf"
      ],
      "execution_count": null,
      "outputs": [
        {
          "output_type": "stream",
          "text": [
            "Reading package lists... Done\n",
            "Building dependency tree       \n",
            "Reading state information... Done\n",
            "The following package was automatically installed and is no longer required:\n",
            "  libnvidia-common-460\n",
            "Use 'sudo apt autoremove' to remove it.\n",
            "The following NEW packages will be installed:\n",
            "  fonts-nanum\n",
            "0 upgraded, 1 newly installed, 0 to remove and 34 not upgraded.\n",
            "Need to get 9,604 kB of archives.\n",
            "After this operation, 29.5 MB of additional disk space will be used.\n",
            "Get:1 http://archive.ubuntu.com/ubuntu bionic/universe amd64 fonts-nanum all 20170925-1 [9,604 kB]\n",
            "Fetched 9,604 kB in 1s (9,800 kB/s)\n",
            "debconf: unable to initialize frontend: Dialog\n",
            "debconf: (No usable dialog-like program is installed, so the dialog based frontend cannot be used. at /usr/share/perl5/Debconf/FrontEnd/Dialog.pm line 76, <> line 1.)\n",
            "debconf: falling back to frontend: Readline\n",
            "debconf: unable to initialize frontend: Readline\n",
            "debconf: (This frontend requires a controlling tty.)\n",
            "debconf: falling back to frontend: Teletype\n",
            "dpkg-preconfigure: unable to re-open stdin: \n",
            "Selecting previously unselected package fonts-nanum.\n",
            "(Reading database ... 160690 files and directories currently installed.)\n",
            "Preparing to unpack .../fonts-nanum_20170925-1_all.deb ...\n",
            "Unpacking fonts-nanum (20170925-1) ...\n",
            "Setting up fonts-nanum (20170925-1) ...\n",
            "Processing triggers for fontconfig (2.12.6-0ubuntu2) ...\n",
            "/usr/share/fonts: caching, new cache contents: 0 fonts, 1 dirs\n",
            "/usr/share/fonts/truetype: caching, new cache contents: 0 fonts, 3 dirs\n",
            "/usr/share/fonts/truetype/humor-sans: caching, new cache contents: 1 fonts, 0 dirs\n",
            "/usr/share/fonts/truetype/liberation: caching, new cache contents: 16 fonts, 0 dirs\n",
            "/usr/share/fonts/truetype/nanum: caching, new cache contents: 10 fonts, 0 dirs\n",
            "/usr/local/share/fonts: caching, new cache contents: 0 fonts, 0 dirs\n",
            "/root/.local/share/fonts: skipping, no such directory\n",
            "/root/.fonts: skipping, no such directory\n",
            "/var/cache/fontconfig: cleaning cache directory\n",
            "/root/.cache/fontconfig: not cleaning non-existent cache directory\n",
            "/root/.fontconfig: not cleaning non-existent cache directory\n",
            "fc-cache: succeeded\n"
          ],
          "name": "stdout"
        }
      ]
    },
    {
      "cell_type": "code",
      "metadata": {
        "id": "ZxXndgktndKm"
      },
      "source": [
        "import matplotlib.pyplot as plt\n",
        "\n",
        "plt.rc('font', family='NanumBarunGothic') "
      ],
      "execution_count": null,
      "outputs": []
    },
    {
      "cell_type": "code",
      "metadata": {
        "id": "Jn53YdI_5pWI"
      },
      "source": [
        "import pandas as pd\n",
        "import numpy as np\n",
        "import os\n",
        "import glob\n",
        "import re"
      ],
      "execution_count": null,
      "outputs": []
    },
    {
      "cell_type": "code",
      "metadata": {
        "colab": {
          "base_uri": "https://localhost:8080/"
        },
        "id": "ARNMXXDM7XSi",
        "outputId": "15f89a6d-7d97-4a79-c8e1-46961017c367"
      },
      "source": [
        "from google.colab import drive\n",
        "drive.mount('/content/gdrive')"
      ],
      "execution_count": null,
      "outputs": [
        {
          "output_type": "stream",
          "text": [
            "Mounted at /content/gdrive\n"
          ],
          "name": "stdout"
        }
      ]
    },
    {
      "cell_type": "code",
      "metadata": {
        "id": "SOq98u7Q6Cwr"
      },
      "source": [
        "os.chdir('/content/gdrive/My Drive/Colab Notebooks')"
      ],
      "execution_count": null,
      "outputs": []
    },
    {
      "cell_type": "code",
      "metadata": {
        "colab": {
          "base_uri": "https://localhost:8080/"
        },
        "id": "0DxpORWm80ga",
        "outputId": "1136538a-7b72-4fcf-cd1a-45a052019238"
      },
      "source": [
        "filenames = glob.glob(os.path.join('gh_data','*.xlsx'))\n",
        "filenames"
      ],
      "execution_count": null,
      "outputs": [
        {
          "output_type": "execute_result",
          "data": {
            "text/plain": [
              "['gh_data/단독다가구(매매)_실거래가_ (1).xlsx',\n",
              " 'gh_data/단독다가구(매매)_실거래가_ (2).xlsx',\n",
              " 'gh_data/단독다가구(매매)_실거래가_ (3).xlsx',\n",
              " 'gh_data/단독다가구(매매)_실거래가_ (4).xlsx',\n",
              " 'gh_data/단독다가구(매매)_실거래가_ (5).xlsx',\n",
              " 'gh_data/단독다가구(매매)_실거래가_ (6).xlsx',\n",
              " 'gh_data/단독다가구(매매)_실거래가_ (7).xlsx',\n",
              " 'gh_data/단독다가구(매매)_실거래가_ (8).xlsx',\n",
              " 'gh_data/단독다가구(매매)_실거래가_ (9).xlsx',\n",
              " 'gh_data/단독다가구(매매)_실거래가_ (10).xlsx',\n",
              " 'gh_data/단독다가구(매매)_실거래가_ (11).xlsx',\n",
              " 'gh_data/단독다가구(매매)_실거래가_ (12).xlsx']"
            ]
          },
          "metadata": {
            "tags": []
          },
          "execution_count": 6
        }
      ]
    },
    {
      "cell_type": "code",
      "metadata": {
        "colab": {
          "base_uri": "https://localhost:8080/"
        },
        "id": "BTV0wu_5868x",
        "outputId": "15b3c5c2-8867-45d3-954f-e707d9768ecb"
      },
      "source": [
        "# filenames 오름차순 정렬\n",
        "filenames = sorted(filenames, key = lambda s: int(re.split('([0-9]+)', s)[1]),) # reverse = False : 오름차순 / reverse = True : 내림차순\n",
        "filenames"
      ],
      "execution_count": null,
      "outputs": [
        {
          "output_type": "execute_result",
          "data": {
            "text/plain": [
              "['gh_data/단독다가구(매매)_실거래가_ (1).xlsx',\n",
              " 'gh_data/단독다가구(매매)_실거래가_ (2).xlsx',\n",
              " 'gh_data/단독다가구(매매)_실거래가_ (3).xlsx',\n",
              " 'gh_data/단독다가구(매매)_실거래가_ (4).xlsx',\n",
              " 'gh_data/단독다가구(매매)_실거래가_ (5).xlsx',\n",
              " 'gh_data/단독다가구(매매)_실거래가_ (6).xlsx',\n",
              " 'gh_data/단독다가구(매매)_실거래가_ (7).xlsx',\n",
              " 'gh_data/단독다가구(매매)_실거래가_ (8).xlsx',\n",
              " 'gh_data/단독다가구(매매)_실거래가_ (9).xlsx',\n",
              " 'gh_data/단독다가구(매매)_실거래가_ (10).xlsx',\n",
              " 'gh_data/단독다가구(매매)_실거래가_ (11).xlsx',\n",
              " 'gh_data/단독다가구(매매)_실거래가_ (12).xlsx']"
            ]
          },
          "metadata": {
            "tags": []
          },
          "execution_count": 7
        }
      ]
    },
    {
      "cell_type": "code",
      "metadata": {
        "id": "WLgD07rg-L35"
      },
      "source": [
        "df = pd.DataFrame() # empty dataframe\n",
        "\n",
        "for f in filenames:\n",
        "    data = pd.read_excel(f, header = 16).fillna(0)\n",
        "    df = df.append(data)"
      ],
      "execution_count": null,
      "outputs": []
    },
    {
      "cell_type": "code",
      "metadata": {
        "colab": {
          "base_uri": "https://localhost:8080/"
        },
        "id": "LoyuqH7M_KkA",
        "outputId": "4ff41db1-553d-4caa-a9f6-50ad6f9ec638"
      },
      "source": [
        "len(df)"
      ],
      "execution_count": null,
      "outputs": [
        {
          "output_type": "execute_result",
          "data": {
            "text/plain": [
              "93156"
            ]
          },
          "metadata": {
            "tags": []
          },
          "execution_count": 9
        }
      ]
    },
    {
      "cell_type": "code",
      "metadata": {
        "colab": {
          "base_uri": "https://localhost:8080/",
          "height": 195
        },
        "id": "1Tecebo1_ZMh",
        "outputId": "1368c392-a86f-4bef-ab65-1a204976b5cf"
      },
      "source": [
        "df.head()"
      ],
      "execution_count": null,
      "outputs": [
        {
          "output_type": "execute_result",
          "data": {
            "text/html": [
              "<div>\n",
              "<style scoped>\n",
              "    .dataframe tbody tr th:only-of-type {\n",
              "        vertical-align: middle;\n",
              "    }\n",
              "\n",
              "    .dataframe tbody tr th {\n",
              "        vertical-align: top;\n",
              "    }\n",
              "\n",
              "    .dataframe thead th {\n",
              "        text-align: right;\n",
              "    }\n",
              "</style>\n",
              "<table border=\"1\" class=\"dataframe\">\n",
              "  <thead>\n",
              "    <tr style=\"text-align: right;\">\n",
              "      <th></th>\n",
              "      <th>시군구</th>\n",
              "      <th>번지</th>\n",
              "      <th>주택유형</th>\n",
              "      <th>도로조건</th>\n",
              "      <th>연면적(㎡)</th>\n",
              "      <th>대지면적(㎡)</th>\n",
              "      <th>계약년월</th>\n",
              "      <th>계약일</th>\n",
              "      <th>거래금액(만원)</th>\n",
              "      <th>건축년도</th>\n",
              "      <th>도로명</th>\n",
              "    </tr>\n",
              "  </thead>\n",
              "  <tbody>\n",
              "    <tr>\n",
              "      <th>0</th>\n",
              "      <td>강원도 강릉시 강동면 모전리</td>\n",
              "      <td>3**</td>\n",
              "      <td>단독</td>\n",
              "      <td>8m미만</td>\n",
              "      <td>64.20</td>\n",
              "      <td>205.0</td>\n",
              "      <td>201801</td>\n",
              "      <td>11~20</td>\n",
              "      <td>10,520</td>\n",
              "      <td>2018.0</td>\n",
              "      <td>강동초교길</td>\n",
              "    </tr>\n",
              "    <tr>\n",
              "      <th>1</th>\n",
              "      <td>강원도 강릉시 견소동</td>\n",
              "      <td>2**</td>\n",
              "      <td>단독</td>\n",
              "      <td>12m미만</td>\n",
              "      <td>35.60</td>\n",
              "      <td>81.0</td>\n",
              "      <td>201801</td>\n",
              "      <td>1~10</td>\n",
              "      <td>4,000</td>\n",
              "      <td>1990.0</td>\n",
              "      <td>창해로</td>\n",
              "    </tr>\n",
              "    <tr>\n",
              "      <th>2</th>\n",
              "      <td>강원도 강릉시 교동</td>\n",
              "      <td>9**</td>\n",
              "      <td>단독</td>\n",
              "      <td>12m미만</td>\n",
              "      <td>99.90</td>\n",
              "      <td>160.0</td>\n",
              "      <td>201801</td>\n",
              "      <td>11~20</td>\n",
              "      <td>16,500</td>\n",
              "      <td>1982.0</td>\n",
              "      <td>원대로8번길</td>\n",
              "    </tr>\n",
              "    <tr>\n",
              "      <th>3</th>\n",
              "      <td>강원도 강릉시 교동</td>\n",
              "      <td>1***</td>\n",
              "      <td>단독</td>\n",
              "      <td>12m미만</td>\n",
              "      <td>326.88</td>\n",
              "      <td>211.6</td>\n",
              "      <td>201801</td>\n",
              "      <td>1~10</td>\n",
              "      <td>64,300</td>\n",
              "      <td>2005.0</td>\n",
              "      <td>율곡초교길47번길</td>\n",
              "    </tr>\n",
              "    <tr>\n",
              "      <th>4</th>\n",
              "      <td>강원도 강릉시 교동</td>\n",
              "      <td>9**</td>\n",
              "      <td>단독</td>\n",
              "      <td>8m미만</td>\n",
              "      <td>154.99</td>\n",
              "      <td>240.2</td>\n",
              "      <td>201801</td>\n",
              "      <td>11~20</td>\n",
              "      <td>19,000</td>\n",
              "      <td>1980.0</td>\n",
              "      <td>원대로20번길</td>\n",
              "    </tr>\n",
              "  </tbody>\n",
              "</table>\n",
              "</div>"
            ],
            "text/plain": [
              "               시군구    번지 주택유형   도로조건  ...    계약일        거래금액(만원)    건축년도        도로명\n",
              "0  강원도 강릉시 강동면 모전리   3**   단독   8m미만  ...  11~20          10,520  2018.0      강동초교길\n",
              "1      강원도 강릉시 견소동   2**   단독  12m미만  ...   1~10           4,000  1990.0        창해로\n",
              "2       강원도 강릉시 교동   9**   단독  12m미만  ...  11~20          16,500  1982.0     원대로8번길\n",
              "3       강원도 강릉시 교동  1***   단독  12m미만  ...   1~10          64,300  2005.0  율곡초교길47번길\n",
              "4       강원도 강릉시 교동   9**   단독   8m미만  ...  11~20          19,000  1980.0    원대로20번길\n",
              "\n",
              "[5 rows x 11 columns]"
            ]
          },
          "metadata": {
            "tags": []
          },
          "execution_count": 10
        }
      ]
    },
    {
      "cell_type": "code",
      "metadata": {
        "colab": {
          "base_uri": "https://localhost:8080/",
          "height": 195
        },
        "id": "saWiXjCc_bDJ",
        "outputId": "c6950137-e113-4348-9581-f5f298a9c7c4"
      },
      "source": [
        "df.tail()"
      ],
      "execution_count": null,
      "outputs": [
        {
          "output_type": "execute_result",
          "data": {
            "text/html": [
              "<div>\n",
              "<style scoped>\n",
              "    .dataframe tbody tr th:only-of-type {\n",
              "        vertical-align: middle;\n",
              "    }\n",
              "\n",
              "    .dataframe tbody tr th {\n",
              "        vertical-align: top;\n",
              "    }\n",
              "\n",
              "    .dataframe thead th {\n",
              "        text-align: right;\n",
              "    }\n",
              "</style>\n",
              "<table border=\"1\" class=\"dataframe\">\n",
              "  <thead>\n",
              "    <tr style=\"text-align: right;\">\n",
              "      <th></th>\n",
              "      <th>시군구</th>\n",
              "      <th>번지</th>\n",
              "      <th>주택유형</th>\n",
              "      <th>도로조건</th>\n",
              "      <th>연면적(㎡)</th>\n",
              "      <th>대지면적(㎡)</th>\n",
              "      <th>계약년월</th>\n",
              "      <th>계약일</th>\n",
              "      <th>거래금액(만원)</th>\n",
              "      <th>건축년도</th>\n",
              "      <th>도로명</th>\n",
              "    </tr>\n",
              "  </thead>\n",
              "  <tbody>\n",
              "    <tr>\n",
              "      <th>4967</th>\n",
              "      <td>충청북도 충주시 용탄동</td>\n",
              "      <td>3**</td>\n",
              "      <td>단독</td>\n",
              "      <td>8m미만</td>\n",
              "      <td>84.50</td>\n",
              "      <td>228.0</td>\n",
              "      <td>201812</td>\n",
              "      <td>21~31</td>\n",
              "      <td>5,700</td>\n",
              "      <td>1996.0</td>\n",
              "      <td>사래실길</td>\n",
              "    </tr>\n",
              "    <tr>\n",
              "      <th>4968</th>\n",
              "      <td>충청북도 충주시 중앙탑면 창동리</td>\n",
              "      <td>2**</td>\n",
              "      <td>단독</td>\n",
              "      <td>8m미만</td>\n",
              "      <td>42.34</td>\n",
              "      <td>383.0</td>\n",
              "      <td>201812</td>\n",
              "      <td>11~20</td>\n",
              "      <td>3,800</td>\n",
              "      <td>1964.0</td>\n",
              "      <td>청금로</td>\n",
              "    </tr>\n",
              "    <tr>\n",
              "      <th>4969</th>\n",
              "      <td>충청북도 충주시 칠금동</td>\n",
              "      <td>7**</td>\n",
              "      <td>단독</td>\n",
              "      <td>12m미만</td>\n",
              "      <td>313.89</td>\n",
              "      <td>178.9</td>\n",
              "      <td>201812</td>\n",
              "      <td>1~10</td>\n",
              "      <td>36,700</td>\n",
              "      <td>2004.0</td>\n",
              "      <td>칠금6길</td>\n",
              "    </tr>\n",
              "    <tr>\n",
              "      <th>4970</th>\n",
              "      <td>충청북도 충주시 호암동</td>\n",
              "      <td>1**</td>\n",
              "      <td>다가구</td>\n",
              "      <td>8m미만</td>\n",
              "      <td>368.28</td>\n",
              "      <td>285.0</td>\n",
              "      <td>201812</td>\n",
              "      <td>21~31</td>\n",
              "      <td>65,000</td>\n",
              "      <td>2018.0</td>\n",
              "      <td>원호암3길</td>\n",
              "    </tr>\n",
              "    <tr>\n",
              "      <th>4971</th>\n",
              "      <td>충청북도 충주시 호암동</td>\n",
              "      <td>1**</td>\n",
              "      <td>단독</td>\n",
              "      <td>25m이상</td>\n",
              "      <td>40.67</td>\n",
              "      <td>492.0</td>\n",
              "      <td>201812</td>\n",
              "      <td>1~10</td>\n",
              "      <td>20,500</td>\n",
              "      <td>1950.0</td>\n",
              "      <td>형설로</td>\n",
              "    </tr>\n",
              "  </tbody>\n",
              "</table>\n",
              "</div>"
            ],
            "text/plain": [
              "                    시군구   번지 주택유형   도로조건  ...    계약일        거래금액(만원)    건축년도    도로명\n",
              "4967       충청북도 충주시 용탄동  3**   단독   8m미만  ...  21~31           5,700  1996.0   사래실길\n",
              "4968  충청북도 충주시 중앙탑면 창동리  2**   단독   8m미만  ...  11~20           3,800  1964.0    청금로\n",
              "4969       충청북도 충주시 칠금동  7**   단독  12m미만  ...   1~10          36,700  2004.0   칠금6길\n",
              "4970       충청북도 충주시 호암동  1**  다가구   8m미만  ...  21~31          65,000  2018.0  원호암3길\n",
              "4971       충청북도 충주시 호암동  1**   단독  25m이상  ...   1~10          20,500  1950.0    형설로\n",
              "\n",
              "[5 rows x 11 columns]"
            ]
          },
          "metadata": {
            "tags": []
          },
          "execution_count": 11
        }
      ]
    },
    {
      "cell_type": "code",
      "metadata": {
        "id": "eODvOiQR_f0o"
      },
      "source": [
        "df.reset_index(inplace = True, drop = True)"
      ],
      "execution_count": null,
      "outputs": []
    },
    {
      "cell_type": "code",
      "metadata": {
        "id": "vKfJqLjO_u0K"
      },
      "source": [
        "# 데이터 정리"
      ],
      "execution_count": null,
      "outputs": []
    },
    {
      "cell_type": "code",
      "metadata": {
        "colab": {
          "base_uri": "https://localhost:8080/"
        },
        "id": "ZJWgc_2s_vMJ",
        "outputId": "3bd129f0-cb30-4c6e-eb09-7a8eac9264fe"
      },
      "source": [
        "df.info()"
      ],
      "execution_count": null,
      "outputs": [
        {
          "output_type": "stream",
          "text": [
            "<class 'pandas.core.frame.DataFrame'>\n",
            "RangeIndex: 93156 entries, 0 to 93155\n",
            "Data columns (total 11 columns):\n",
            " #   Column    Non-Null Count  Dtype  \n",
            "---  ------    --------------  -----  \n",
            " 0   시군구       93156 non-null  object \n",
            " 1   번지        93156 non-null  object \n",
            " 2   주택유형      93156 non-null  object \n",
            " 3   도로조건      93156 non-null  object \n",
            " 4   연면적(㎡)    93156 non-null  float64\n",
            " 5   대지면적(㎡)   93156 non-null  float64\n",
            " 6   계약년월      93156 non-null  int64  \n",
            " 7   계약일       93156 non-null  object \n",
            " 8   거래금액(만원)  93156 non-null  object \n",
            " 9   건축년도      93156 non-null  float64\n",
            " 10  도로명       93156 non-null  object \n",
            "dtypes: float64(3), int64(1), object(7)\n",
            "memory usage: 7.8+ MB\n"
          ],
          "name": "stdout"
        }
      ]
    },
    {
      "cell_type": "code",
      "metadata": {
        "colab": {
          "base_uri": "https://localhost:8080/",
          "height": 284
        },
        "id": "f3uabhYn_kqY",
        "outputId": "1f5ebbf7-a240-486c-cddc-792a1f77bc5a"
      },
      "source": [
        "df.describe()"
      ],
      "execution_count": null,
      "outputs": [
        {
          "output_type": "execute_result",
          "data": {
            "text/html": [
              "<div>\n",
              "<style scoped>\n",
              "    .dataframe tbody tr th:only-of-type {\n",
              "        vertical-align: middle;\n",
              "    }\n",
              "\n",
              "    .dataframe tbody tr th {\n",
              "        vertical-align: top;\n",
              "    }\n",
              "\n",
              "    .dataframe thead th {\n",
              "        text-align: right;\n",
              "    }\n",
              "</style>\n",
              "<table border=\"1\" class=\"dataframe\">\n",
              "  <thead>\n",
              "    <tr style=\"text-align: right;\">\n",
              "      <th></th>\n",
              "      <th>연면적(㎡)</th>\n",
              "      <th>대지면적(㎡)</th>\n",
              "      <th>계약년월</th>\n",
              "      <th>건축년도</th>\n",
              "    </tr>\n",
              "  </thead>\n",
              "  <tbody>\n",
              "    <tr>\n",
              "      <th>count</th>\n",
              "      <td>93156.000000</td>\n",
              "      <td>93156.000000</td>\n",
              "      <td>93156.000000</td>\n",
              "      <td>93156.000000</td>\n",
              "    </tr>\n",
              "    <tr>\n",
              "      <th>mean</th>\n",
              "      <td>160.954894</td>\n",
              "      <td>269.242972</td>\n",
              "      <td>201806.166763</td>\n",
              "      <td>1986.259608</td>\n",
              "    </tr>\n",
              "    <tr>\n",
              "      <th>std</th>\n",
              "      <td>153.372718</td>\n",
              "      <td>535.536227</td>\n",
              "      <td>3.306179</td>\n",
              "      <td>54.643186</td>\n",
              "    </tr>\n",
              "    <tr>\n",
              "      <th>min</th>\n",
              "      <td>4.860000</td>\n",
              "      <td>3.880000</td>\n",
              "      <td>201801.000000</td>\n",
              "      <td>0.000000</td>\n",
              "    </tr>\n",
              "    <tr>\n",
              "      <th>25%</th>\n",
              "      <td>69.410000</td>\n",
              "      <td>123.800000</td>\n",
              "      <td>201803.000000</td>\n",
              "      <td>1978.000000</td>\n",
              "    </tr>\n",
              "    <tr>\n",
              "      <th>50%</th>\n",
              "      <td>112.200000</td>\n",
              "      <td>186.100000</td>\n",
              "      <td>201806.000000</td>\n",
              "      <td>1989.000000</td>\n",
              "    </tr>\n",
              "    <tr>\n",
              "      <th>75%</th>\n",
              "      <td>191.900000</td>\n",
              "      <td>323.600000</td>\n",
              "      <td>201809.000000</td>\n",
              "      <td>2001.000000</td>\n",
              "    </tr>\n",
              "    <tr>\n",
              "      <th>max</th>\n",
              "      <td>5225.220000</td>\n",
              "      <td>119119.000000</td>\n",
              "      <td>201812.000000</td>\n",
              "      <td>2019.000000</td>\n",
              "    </tr>\n",
              "  </tbody>\n",
              "</table>\n",
              "</div>"
            ],
            "text/plain": [
              "             연면적(㎡)        대지면적(㎡)           계약년월          건축년도\n",
              "count  93156.000000   93156.000000   93156.000000  93156.000000\n",
              "mean     160.954894     269.242972  201806.166763   1986.259608\n",
              "std      153.372718     535.536227       3.306179     54.643186\n",
              "min        4.860000       3.880000  201801.000000      0.000000\n",
              "25%       69.410000     123.800000  201803.000000   1978.000000\n",
              "50%      112.200000     186.100000  201806.000000   1989.000000\n",
              "75%      191.900000     323.600000  201809.000000   2001.000000\n",
              "max     5225.220000  119119.000000  201812.000000   2019.000000"
            ]
          },
          "metadata": {
            "tags": []
          },
          "execution_count": 15
        }
      ]
    },
    {
      "cell_type": "code",
      "metadata": {
        "colab": {
          "base_uri": "https://localhost:8080/"
        },
        "id": "KQUCu6HoAmGb",
        "outputId": "11cdfba1-8d9f-48f2-e195-2f9afd18e295"
      },
      "source": [
        "df['주택유형'].unique()"
      ],
      "execution_count": null,
      "outputs": [
        {
          "output_type": "execute_result",
          "data": {
            "text/plain": [
              "array(['단독', '다가구'], dtype=object)"
            ]
          },
          "metadata": {
            "tags": []
          },
          "execution_count": 16
        }
      ]
    },
    {
      "cell_type": "code",
      "metadata": {
        "colab": {
          "base_uri": "https://localhost:8080/"
        },
        "id": "Nag_9iQrAo3B",
        "outputId": "1eaa5f70-9362-4353-f77c-cc17f8fb44cf"
      },
      "source": [
        "df['도로조건'].unique()"
      ],
      "execution_count": null,
      "outputs": [
        {
          "output_type": "execute_result",
          "data": {
            "text/plain": [
              "array(['8m미만', '12m미만', '25m미만', '-', '25m이상'], dtype=object)"
            ]
          },
          "metadata": {
            "tags": []
          },
          "execution_count": 17
        }
      ]
    },
    {
      "cell_type": "code",
      "metadata": {
        "colab": {
          "base_uri": "https://localhost:8080/"
        },
        "id": "P5p6g9D3ArS5",
        "outputId": "e15588d3-2425-42ae-847e-eb264f3f2d34"
      },
      "source": [
        "df['도로조건'] = df['도로조건'].replace(['-', 'm미만', '25m이상'], ['0', '', '26'], regex = True).astype(float)\n",
        "df['도로조건'].unique()"
      ],
      "execution_count": null,
      "outputs": [
        {
          "output_type": "execute_result",
          "data": {
            "text/plain": [
              "array([ 8., 12., 25.,  0., 26.])"
            ]
          },
          "metadata": {
            "tags": []
          },
          "execution_count": 18
        }
      ]
    },
    {
      "cell_type": "code",
      "metadata": {
        "id": "DGeVNi5K_pag"
      },
      "source": [
        "df['거래금액(만원)'] = df['거래금액(만원)'].str.replace(',', '').astype(float)"
      ],
      "execution_count": null,
      "outputs": []
    },
    {
      "cell_type": "code",
      "metadata": {
        "colab": {
          "base_uri": "https://localhost:8080/",
          "height": 195
        },
        "id": "9qFMCYIVAJLw",
        "outputId": "b13c313b-03db-4347-def2-db189e11da29"
      },
      "source": [
        "df.head()"
      ],
      "execution_count": null,
      "outputs": [
        {
          "output_type": "execute_result",
          "data": {
            "text/html": [
              "<div>\n",
              "<style scoped>\n",
              "    .dataframe tbody tr th:only-of-type {\n",
              "        vertical-align: middle;\n",
              "    }\n",
              "\n",
              "    .dataframe tbody tr th {\n",
              "        vertical-align: top;\n",
              "    }\n",
              "\n",
              "    .dataframe thead th {\n",
              "        text-align: right;\n",
              "    }\n",
              "</style>\n",
              "<table border=\"1\" class=\"dataframe\">\n",
              "  <thead>\n",
              "    <tr style=\"text-align: right;\">\n",
              "      <th></th>\n",
              "      <th>시군구</th>\n",
              "      <th>번지</th>\n",
              "      <th>주택유형</th>\n",
              "      <th>도로조건</th>\n",
              "      <th>연면적(㎡)</th>\n",
              "      <th>대지면적(㎡)</th>\n",
              "      <th>계약년월</th>\n",
              "      <th>계약일</th>\n",
              "      <th>거래금액(만원)</th>\n",
              "      <th>건축년도</th>\n",
              "      <th>도로명</th>\n",
              "    </tr>\n",
              "  </thead>\n",
              "  <tbody>\n",
              "    <tr>\n",
              "      <th>0</th>\n",
              "      <td>강원도 강릉시 강동면 모전리</td>\n",
              "      <td>3**</td>\n",
              "      <td>단독</td>\n",
              "      <td>8.0</td>\n",
              "      <td>64.20</td>\n",
              "      <td>205.0</td>\n",
              "      <td>201801</td>\n",
              "      <td>11~20</td>\n",
              "      <td>10520.0</td>\n",
              "      <td>2018.0</td>\n",
              "      <td>강동초교길</td>\n",
              "    </tr>\n",
              "    <tr>\n",
              "      <th>1</th>\n",
              "      <td>강원도 강릉시 견소동</td>\n",
              "      <td>2**</td>\n",
              "      <td>단독</td>\n",
              "      <td>12.0</td>\n",
              "      <td>35.60</td>\n",
              "      <td>81.0</td>\n",
              "      <td>201801</td>\n",
              "      <td>1~10</td>\n",
              "      <td>4000.0</td>\n",
              "      <td>1990.0</td>\n",
              "      <td>창해로</td>\n",
              "    </tr>\n",
              "    <tr>\n",
              "      <th>2</th>\n",
              "      <td>강원도 강릉시 교동</td>\n",
              "      <td>9**</td>\n",
              "      <td>단독</td>\n",
              "      <td>12.0</td>\n",
              "      <td>99.90</td>\n",
              "      <td>160.0</td>\n",
              "      <td>201801</td>\n",
              "      <td>11~20</td>\n",
              "      <td>16500.0</td>\n",
              "      <td>1982.0</td>\n",
              "      <td>원대로8번길</td>\n",
              "    </tr>\n",
              "    <tr>\n",
              "      <th>3</th>\n",
              "      <td>강원도 강릉시 교동</td>\n",
              "      <td>1***</td>\n",
              "      <td>단독</td>\n",
              "      <td>12.0</td>\n",
              "      <td>326.88</td>\n",
              "      <td>211.6</td>\n",
              "      <td>201801</td>\n",
              "      <td>1~10</td>\n",
              "      <td>64300.0</td>\n",
              "      <td>2005.0</td>\n",
              "      <td>율곡초교길47번길</td>\n",
              "    </tr>\n",
              "    <tr>\n",
              "      <th>4</th>\n",
              "      <td>강원도 강릉시 교동</td>\n",
              "      <td>9**</td>\n",
              "      <td>단독</td>\n",
              "      <td>8.0</td>\n",
              "      <td>154.99</td>\n",
              "      <td>240.2</td>\n",
              "      <td>201801</td>\n",
              "      <td>11~20</td>\n",
              "      <td>19000.0</td>\n",
              "      <td>1980.0</td>\n",
              "      <td>원대로20번길</td>\n",
              "    </tr>\n",
              "  </tbody>\n",
              "</table>\n",
              "</div>"
            ],
            "text/plain": [
              "               시군구    번지 주택유형  도로조건  ...    계약일  거래금액(만원)    건축년도        도로명\n",
              "0  강원도 강릉시 강동면 모전리   3**   단독   8.0  ...  11~20   10520.0  2018.0      강동초교길\n",
              "1      강원도 강릉시 견소동   2**   단독  12.0  ...   1~10    4000.0  1990.0        창해로\n",
              "2       강원도 강릉시 교동   9**   단독  12.0  ...  11~20   16500.0  1982.0     원대로8번길\n",
              "3       강원도 강릉시 교동  1***   단독  12.0  ...   1~10   64300.0  2005.0  율곡초교길47번길\n",
              "4       강원도 강릉시 교동   9**   단독   8.0  ...  11~20   19000.0  1980.0    원대로20번길\n",
              "\n",
              "[5 rows x 11 columns]"
            ]
          },
          "metadata": {
            "tags": []
          },
          "execution_count": 20
        }
      ]
    },
    {
      "cell_type": "code",
      "metadata": {
        "colab": {
          "base_uri": "https://localhost:8080/",
          "height": 195
        },
        "id": "ns2duVBOA-VI",
        "outputId": "237e34e8-b98c-4a4f-ef5b-6761fbbbd5ce"
      },
      "source": [
        "s = df['계약년월'].astype(str)\n",
        "df['연도'] = s.str[0:4].astype(int)\n",
        "df['월'] = s.str[-2:].astype(int)\n",
        "\n",
        "del df['계약년월']\n",
        "df.head()"
      ],
      "execution_count": null,
      "outputs": [
        {
          "output_type": "execute_result",
          "data": {
            "text/html": [
              "<div>\n",
              "<style scoped>\n",
              "    .dataframe tbody tr th:only-of-type {\n",
              "        vertical-align: middle;\n",
              "    }\n",
              "\n",
              "    .dataframe tbody tr th {\n",
              "        vertical-align: top;\n",
              "    }\n",
              "\n",
              "    .dataframe thead th {\n",
              "        text-align: right;\n",
              "    }\n",
              "</style>\n",
              "<table border=\"1\" class=\"dataframe\">\n",
              "  <thead>\n",
              "    <tr style=\"text-align: right;\">\n",
              "      <th></th>\n",
              "      <th>시군구</th>\n",
              "      <th>번지</th>\n",
              "      <th>주택유형</th>\n",
              "      <th>도로조건</th>\n",
              "      <th>연면적(㎡)</th>\n",
              "      <th>대지면적(㎡)</th>\n",
              "      <th>계약일</th>\n",
              "      <th>거래금액(만원)</th>\n",
              "      <th>건축년도</th>\n",
              "      <th>도로명</th>\n",
              "      <th>연도</th>\n",
              "      <th>월</th>\n",
              "    </tr>\n",
              "  </thead>\n",
              "  <tbody>\n",
              "    <tr>\n",
              "      <th>0</th>\n",
              "      <td>강원도 강릉시 강동면 모전리</td>\n",
              "      <td>3**</td>\n",
              "      <td>단독</td>\n",
              "      <td>8.0</td>\n",
              "      <td>64.20</td>\n",
              "      <td>205.0</td>\n",
              "      <td>11~20</td>\n",
              "      <td>10520.0</td>\n",
              "      <td>2018.0</td>\n",
              "      <td>강동초교길</td>\n",
              "      <td>2018</td>\n",
              "      <td>1</td>\n",
              "    </tr>\n",
              "    <tr>\n",
              "      <th>1</th>\n",
              "      <td>강원도 강릉시 견소동</td>\n",
              "      <td>2**</td>\n",
              "      <td>단독</td>\n",
              "      <td>12.0</td>\n",
              "      <td>35.60</td>\n",
              "      <td>81.0</td>\n",
              "      <td>1~10</td>\n",
              "      <td>4000.0</td>\n",
              "      <td>1990.0</td>\n",
              "      <td>창해로</td>\n",
              "      <td>2018</td>\n",
              "      <td>1</td>\n",
              "    </tr>\n",
              "    <tr>\n",
              "      <th>2</th>\n",
              "      <td>강원도 강릉시 교동</td>\n",
              "      <td>9**</td>\n",
              "      <td>단독</td>\n",
              "      <td>12.0</td>\n",
              "      <td>99.90</td>\n",
              "      <td>160.0</td>\n",
              "      <td>11~20</td>\n",
              "      <td>16500.0</td>\n",
              "      <td>1982.0</td>\n",
              "      <td>원대로8번길</td>\n",
              "      <td>2018</td>\n",
              "      <td>1</td>\n",
              "    </tr>\n",
              "    <tr>\n",
              "      <th>3</th>\n",
              "      <td>강원도 강릉시 교동</td>\n",
              "      <td>1***</td>\n",
              "      <td>단독</td>\n",
              "      <td>12.0</td>\n",
              "      <td>326.88</td>\n",
              "      <td>211.6</td>\n",
              "      <td>1~10</td>\n",
              "      <td>64300.0</td>\n",
              "      <td>2005.0</td>\n",
              "      <td>율곡초교길47번길</td>\n",
              "      <td>2018</td>\n",
              "      <td>1</td>\n",
              "    </tr>\n",
              "    <tr>\n",
              "      <th>4</th>\n",
              "      <td>강원도 강릉시 교동</td>\n",
              "      <td>9**</td>\n",
              "      <td>단독</td>\n",
              "      <td>8.0</td>\n",
              "      <td>154.99</td>\n",
              "      <td>240.2</td>\n",
              "      <td>11~20</td>\n",
              "      <td>19000.0</td>\n",
              "      <td>1980.0</td>\n",
              "      <td>원대로20번길</td>\n",
              "      <td>2018</td>\n",
              "      <td>1</td>\n",
              "    </tr>\n",
              "  </tbody>\n",
              "</table>\n",
              "</div>"
            ],
            "text/plain": [
              "               시군구    번지 주택유형  도로조건  ...    건축년도        도로명    연도  월\n",
              "0  강원도 강릉시 강동면 모전리   3**   단독   8.0  ...  2018.0      강동초교길  2018  1\n",
              "1      강원도 강릉시 견소동   2**   단독  12.0  ...  1990.0        창해로  2018  1\n",
              "2       강원도 강릉시 교동   9**   단독  12.0  ...  1982.0     원대로8번길  2018  1\n",
              "3       강원도 강릉시 교동  1***   단독  12.0  ...  2005.0  율곡초교길47번길  2018  1\n",
              "4       강원도 강릉시 교동   9**   단독   8.0  ...  1980.0    원대로20번길  2018  1\n",
              "\n",
              "[5 rows x 12 columns]"
            ]
          },
          "metadata": {
            "tags": []
          },
          "execution_count": 21
        }
      ]
    },
    {
      "cell_type": "code",
      "metadata": {
        "colab": {
          "base_uri": "https://localhost:8080/",
          "height": 195
        },
        "id": "cmMFffxcBL8I",
        "outputId": "7ab7ffd6-a77a-4c67-9d5f-dba1ed3a0c30"
      },
      "source": [
        "del df['번지']\n",
        "del df['계약일']\n",
        "del df['도로명']\n",
        "df.head()"
      ],
      "execution_count": null,
      "outputs": [
        {
          "output_type": "execute_result",
          "data": {
            "text/html": [
              "<div>\n",
              "<style scoped>\n",
              "    .dataframe tbody tr th:only-of-type {\n",
              "        vertical-align: middle;\n",
              "    }\n",
              "\n",
              "    .dataframe tbody tr th {\n",
              "        vertical-align: top;\n",
              "    }\n",
              "\n",
              "    .dataframe thead th {\n",
              "        text-align: right;\n",
              "    }\n",
              "</style>\n",
              "<table border=\"1\" class=\"dataframe\">\n",
              "  <thead>\n",
              "    <tr style=\"text-align: right;\">\n",
              "      <th></th>\n",
              "      <th>시군구</th>\n",
              "      <th>주택유형</th>\n",
              "      <th>도로조건</th>\n",
              "      <th>연면적(㎡)</th>\n",
              "      <th>대지면적(㎡)</th>\n",
              "      <th>거래금액(만원)</th>\n",
              "      <th>건축년도</th>\n",
              "      <th>연도</th>\n",
              "      <th>월</th>\n",
              "    </tr>\n",
              "  </thead>\n",
              "  <tbody>\n",
              "    <tr>\n",
              "      <th>0</th>\n",
              "      <td>강원도 강릉시 강동면 모전리</td>\n",
              "      <td>단독</td>\n",
              "      <td>8.0</td>\n",
              "      <td>64.20</td>\n",
              "      <td>205.0</td>\n",
              "      <td>10520.0</td>\n",
              "      <td>2018.0</td>\n",
              "      <td>2018</td>\n",
              "      <td>1</td>\n",
              "    </tr>\n",
              "    <tr>\n",
              "      <th>1</th>\n",
              "      <td>강원도 강릉시 견소동</td>\n",
              "      <td>단독</td>\n",
              "      <td>12.0</td>\n",
              "      <td>35.60</td>\n",
              "      <td>81.0</td>\n",
              "      <td>4000.0</td>\n",
              "      <td>1990.0</td>\n",
              "      <td>2018</td>\n",
              "      <td>1</td>\n",
              "    </tr>\n",
              "    <tr>\n",
              "      <th>2</th>\n",
              "      <td>강원도 강릉시 교동</td>\n",
              "      <td>단독</td>\n",
              "      <td>12.0</td>\n",
              "      <td>99.90</td>\n",
              "      <td>160.0</td>\n",
              "      <td>16500.0</td>\n",
              "      <td>1982.0</td>\n",
              "      <td>2018</td>\n",
              "      <td>1</td>\n",
              "    </tr>\n",
              "    <tr>\n",
              "      <th>3</th>\n",
              "      <td>강원도 강릉시 교동</td>\n",
              "      <td>단독</td>\n",
              "      <td>12.0</td>\n",
              "      <td>326.88</td>\n",
              "      <td>211.6</td>\n",
              "      <td>64300.0</td>\n",
              "      <td>2005.0</td>\n",
              "      <td>2018</td>\n",
              "      <td>1</td>\n",
              "    </tr>\n",
              "    <tr>\n",
              "      <th>4</th>\n",
              "      <td>강원도 강릉시 교동</td>\n",
              "      <td>단독</td>\n",
              "      <td>8.0</td>\n",
              "      <td>154.99</td>\n",
              "      <td>240.2</td>\n",
              "      <td>19000.0</td>\n",
              "      <td>1980.0</td>\n",
              "      <td>2018</td>\n",
              "      <td>1</td>\n",
              "    </tr>\n",
              "  </tbody>\n",
              "</table>\n",
              "</div>"
            ],
            "text/plain": [
              "               시군구 주택유형  도로조건  연면적(㎡)  대지면적(㎡)  거래금액(만원)    건축년도    연도  월\n",
              "0  강원도 강릉시 강동면 모전리   단독   8.0   64.20    205.0   10520.0  2018.0  2018  1\n",
              "1      강원도 강릉시 견소동   단독  12.0   35.60     81.0    4000.0  1990.0  2018  1\n",
              "2       강원도 강릉시 교동   단독  12.0   99.90    160.0   16500.0  1982.0  2018  1\n",
              "3       강원도 강릉시 교동   단독  12.0  326.88    211.6   64300.0  2005.0  2018  1\n",
              "4       강원도 강릉시 교동   단독   8.0  154.99    240.2   19000.0  1980.0  2018  1"
            ]
          },
          "metadata": {
            "tags": []
          },
          "execution_count": 22
        }
      ]
    },
    {
      "cell_type": "code",
      "metadata": {
        "id": "D88mR1LVBSY4"
      },
      "source": [
        "SiDo = []\n",
        "SiGunGu = []\n",
        "DongLi = []\n",
        "\n",
        "for i in range(0,len(df['시군구'])):\n",
        "    tmp = df['시군구'][i].split()  # 띄어쓰기로 split\n",
        "    SiDo.append(tmp[0])            # 시/도\n",
        "    SiGunGu.append(tmp[1])         # 시/군/구\n",
        "    if len(tmp) > 3:\n",
        "        DongLi.append(tmp[-1]+'('+tmp[2]+')')\n",
        "    else:\n",
        "        DongLi.append(tmp[-1])\n",
        "\n",
        "df['SiDo'] = SiDo \n",
        "df['SiGunGu'] = SiGunGu\n",
        "df['DongLi'] = DongLi\n",
        "\n",
        "def cut_char_sigu(name):\n",
        "    return name if len(name)==2 else name[:-1]\n",
        "\n",
        "sido_candi =  df['SiDo']\n",
        "sido_candi = [name[:2] if name[:2] in ['서울','부산','대구','광주','인천','대전','울산','세종'] else '' for name in sido_candi]\n",
        "\n",
        "sigun_candi = ['']*len(df)\n",
        "for n in df.index:\n",
        "#     print(n)\n",
        "    each = df['SiGunGu'][n]\n",
        "    if each[:2] in ['수원', '성남','안양','안산','고양','용인','청주','천안','전주','포항','창원']:\n",
        "        sigun_candi[n] = each[:2] + ' ' + each[2:-1] #re.split('시', each)[0]+' '+ cut_char_sigu(re.split('시', each)[1])\n",
        "    else:\n",
        "        sigun_candi[n] = cut_char_sigu(each)\n",
        "        \n",
        "ID_candi = [sido_candi[n]+' '+sigun_candi[n] for n in range(0,len(sigun_candi))]\n",
        "ID_candi = [name[1:] if name[0]==' ' else name for name in ID_candi]\n",
        "ID_candi = [name[:2] if name[:2]=='세종' else name for name in ID_candi]\n",
        "df['ID'] = ID_candi"
      ],
      "execution_count": null,
      "outputs": []
    },
    {
      "cell_type": "code",
      "metadata": {
        "colab": {
          "base_uri": "https://localhost:8080/",
          "height": 195
        },
        "id": "du7eBfKyB8Wr",
        "outputId": "ab729696-b3d1-450d-8b73-c30634973e38"
      },
      "source": [
        "df.head()"
      ],
      "execution_count": null,
      "outputs": [
        {
          "output_type": "execute_result",
          "data": {
            "text/html": [
              "<div>\n",
              "<style scoped>\n",
              "    .dataframe tbody tr th:only-of-type {\n",
              "        vertical-align: middle;\n",
              "    }\n",
              "\n",
              "    .dataframe tbody tr th {\n",
              "        vertical-align: top;\n",
              "    }\n",
              "\n",
              "    .dataframe thead th {\n",
              "        text-align: right;\n",
              "    }\n",
              "</style>\n",
              "<table border=\"1\" class=\"dataframe\">\n",
              "  <thead>\n",
              "    <tr style=\"text-align: right;\">\n",
              "      <th></th>\n",
              "      <th>시군구</th>\n",
              "      <th>주택유형</th>\n",
              "      <th>도로조건</th>\n",
              "      <th>연면적(㎡)</th>\n",
              "      <th>대지면적(㎡)</th>\n",
              "      <th>거래금액(만원)</th>\n",
              "      <th>건축년도</th>\n",
              "      <th>연도</th>\n",
              "      <th>월</th>\n",
              "      <th>SiDo</th>\n",
              "      <th>SiGunGu</th>\n",
              "      <th>DongLi</th>\n",
              "      <th>ID</th>\n",
              "    </tr>\n",
              "  </thead>\n",
              "  <tbody>\n",
              "    <tr>\n",
              "      <th>0</th>\n",
              "      <td>강원도 강릉시 강동면 모전리</td>\n",
              "      <td>단독</td>\n",
              "      <td>8.0</td>\n",
              "      <td>64.20</td>\n",
              "      <td>205.0</td>\n",
              "      <td>10520.0</td>\n",
              "      <td>2018.0</td>\n",
              "      <td>2018</td>\n",
              "      <td>1</td>\n",
              "      <td>강원도</td>\n",
              "      <td>강릉시</td>\n",
              "      <td>모전리(강동면)</td>\n",
              "      <td>강릉</td>\n",
              "    </tr>\n",
              "    <tr>\n",
              "      <th>1</th>\n",
              "      <td>강원도 강릉시 견소동</td>\n",
              "      <td>단독</td>\n",
              "      <td>12.0</td>\n",
              "      <td>35.60</td>\n",
              "      <td>81.0</td>\n",
              "      <td>4000.0</td>\n",
              "      <td>1990.0</td>\n",
              "      <td>2018</td>\n",
              "      <td>1</td>\n",
              "      <td>강원도</td>\n",
              "      <td>강릉시</td>\n",
              "      <td>견소동</td>\n",
              "      <td>강릉</td>\n",
              "    </tr>\n",
              "    <tr>\n",
              "      <th>2</th>\n",
              "      <td>강원도 강릉시 교동</td>\n",
              "      <td>단독</td>\n",
              "      <td>12.0</td>\n",
              "      <td>99.90</td>\n",
              "      <td>160.0</td>\n",
              "      <td>16500.0</td>\n",
              "      <td>1982.0</td>\n",
              "      <td>2018</td>\n",
              "      <td>1</td>\n",
              "      <td>강원도</td>\n",
              "      <td>강릉시</td>\n",
              "      <td>교동</td>\n",
              "      <td>강릉</td>\n",
              "    </tr>\n",
              "    <tr>\n",
              "      <th>3</th>\n",
              "      <td>강원도 강릉시 교동</td>\n",
              "      <td>단독</td>\n",
              "      <td>12.0</td>\n",
              "      <td>326.88</td>\n",
              "      <td>211.6</td>\n",
              "      <td>64300.0</td>\n",
              "      <td>2005.0</td>\n",
              "      <td>2018</td>\n",
              "      <td>1</td>\n",
              "      <td>강원도</td>\n",
              "      <td>강릉시</td>\n",
              "      <td>교동</td>\n",
              "      <td>강릉</td>\n",
              "    </tr>\n",
              "    <tr>\n",
              "      <th>4</th>\n",
              "      <td>강원도 강릉시 교동</td>\n",
              "      <td>단독</td>\n",
              "      <td>8.0</td>\n",
              "      <td>154.99</td>\n",
              "      <td>240.2</td>\n",
              "      <td>19000.0</td>\n",
              "      <td>1980.0</td>\n",
              "      <td>2018</td>\n",
              "      <td>1</td>\n",
              "      <td>강원도</td>\n",
              "      <td>강릉시</td>\n",
              "      <td>교동</td>\n",
              "      <td>강릉</td>\n",
              "    </tr>\n",
              "  </tbody>\n",
              "</table>\n",
              "</div>"
            ],
            "text/plain": [
              "               시군구 주택유형  도로조건  연면적(㎡)  대지면적(㎡)  ...  월  SiDo  SiGunGu    DongLi  ID\n",
              "0  강원도 강릉시 강동면 모전리   단독   8.0   64.20    205.0  ...  1   강원도      강릉시  모전리(강동면)  강릉\n",
              "1      강원도 강릉시 견소동   단독  12.0   35.60     81.0  ...  1   강원도      강릉시       견소동  강릉\n",
              "2       강원도 강릉시 교동   단독  12.0   99.90    160.0  ...  1   강원도      강릉시        교동  강릉\n",
              "3       강원도 강릉시 교동   단독  12.0  326.88    211.6  ...  1   강원도      강릉시        교동  강릉\n",
              "4       강원도 강릉시 교동   단독   8.0  154.99    240.2  ...  1   강원도      강릉시        교동  강릉\n",
              "\n",
              "[5 rows x 13 columns]"
            ]
          },
          "metadata": {
            "tags": []
          },
          "execution_count": 24
        }
      ]
    },
    {
      "cell_type": "code",
      "metadata": {
        "colab": {
          "base_uri": "https://localhost:8080/"
        },
        "id": "_O8t02JmBpho",
        "outputId": "5ea15bc1-fe16-4fa0-dcdc-5c97b24d253e"
      },
      "source": [
        "df['SiDo'].unique()"
      ],
      "execution_count": null,
      "outputs": [
        {
          "output_type": "execute_result",
          "data": {
            "text/plain": [
              "array(['강원도', '경기도', '경상남도', '경상북도', '광주광역시', '대구광역시', '대전광역시', '부산광역시',\n",
              "       '서울특별시', '세종특별자치시', '울산광역시', '인천광역시', '전라남도', '전라북도', '제주특별자치도',\n",
              "       '충청남도', '충청북도'], dtype=object)"
            ]
          },
          "metadata": {
            "tags": []
          },
          "execution_count": 25
        }
      ]
    },
    {
      "cell_type": "code",
      "metadata": {
        "colab": {
          "base_uri": "https://localhost:8080/"
        },
        "id": "by2BKEVDBudn",
        "outputId": "6f94baed-7e76-4658-8662-7413e90fb07c"
      },
      "source": [
        "df['SiGunGu'].unique()"
      ],
      "execution_count": null,
      "outputs": [
        {
          "output_type": "execute_result",
          "data": {
            "text/plain": [
              "array(['강릉시', '고성군', '동해시', '삼척시', '속초시', '양구군', '양양군', '영월군', '원주시',\n",
              "       '인제군', '정선군', '철원군', '춘천시', '태백시', '평창군', '홍천군', '화천군', '횡성군',\n",
              "       '가평군', '고양덕양구', '고양일산동구', '고양일산서구', '과천시', '광명시', '광주시', '구리시',\n",
              "       '군포시', '김포시', '남양주시', '동두천시', '부천시', '성남분당구', '성남수정구', '성남중원구',\n",
              "       '수원권선구', '수원영통구', '수원장안구', '수원팔달구', '시흥시', '안산단원구', '안산상록구', '안성시',\n",
              "       '안양동안구', '안양만안구', '양주시', '양평군', '여주시', '연천군', '오산시', '용인기흥구',\n",
              "       '용인수지구', '용인처인구', '의왕시', '의정부시', '이천시', '파주시', '평택시', '포천시', '하남시',\n",
              "       '화성시', '거제시', '거창군', '김해시', '남해군', '밀양시', '사천시', '산청군', '양산시',\n",
              "       '의령군', '진주시', '창녕군', '창원마산합포구', '창원마산회원구', '창원성산구', '창원의창구',\n",
              "       '창원진해구', '통영시', '하동군', '함안군', '함양군', '합천군', '경산시', '경주시', '고령군',\n",
              "       '구미시', '군위군', '김천시', '문경시', '봉화군', '상주시', '성주군', '안동시', '영덕군',\n",
              "       '영양군', '영주시', '영천시', '예천군', '울릉군', '울진군', '의성군', '청도군', '청송군',\n",
              "       '칠곡군', '포항남구', '포항북구', '광산구', '남구', '동구', '북구', '서구', '달서구', '달성군',\n",
              "       '수성구', '중구', '대덕구', '유성구', '강서구', '금정구', '기장군', '동래구', '부산진구',\n",
              "       '사상구', '사하구', '수영구', '연제구', '영도구', '해운대구', '강남구', '강동구', '강북구',\n",
              "       '관악구', '광진구', '구로구', '금천구', '노원구', '도봉구', '동대문구', '동작구', '마포구',\n",
              "       '서대문구', '서초구', '성동구', '성북구', '송파구', '양천구', '영등포구', '용산구', '은평구',\n",
              "       '종로구', '중랑구', '금남면', '연서면', '장군면', '전동면', '전의면', '조치원읍', '울주군',\n",
              "       '강화군', '계양구', '남동구', '미추홀구', '부평구', '연수구', '옹진군', '강진군', '고흥군',\n",
              "       '곡성군', '광양시', '구례군', '나주시', '담양군', '목포시', '무안군', '보성군', '순천시',\n",
              "       '신안군', '여수시', '영광군', '영암군', '완도군', '장성군', '장흥군', '진도군', '함평군',\n",
              "       '해남군', '화순군', '고창군', '군산시', '김제시', '남원시', '무주군', '부안군', '순창군',\n",
              "       '완주군', '익산시', '임실군', '장수군', '전주덕진구', '전주완산구', '정읍시', '진안군', '서귀포시',\n",
              "       '제주시', '계룡시', '공주시', '금산군', '논산시', '당진시', '보령시', '부여군', '서산시',\n",
              "       '서천군', '아산시', '예산군', '천안동남구', '천안서북구', '청양군', '태안군', '홍성군', '괴산군',\n",
              "       '단양군', '보은군', '영동군', '옥천군', '음성군', '제천시', '증평군', '진천군', '청주상당구',\n",
              "       '청주서원구', '청주청원구', '청주흥덕구', '충주시', '부강면', '연동면', '소정면', '연기면',\n",
              "       '고운동'], dtype=object)"
            ]
          },
          "metadata": {
            "tags": []
          },
          "execution_count": 26
        }
      ]
    },
    {
      "cell_type": "code",
      "metadata": {
        "colab": {
          "base_uri": "https://localhost:8080/"
        },
        "id": "n7hqqPXvBz0w",
        "outputId": "d35bfd8e-3d0d-4301-c92f-b360c5ec8f59"
      },
      "source": [
        "df['ID'].unique()"
      ],
      "execution_count": null,
      "outputs": [
        {
          "output_type": "execute_result",
          "data": {
            "text/plain": [
              "array(['강릉', '고성', '동해', '삼척', '속초', '양구', '양양', '영월', '원주', '인제', '정선',\n",
              "       '철원', '춘천', '태백', '평창', '홍천', '화천', '횡성', '가평', '고양 덕양', '고양 일산동',\n",
              "       '고양 일산서', '과천', '광명', '광주', '구리', '군포', '김포', '남양주', '동두천', '부천',\n",
              "       '성남 분당', '성남 수정', '성남 중원', '수원 권선', '수원 영통', '수원 장안', '수원 팔달',\n",
              "       '시흥', '안산 단원', '안산 상록', '안성', '안양 동안', '안양 만안', '양주', '양평', '여주',\n",
              "       '연천', '오산', '용인 기흥', '용인 수지', '용인 처인', '의왕', '의정부', '이천', '파주',\n",
              "       '평택', '포천', '하남', '화성', '거제', '거창', '김해', '남해', '밀양', '사천', '산청',\n",
              "       '양산', '의령', '진주', '창녕', '창원 마산합포', '창원 마산회원', '창원 성산', '창원 의창',\n",
              "       '창원 진해', '통영', '하동', '함안', '함양', '합천', '경산', '경주', '고령', '구미',\n",
              "       '군위', '김천', '문경', '봉화', '상주', '성주', '안동', '영덕', '영양', '영주', '영천',\n",
              "       '예천', '울릉', '울진', '의성', '청도', '청송', '칠곡', '포항 남', '포항 북', '광주 광산',\n",
              "       '광주 남구', '광주 동구', '광주 북구', '광주 서구', '대구 남구', '대구 달서', '대구 달성',\n",
              "       '대구 동구', '대구 북구', '대구 서구', '대구 수성', '대구 중구', '대전 대덕', '대전 동구',\n",
              "       '대전 서구', '대전 유성', '대전 중구', '부산 강서', '부산 금정', '부산 기장', '부산 남구',\n",
              "       '부산 동구', '부산 동래', '부산 부산진', '부산 북구', '부산 사상', '부산 사하', '부산 서구',\n",
              "       '부산 수영', '부산 연제', '부산 영도', '부산 중구', '부산 해운대', '서울 강남', '서울 강동',\n",
              "       '서울 강북', '서울 강서', '서울 관악', '서울 광진', '서울 구로', '서울 금천', '서울 노원',\n",
              "       '서울 도봉', '서울 동대문', '서울 동작', '서울 마포', '서울 서대문', '서울 서초', '서울 성동',\n",
              "       '서울 성북', '서울 송파', '서울 양천', '서울 영등포', '서울 용산', '서울 은평', '서울 종로',\n",
              "       '서울 중구', '서울 중랑', '세종', '울산 남구', '울산 동구', '울산 북구', '울산 울주',\n",
              "       '울산 중구', '인천 강화', '인천 계양', '인천 남동', '인천 동구', '인천 미추홀', '인천 부평',\n",
              "       '인천 서구', '인천 연수', '인천 옹진', '인천 중구', '강진', '고흥', '곡성', '광양', '구례',\n",
              "       '나주', '담양', '목포', '무안', '보성', '순천', '신안', '여수', '영광', '영암', '완도',\n",
              "       '장성', '장흥', '진도', '함평', '해남', '화순', '고창', '군산', '김제', '남원', '무주',\n",
              "       '부안', '순창', '완주', '익산', '임실', '장수', '전주 덕진', '전주 완산', '정읍', '진안',\n",
              "       '서귀포', '제주', '계룡', '공주', '금산', '논산', '당진', '보령', '부여', '서산', '서천',\n",
              "       '아산', '예산', '천안 동남', '천안 서북', '청양', '태안', '홍성', '괴산', '단양', '보은',\n",
              "       '영동', '옥천', '음성', '제천', '증평', '진천', '청주 상당', '청주 서원', '청주 청원',\n",
              "       '청주 흥덕', '충주'], dtype=object)"
            ]
          },
          "metadata": {
            "tags": []
          },
          "execution_count": 27
        }
      ]
    },
    {
      "cell_type": "code",
      "metadata": {
        "id": "nboRSo-nCBNf"
      },
      "source": [
        "# df.to_excel('gh_data/2018_modified_data.xlsx', index = None, encoding = 'utf-8') # 파일 저장"
      ],
      "execution_count": null,
      "outputs": []
    },
    {
      "cell_type": "code",
      "metadata": {
        "id": "JJU_vR48CJqn"
      },
      "source": [
        ""
      ],
      "execution_count": null,
      "outputs": []
    },
    {
      "cell_type": "code",
      "metadata": {
        "id": "tcWX2z5XCgPC"
      },
      "source": [
        "import seaborn as sns\n",
        "from pandas.plotting import scatter_matrix\n",
        "import matplotlib.pyplot as plt"
      ],
      "execution_count": null,
      "outputs": []
    },
    {
      "cell_type": "code",
      "metadata": {
        "id": "lJ2cDkm8Cgpo"
      },
      "source": [
        "# df = pd.read_excel('gh_data/2018_modified_data.xlsx', index_col = None, header = 0, encoding = 'utf-8')\n",
        "house_data = df.copy()"
      ],
      "execution_count": null,
      "outputs": []
    },
    {
      "cell_type": "code",
      "metadata": {
        "colab": {
          "base_uri": "https://localhost:8080/",
          "height": 195
        },
        "id": "JxswZ2ZFCqGg",
        "outputId": "cd56e609-d085-4631-c18d-2cd788665d65"
      },
      "source": [
        "house_data.head()"
      ],
      "execution_count": null,
      "outputs": [
        {
          "output_type": "execute_result",
          "data": {
            "text/html": [
              "<div>\n",
              "<style scoped>\n",
              "    .dataframe tbody tr th:only-of-type {\n",
              "        vertical-align: middle;\n",
              "    }\n",
              "\n",
              "    .dataframe tbody tr th {\n",
              "        vertical-align: top;\n",
              "    }\n",
              "\n",
              "    .dataframe thead th {\n",
              "        text-align: right;\n",
              "    }\n",
              "</style>\n",
              "<table border=\"1\" class=\"dataframe\">\n",
              "  <thead>\n",
              "    <tr style=\"text-align: right;\">\n",
              "      <th></th>\n",
              "      <th>시군구</th>\n",
              "      <th>주택유형</th>\n",
              "      <th>도로조건</th>\n",
              "      <th>연면적(㎡)</th>\n",
              "      <th>대지면적(㎡)</th>\n",
              "      <th>거래금액(만원)</th>\n",
              "      <th>건축년도</th>\n",
              "      <th>연도</th>\n",
              "      <th>월</th>\n",
              "      <th>SiDo</th>\n",
              "      <th>SiGunGu</th>\n",
              "      <th>DongLi</th>\n",
              "      <th>ID</th>\n",
              "    </tr>\n",
              "  </thead>\n",
              "  <tbody>\n",
              "    <tr>\n",
              "      <th>0</th>\n",
              "      <td>강원도 강릉시 강동면 모전리</td>\n",
              "      <td>단독</td>\n",
              "      <td>8.0</td>\n",
              "      <td>64.20</td>\n",
              "      <td>205.0</td>\n",
              "      <td>10520.0</td>\n",
              "      <td>2018.0</td>\n",
              "      <td>2018</td>\n",
              "      <td>1</td>\n",
              "      <td>강원도</td>\n",
              "      <td>강릉시</td>\n",
              "      <td>모전리(강동면)</td>\n",
              "      <td>강릉</td>\n",
              "    </tr>\n",
              "    <tr>\n",
              "      <th>1</th>\n",
              "      <td>강원도 강릉시 견소동</td>\n",
              "      <td>단독</td>\n",
              "      <td>12.0</td>\n",
              "      <td>35.60</td>\n",
              "      <td>81.0</td>\n",
              "      <td>4000.0</td>\n",
              "      <td>1990.0</td>\n",
              "      <td>2018</td>\n",
              "      <td>1</td>\n",
              "      <td>강원도</td>\n",
              "      <td>강릉시</td>\n",
              "      <td>견소동</td>\n",
              "      <td>강릉</td>\n",
              "    </tr>\n",
              "    <tr>\n",
              "      <th>2</th>\n",
              "      <td>강원도 강릉시 교동</td>\n",
              "      <td>단독</td>\n",
              "      <td>12.0</td>\n",
              "      <td>99.90</td>\n",
              "      <td>160.0</td>\n",
              "      <td>16500.0</td>\n",
              "      <td>1982.0</td>\n",
              "      <td>2018</td>\n",
              "      <td>1</td>\n",
              "      <td>강원도</td>\n",
              "      <td>강릉시</td>\n",
              "      <td>교동</td>\n",
              "      <td>강릉</td>\n",
              "    </tr>\n",
              "    <tr>\n",
              "      <th>3</th>\n",
              "      <td>강원도 강릉시 교동</td>\n",
              "      <td>단독</td>\n",
              "      <td>12.0</td>\n",
              "      <td>326.88</td>\n",
              "      <td>211.6</td>\n",
              "      <td>64300.0</td>\n",
              "      <td>2005.0</td>\n",
              "      <td>2018</td>\n",
              "      <td>1</td>\n",
              "      <td>강원도</td>\n",
              "      <td>강릉시</td>\n",
              "      <td>교동</td>\n",
              "      <td>강릉</td>\n",
              "    </tr>\n",
              "    <tr>\n",
              "      <th>4</th>\n",
              "      <td>강원도 강릉시 교동</td>\n",
              "      <td>단독</td>\n",
              "      <td>8.0</td>\n",
              "      <td>154.99</td>\n",
              "      <td>240.2</td>\n",
              "      <td>19000.0</td>\n",
              "      <td>1980.0</td>\n",
              "      <td>2018</td>\n",
              "      <td>1</td>\n",
              "      <td>강원도</td>\n",
              "      <td>강릉시</td>\n",
              "      <td>교동</td>\n",
              "      <td>강릉</td>\n",
              "    </tr>\n",
              "  </tbody>\n",
              "</table>\n",
              "</div>"
            ],
            "text/plain": [
              "               시군구 주택유형  도로조건  연면적(㎡)  대지면적(㎡)  ...  월  SiDo  SiGunGu    DongLi  ID\n",
              "0  강원도 강릉시 강동면 모전리   단독   8.0   64.20    205.0  ...  1   강원도      강릉시  모전리(강동면)  강릉\n",
              "1      강원도 강릉시 견소동   단독  12.0   35.60     81.0  ...  1   강원도      강릉시       견소동  강릉\n",
              "2       강원도 강릉시 교동   단독  12.0   99.90    160.0  ...  1   강원도      강릉시        교동  강릉\n",
              "3       강원도 강릉시 교동   단독  12.0  326.88    211.6  ...  1   강원도      강릉시        교동  강릉\n",
              "4       강원도 강릉시 교동   단독   8.0  154.99    240.2  ...  1   강원도      강릉시        교동  강릉\n",
              "\n",
              "[5 rows x 13 columns]"
            ]
          },
          "metadata": {
            "tags": []
          },
          "execution_count": 30
        }
      ]
    },
    {
      "cell_type": "code",
      "metadata": {
        "colab": {
          "base_uri": "https://localhost:8080/",
          "height": 195
        },
        "id": "8bNe8jb2C0BX",
        "outputId": "7afeecd0-1cf3-4487-9769-a5346a04ee74"
      },
      "source": [
        "del house_data['시군구']\n",
        "house_data.head()"
      ],
      "execution_count": null,
      "outputs": [
        {
          "output_type": "execute_result",
          "data": {
            "text/html": [
              "<div>\n",
              "<style scoped>\n",
              "    .dataframe tbody tr th:only-of-type {\n",
              "        vertical-align: middle;\n",
              "    }\n",
              "\n",
              "    .dataframe tbody tr th {\n",
              "        vertical-align: top;\n",
              "    }\n",
              "\n",
              "    .dataframe thead th {\n",
              "        text-align: right;\n",
              "    }\n",
              "</style>\n",
              "<table border=\"1\" class=\"dataframe\">\n",
              "  <thead>\n",
              "    <tr style=\"text-align: right;\">\n",
              "      <th></th>\n",
              "      <th>주택유형</th>\n",
              "      <th>도로조건</th>\n",
              "      <th>연면적(㎡)</th>\n",
              "      <th>대지면적(㎡)</th>\n",
              "      <th>거래금액(만원)</th>\n",
              "      <th>건축년도</th>\n",
              "      <th>연도</th>\n",
              "      <th>월</th>\n",
              "      <th>SiDo</th>\n",
              "      <th>SiGunGu</th>\n",
              "      <th>DongLi</th>\n",
              "      <th>ID</th>\n",
              "    </tr>\n",
              "  </thead>\n",
              "  <tbody>\n",
              "    <tr>\n",
              "      <th>0</th>\n",
              "      <td>단독</td>\n",
              "      <td>8.0</td>\n",
              "      <td>64.20</td>\n",
              "      <td>205.0</td>\n",
              "      <td>10520.0</td>\n",
              "      <td>2018.0</td>\n",
              "      <td>2018</td>\n",
              "      <td>1</td>\n",
              "      <td>강원도</td>\n",
              "      <td>강릉시</td>\n",
              "      <td>모전리(강동면)</td>\n",
              "      <td>강릉</td>\n",
              "    </tr>\n",
              "    <tr>\n",
              "      <th>1</th>\n",
              "      <td>단독</td>\n",
              "      <td>12.0</td>\n",
              "      <td>35.60</td>\n",
              "      <td>81.0</td>\n",
              "      <td>4000.0</td>\n",
              "      <td>1990.0</td>\n",
              "      <td>2018</td>\n",
              "      <td>1</td>\n",
              "      <td>강원도</td>\n",
              "      <td>강릉시</td>\n",
              "      <td>견소동</td>\n",
              "      <td>강릉</td>\n",
              "    </tr>\n",
              "    <tr>\n",
              "      <th>2</th>\n",
              "      <td>단독</td>\n",
              "      <td>12.0</td>\n",
              "      <td>99.90</td>\n",
              "      <td>160.0</td>\n",
              "      <td>16500.0</td>\n",
              "      <td>1982.0</td>\n",
              "      <td>2018</td>\n",
              "      <td>1</td>\n",
              "      <td>강원도</td>\n",
              "      <td>강릉시</td>\n",
              "      <td>교동</td>\n",
              "      <td>강릉</td>\n",
              "    </tr>\n",
              "    <tr>\n",
              "      <th>3</th>\n",
              "      <td>단독</td>\n",
              "      <td>12.0</td>\n",
              "      <td>326.88</td>\n",
              "      <td>211.6</td>\n",
              "      <td>64300.0</td>\n",
              "      <td>2005.0</td>\n",
              "      <td>2018</td>\n",
              "      <td>1</td>\n",
              "      <td>강원도</td>\n",
              "      <td>강릉시</td>\n",
              "      <td>교동</td>\n",
              "      <td>강릉</td>\n",
              "    </tr>\n",
              "    <tr>\n",
              "      <th>4</th>\n",
              "      <td>단독</td>\n",
              "      <td>8.0</td>\n",
              "      <td>154.99</td>\n",
              "      <td>240.2</td>\n",
              "      <td>19000.0</td>\n",
              "      <td>1980.0</td>\n",
              "      <td>2018</td>\n",
              "      <td>1</td>\n",
              "      <td>강원도</td>\n",
              "      <td>강릉시</td>\n",
              "      <td>교동</td>\n",
              "      <td>강릉</td>\n",
              "    </tr>\n",
              "  </tbody>\n",
              "</table>\n",
              "</div>"
            ],
            "text/plain": [
              "  주택유형  도로조건  연면적(㎡)  대지면적(㎡)  거래금액(만원)  ...  월  SiDo  SiGunGu    DongLi  ID\n",
              "0   단독   8.0   64.20    205.0   10520.0  ...  1   강원도      강릉시  모전리(강동면)  강릉\n",
              "1   단독  12.0   35.60     81.0    4000.0  ...  1   강원도      강릉시       견소동  강릉\n",
              "2   단독  12.0   99.90    160.0   16500.0  ...  1   강원도      강릉시        교동  강릉\n",
              "3   단독  12.0  326.88    211.6   64300.0  ...  1   강원도      강릉시        교동  강릉\n",
              "4   단독   8.0  154.99    240.2   19000.0  ...  1   강원도      강릉시        교동  강릉\n",
              "\n",
              "[5 rows x 12 columns]"
            ]
          },
          "metadata": {
            "tags": []
          },
          "execution_count": 31
        }
      ]
    },
    {
      "cell_type": "code",
      "metadata": {
        "id": "OTmjuu-YC2jf"
      },
      "source": [
        "# 데이터 탐색"
      ],
      "execution_count": null,
      "outputs": []
    },
    {
      "cell_type": "code",
      "metadata": {
        "id": "nq9O_8czDKQD"
      },
      "source": [
        "# 한글 폰트 설정\n",
        "#import matplotlib as mpl\n",
        "#mpl.rc('font', family = 'Malgun Gothic')\n",
        "\n",
        "#%matplotlib inline\n",
        "#mpl.rcParams['axes.unicode_minus'] = False"
      ],
      "execution_count": null,
      "outputs": []
    },
    {
      "cell_type": "code",
      "metadata": {
        "colab": {
          "base_uri": "https://localhost:8080/"
        },
        "id": "ahWOM9eLC7na",
        "outputId": "8375477a-5f52-4105-d6f3-6e6583b4c104"
      },
      "source": [
        "house_data['주택유형'].unique()"
      ],
      "execution_count": null,
      "outputs": [
        {
          "output_type": "execute_result",
          "data": {
            "text/plain": [
              "array(['단독', '다가구'], dtype=object)"
            ]
          },
          "metadata": {
            "tags": []
          },
          "execution_count": 33
        }
      ]
    },
    {
      "cell_type": "code",
      "metadata": {
        "colab": {
          "base_uri": "https://localhost:8080/"
        },
        "id": "yspEtYnvC9aH",
        "outputId": "c63b6153-3aab-4d2e-b807-c94e47650627"
      },
      "source": [
        "house_data['주택유형'][house_data['주택유형'] == '단독'].count(), house_data['주택유형'][house_data['주택유형'] == '다가구'].count()"
      ],
      "execution_count": null,
      "outputs": [
        {
          "output_type": "execute_result",
          "data": {
            "text/plain": [
              "(84367, 8789)"
            ]
          },
          "metadata": {
            "tags": []
          },
          "execution_count": 34
        }
      ]
    },
    {
      "cell_type": "code",
      "metadata": {
        "colab": {
          "base_uri": "https://localhost:8080/",
          "height": 836
        },
        "id": "8w9WA4zMC_hg",
        "outputId": "435bb469-378f-4e95-8368-2d89fe87a8b3"
      },
      "source": [
        "fig_pie = plt.figure(figsize = (8, 8))\n",
        "house_type = house_data['주택유형'].unique()\n",
        "num1 = house_data['주택유형'][house_data['주택유형'] == '단독'].count()\n",
        "num2 = house_data['주택유형'][house_data['주택유형'] == '다가구'].count()\n",
        "num_type = [num1, num2]\n",
        "\n",
        "plt.rcParams['text.color'] = 'Navy'\n",
        "a, b = [plt.cm.Blues, plt.cm.Reds]\n",
        "plt.pie(num_type, labels = house_type, colors = [a(0.6), b(0.6)], autopct = '%.2f',\n",
        "       wedgeprops = {'linewidth' : 7, 'edgecolor' : 'white'},\n",
        "       textprops = {'fontsize' : 18})\n",
        "\n",
        "plt.show()"
      ],
      "execution_count": null,
      "outputs": [
        {
          "output_type": "stream",
          "text": [
            "findfont: Font family ['NanumBarunGothic'] not found. Falling back to DejaVu Sans.\n",
            "/usr/local/lib/python3.7/dist-packages/matplotlib/backends/backend_agg.py:214: RuntimeWarning: Glyph 45800 missing from current font.\n",
            "  font.set_text(s, 0.0, flags=flags)\n",
            "/usr/local/lib/python3.7/dist-packages/matplotlib/backends/backend_agg.py:214: RuntimeWarning: Glyph 46021 missing from current font.\n",
            "  font.set_text(s, 0.0, flags=flags)\n",
            "/usr/local/lib/python3.7/dist-packages/matplotlib/backends/backend_agg.py:214: RuntimeWarning: Glyph 45796 missing from current font.\n",
            "  font.set_text(s, 0.0, flags=flags)\n",
            "/usr/local/lib/python3.7/dist-packages/matplotlib/backends/backend_agg.py:214: RuntimeWarning: Glyph 44032 missing from current font.\n",
            "  font.set_text(s, 0.0, flags=flags)\n",
            "/usr/local/lib/python3.7/dist-packages/matplotlib/backends/backend_agg.py:214: RuntimeWarning: Glyph 44396 missing from current font.\n",
            "  font.set_text(s, 0.0, flags=flags)\n",
            "/usr/local/lib/python3.7/dist-packages/matplotlib/backends/backend_agg.py:183: RuntimeWarning: Glyph 45800 missing from current font.\n",
            "  font.set_text(s, 0, flags=flags)\n",
            "/usr/local/lib/python3.7/dist-packages/matplotlib/backends/backend_agg.py:183: RuntimeWarning: Glyph 46021 missing from current font.\n",
            "  font.set_text(s, 0, flags=flags)\n",
            "/usr/local/lib/python3.7/dist-packages/matplotlib/backends/backend_agg.py:183: RuntimeWarning: Glyph 45796 missing from current font.\n",
            "  font.set_text(s, 0, flags=flags)\n",
            "/usr/local/lib/python3.7/dist-packages/matplotlib/backends/backend_agg.py:183: RuntimeWarning: Glyph 44032 missing from current font.\n",
            "  font.set_text(s, 0, flags=flags)\n",
            "/usr/local/lib/python3.7/dist-packages/matplotlib/backends/backend_agg.py:183: RuntimeWarning: Glyph 44396 missing from current font.\n",
            "  font.set_text(s, 0, flags=flags)\n"
          ],
          "name": "stderr"
        },
        {
          "output_type": "display_data",
          "data": {
            "image/png": "[encoded data removed]",
            "text/plain": [
              "<Figure size 576x576 with 1 Axes>"
            ]
          },
          "metadata": {
            "tags": []
          }
        }
      ]
    },
    {
      "cell_type": "code",
      "metadata": {
        "colab": {
          "base_uri": "https://localhost:8080/"
        },
        "id": "SThCvSc0DYCx",
        "outputId": "c48f075b-e71a-4feb-e806-54e4efef0b8d"
      },
      "source": [
        "house_data['도로조건'].value_counts()"
      ],
      "execution_count": null,
      "outputs": [
        {
          "output_type": "execute_result",
          "data": {
            "text/plain": [
              "8.0     68171\n",
              "12.0    18450\n",
              "25.0     4078\n",
              "0.0      1365\n",
              "26.0     1092\n",
              "Name: 도로조건, dtype: int64"
            ]
          },
          "metadata": {
            "tags": []
          },
          "execution_count": 36
        }
      ]
    },
    {
      "cell_type": "code",
      "metadata": {
        "id": "VPWucEeCDBo_"
      },
      "source": [
        "house_data = house_data[house_data['도로조건'] > 0] # 도로가 없는 경우 제거"
      ],
      "execution_count": null,
      "outputs": []
    },
    {
      "cell_type": "code",
      "metadata": {
        "colab": {
          "base_uri": "https://localhost:8080/",
          "height": 466
        },
        "id": "9CtlBLdQHMtO",
        "outputId": "cf6da0e9-860f-42fe-cf59-de320a4d9ec9"
      },
      "source": [
        "fig_pie = plt.figure(figsize = (8, 8))\n",
        "house_type = house_data['도로조건'].unique()\n",
        "num1 = house_data['도로조건'][house_data['도로조건'] == 8].count()\n",
        "num2 = house_data['도로조건'][house_data['도로조건'] == 12].count()\n",
        "num3 = house_data['도로조건'][house_data['도로조건'] == 25].count()\n",
        "num4 = house_data['도로조건'][house_data['도로조건'] == 26].count()\n",
        "num_road = [num1, num2, num3, num4]\n",
        "\n",
        "plt.rcParams['text.color'] = 'Navy'\n",
        "plt.pie(num_road, labels = house_type, autopct = '%.2f',\n",
        "       wedgeprops = {'linewidth' : 7, 'edgecolor' : 'white'},\n",
        "       textprops = {'fontsize' : 18})\n",
        "\n",
        "plt.show()"
      ],
      "execution_count": null,
      "outputs": [
        {
          "output_type": "display_data",
          "data": {
            "image/png": "[encoded data removed]",
            "text/plain": [
              "<Figure size 576x576 with 1 Axes>"
            ]
          },
          "metadata": {
            "tags": []
          }
        }
      ]
    },
    {
      "cell_type": "code",
      "metadata": {
        "colab": {
          "base_uri": "https://localhost:8080/",
          "height": 282
        },
        "id": "R8XnkaCkIrpm",
        "outputId": "cd1f2dca-2c6f-456f-a0eb-d87e0d4f588f"
      },
      "source": [
        "house_data['대지면적(㎡)'].plot(kind='hist')"
      ],
      "execution_count": null,
      "outputs": [
        {
          "output_type": "execute_result",
          "data": {
            "text/plain": [
              "<matplotlib.axes._subplots.AxesSubplot at 0x7fba023c8c50>"
            ]
          },
          "metadata": {
            "tags": []
          },
          "execution_count": 39
        },
        {
          "output_type": "stream",
          "text": [
            "findfont: Font family ['NanumBarunGothic'] not found. Falling back to DejaVu Sans.\n"
          ],
          "name": "stderr"
        },
        {
          "output_type": "display_data",
          "data": {
            "image/png": "[encoded data removed]",
            "text/plain": [
              "<Figure size 432x288 with 1 Axes>"
            ]
          },
          "metadata": {
            "tags": [],
            "needs_background": "light"
          }
        }
      ]
    },
    {
      "cell_type": "code",
      "metadata": {
        "colab": {
          "base_uri": "https://localhost:8080/",
          "height": 1000
        },
        "id": "emrSy_tMJTe7",
        "outputId": "2d906284-f168-41db-b58d-21eec684c5d3"
      },
      "source": [
        "fig_hist = plt.figure(figsize = (16, 8))\n",
        "\n",
        "plt.hist(house_data['거래금액(만원)'])\n",
        "plt.xticks(fontsize = 15)\n",
        "plt.yticks(fontsize = 15)\n",
        "plt.xlabel('거래금액(만원)')\n",
        "plt.ylabel('부동산 거래 (건)', fontsize = 18)\n",
        "\n",
        "plt.show()"
      ],
      "execution_count": null,
      "outputs": [
        {
          "output_type": "stream",
          "text": [
            "findfont: Font family ['NanumBarunGothic'] not found. Falling back to DejaVu Sans.\n",
            "/usr/local/lib/python3.7/dist-packages/matplotlib/backends/backend_agg.py:214: RuntimeWarning: Glyph 44144 missing from current font.\n",
            "  font.set_text(s, 0.0, flags=flags)\n",
            "/usr/local/lib/python3.7/dist-packages/matplotlib/backends/backend_agg.py:214: RuntimeWarning: Glyph 47000 missing from current font.\n",
            "  font.set_text(s, 0.0, flags=flags)\n",
            "/usr/local/lib/python3.7/dist-packages/matplotlib/backends/backend_agg.py:214: RuntimeWarning: Glyph 44552 missing from current font.\n",
            "  font.set_text(s, 0.0, flags=flags)\n",
            "/usr/local/lib/python3.7/dist-packages/matplotlib/backends/backend_agg.py:214: RuntimeWarning: Glyph 50529 missing from current font.\n",
            "  font.set_text(s, 0.0, flags=flags)\n",
            "/usr/local/lib/python3.7/dist-packages/matplotlib/backends/backend_agg.py:214: RuntimeWarning: Glyph 47564 missing from current font.\n",
            "  font.set_text(s, 0.0, flags=flags)\n",
            "/usr/local/lib/python3.7/dist-packages/matplotlib/backends/backend_agg.py:214: RuntimeWarning: Glyph 50896 missing from current font.\n",
            "  font.set_text(s, 0.0, flags=flags)\n",
            "/usr/local/lib/python3.7/dist-packages/matplotlib/backends/backend_agg.py:214: RuntimeWarning: Glyph 48512 missing from current font.\n",
            "  font.set_text(s, 0.0, flags=flags)\n",
            "/usr/local/lib/python3.7/dist-packages/matplotlib/backends/backend_agg.py:214: RuntimeWarning: Glyph 46041 missing from current font.\n",
            "  font.set_text(s, 0.0, flags=flags)\n",
            "/usr/local/lib/python3.7/dist-packages/matplotlib/backends/backend_agg.py:214: RuntimeWarning: Glyph 49328 missing from current font.\n",
            "  font.set_text(s, 0.0, flags=flags)\n",
            "/usr/local/lib/python3.7/dist-packages/matplotlib/backends/backend_agg.py:214: RuntimeWarning: Glyph 44148 missing from current font.\n",
            "  font.set_text(s, 0.0, flags=flags)\n",
            "/usr/local/lib/python3.7/dist-packages/matplotlib/backends/backend_agg.py:183: RuntimeWarning: Glyph 44144 missing from current font.\n",
            "  font.set_text(s, 0, flags=flags)\n",
            "/usr/local/lib/python3.7/dist-packages/matplotlib/backends/backend_agg.py:183: RuntimeWarning: Glyph 47000 missing from current font.\n",
            "  font.set_text(s, 0, flags=flags)\n",
            "/usr/local/lib/python3.7/dist-packages/matplotlib/backends/backend_agg.py:183: RuntimeWarning: Glyph 44552 missing from current font.\n",
            "  font.set_text(s, 0, flags=flags)\n",
            "/usr/local/lib/python3.7/dist-packages/matplotlib/backends/backend_agg.py:183: RuntimeWarning: Glyph 50529 missing from current font.\n",
            "  font.set_text(s, 0, flags=flags)\n",
            "/usr/local/lib/python3.7/dist-packages/matplotlib/backends/backend_agg.py:183: RuntimeWarning: Glyph 47564 missing from current font.\n",
            "  font.set_text(s, 0, flags=flags)\n",
            "/usr/local/lib/python3.7/dist-packages/matplotlib/backends/backend_agg.py:183: RuntimeWarning: Glyph 50896 missing from current font.\n",
            "  font.set_text(s, 0, flags=flags)\n",
            "/usr/local/lib/python3.7/dist-packages/matplotlib/backends/backend_agg.py:183: RuntimeWarning: Glyph 48512 missing from current font.\n",
            "  font.set_text(s, 0, flags=flags)\n",
            "/usr/local/lib/python3.7/dist-packages/matplotlib/backends/backend_agg.py:183: RuntimeWarning: Glyph 46041 missing from current font.\n",
            "  font.set_text(s, 0, flags=flags)\n",
            "/usr/local/lib/python3.7/dist-packages/matplotlib/backends/backend_agg.py:183: RuntimeWarning: Glyph 49328 missing from current font.\n",
            "  font.set_text(s, 0, flags=flags)\n",
            "/usr/local/lib/python3.7/dist-packages/matplotlib/backends/backend_agg.py:183: RuntimeWarning: Glyph 44148 missing from current font.\n",
            "  font.set_text(s, 0, flags=flags)\n"
          ],
          "name": "stderr"
        },
        {
          "output_type": "display_data",
          "data": {
            "image/png": "[encoded data removed]",
            "text/plain": [
              "<Figure size 1152x576 with 1 Axes>"
            ]
          },
          "metadata": {
            "tags": [],
            "needs_background": "light"
          }
        }
      ]
    },
    {
      "cell_type": "code",
      "metadata": {
        "colab": {
          "base_uri": "https://localhost:8080/"
        },
        "id": "uFMfpgW5JZe-",
        "outputId": "6740e722-2914-4764-f19b-f2529fc1ae34"
      },
      "source": [
        "house_data.loc[house_data['거래금액(만원)'].idxmax()]"
      ],
      "execution_count": null,
      "outputs": [
        {
          "output_type": "execute_result",
          "data": {
            "text/plain": [
              "주택유형                 단독\n",
              "도로조건                 25\n",
              "연면적(㎡)           817.69\n",
              "대지면적(㎡)          1100.8\n",
              "거래금액(만원)    1.99813e+06\n",
              "건축년도               1966\n",
              "연도                 2018\n",
              "월                     7\n",
              "SiDo              서울특별시\n",
              "SiGunGu             종로구\n",
              "DongLi              가회동\n",
              "ID                서울 종로\n",
              "Name: 56414, dtype: object"
            ]
          },
          "metadata": {
            "tags": []
          },
          "execution_count": 41
        }
      ]
    },
    {
      "cell_type": "code",
      "metadata": {
        "colab": {
          "base_uri": "https://localhost:8080/"
        },
        "id": "hl-3sOhgJffe",
        "outputId": "f70013f7-c5b4-46e6-a788-072d12a92ac0"
      },
      "source": [
        "house_data['거래금액(만원)'].nlargest(5)"
      ],
      "execution_count": null,
      "outputs": [
        {
          "output_type": "execute_result",
          "data": {
            "text/plain": [
              "56414    1998130.0\n",
              "85528    1835000.0\n",
              "71582    1612731.0\n",
              "47734    1410000.0\n",
              "20721    1357500.0\n",
              "Name: 거래금액(만원), dtype: float64"
            ]
          },
          "metadata": {
            "tags": []
          },
          "execution_count": 42
        }
      ]
    },
    {
      "cell_type": "code",
      "metadata": {
        "colab": {
          "base_uri": "https://localhost:8080/"
        },
        "id": "n8GXBbqCJiP-",
        "outputId": "30bc3fe2-9131-42af-e88a-70c19cab1994"
      },
      "source": [
        "house_data['거래금액(만원)'].describe()"
      ],
      "execution_count": null,
      "outputs": [
        {
          "output_type": "execute_result",
          "data": {
            "text/plain": [
              "count    9.179100e+04\n",
              "mean     4.145255e+04\n",
              "std      5.315770e+04\n",
              "min      1.500000e+02\n",
              "25%      1.200000e+04\n",
              "50%      2.560000e+04\n",
              "75%      5.284000e+04\n",
              "max      1.998130e+06\n",
              "Name: 거래금액(만원), dtype: float64"
            ]
          },
          "metadata": {
            "tags": []
          },
          "execution_count": 43
        }
      ]
    },
    {
      "cell_type": "code",
      "metadata": {
        "colab": {
          "base_uri": "https://localhost:8080/"
        },
        "id": "Q_eSGgyGJovd",
        "outputId": "0dda4838-9548-49d8-ef6d-536f9aaacf75"
      },
      "source": [
        "# 평균과 표준편차 이용 이상치 제거\n",
        "house_value_mean = house_data['거래금액(만원)'].mean()\n",
        "house_value_std = house_data['거래금액(만원)'].std()\n",
        "\n",
        "print(house_value_mean, house_value_std)"
      ],
      "execution_count": null,
      "outputs": [
        {
          "output_type": "stream",
          "text": [
            "41452.551688073996 53157.70197397065\n"
          ],
          "name": "stdout"
        }
      ]
    },
    {
      "cell_type": "code",
      "metadata": {
        "colab": {
          "base_uri": "https://localhost:8080/"
        },
        "id": "lqXTCbQhLQks",
        "outputId": "b8332d96-6a9d-4863-fc19-d9b288afcafa"
      },
      "source": [
        "len(house_data[house_data['거래금액(만원)'] < house_value_mean + 2*house_value_std])"
      ],
      "execution_count": null,
      "outputs": [
        {
          "output_type": "execute_result",
          "data": {
            "text/plain": [
              "88593"
            ]
          },
          "metadata": {
            "tags": []
          },
          "execution_count": 45
        }
      ]
    },
    {
      "cell_type": "code",
      "metadata": {
        "id": "4E0YdCnhJ5cY"
      },
      "source": [
        "house_data = house_data[house_data['거래금액(만원)']\n",
        "                       < house_value_mean + 2*house_value_std]"
      ],
      "execution_count": null,
      "outputs": []
    },
    {
      "cell_type": "code",
      "metadata": {
        "colab": {
          "base_uri": "https://localhost:8080/",
          "height": 1000
        },
        "id": "DNlhmkfuQg_c",
        "outputId": "4d3fa0a3-3536-4838-ddc2-f60ba3377c4a"
      },
      "source": [
        "fig = plt.figure(figsize = (16,8))\n",
        "sns.boxplot(x = 'SiDo', y = '거래금액(만원)', data = house_data)\n",
        "\n",
        "plt.xlabel('지역', fontsize = 18)\n",
        "plt.ylabel('거래금액(만원)', fontsize = 18)\n",
        "plt.xticks(rotation = 70)\n",
        "\n",
        "plt.show()"
      ],
      "execution_count": null,
      "outputs": [
        {
          "output_type": "stream",
          "text": [
            "/usr/local/lib/python3.7/dist-packages/matplotlib/backends/backend_agg.py:214: RuntimeWarning: Glyph 44053 missing from current font.\n",
            "  font.set_text(s, 0.0, flags=flags)\n",
            "/usr/local/lib/python3.7/dist-packages/matplotlib/backends/backend_agg.py:214: RuntimeWarning: Glyph 50896 missing from current font.\n",
            "  font.set_text(s, 0.0, flags=flags)\n",
            "/usr/local/lib/python3.7/dist-packages/matplotlib/backends/backend_agg.py:214: RuntimeWarning: Glyph 46020 missing from current font.\n",
            "  font.set_text(s, 0.0, flags=flags)\n",
            "/usr/local/lib/python3.7/dist-packages/matplotlib/backends/backend_agg.py:214: RuntimeWarning: Glyph 44221 missing from current font.\n",
            "  font.set_text(s, 0.0, flags=flags)\n",
            "/usr/local/lib/python3.7/dist-packages/matplotlib/backends/backend_agg.py:214: RuntimeWarning: Glyph 44592 missing from current font.\n",
            "  font.set_text(s, 0.0, flags=flags)\n",
            "/usr/local/lib/python3.7/dist-packages/matplotlib/backends/backend_agg.py:214: RuntimeWarning: Glyph 49345 missing from current font.\n",
            "  font.set_text(s, 0.0, flags=flags)\n",
            "/usr/local/lib/python3.7/dist-packages/matplotlib/backends/backend_agg.py:214: RuntimeWarning: Glyph 45224 missing from current font.\n",
            "  font.set_text(s, 0.0, flags=flags)\n",
            "/usr/local/lib/python3.7/dist-packages/matplotlib/backends/backend_agg.py:214: RuntimeWarning: Glyph 48513 missing from current font.\n",
            "  font.set_text(s, 0.0, flags=flags)\n",
            "/usr/local/lib/python3.7/dist-packages/matplotlib/backends/backend_agg.py:214: RuntimeWarning: Glyph 44305 missing from current font.\n",
            "  font.set_text(s, 0.0, flags=flags)\n",
            "/usr/local/lib/python3.7/dist-packages/matplotlib/backends/backend_agg.py:214: RuntimeWarning: Glyph 51452 missing from current font.\n",
            "  font.set_text(s, 0.0, flags=flags)\n",
            "/usr/local/lib/python3.7/dist-packages/matplotlib/backends/backend_agg.py:214: RuntimeWarning: Glyph 50669 missing from current font.\n",
            "  font.set_text(s, 0.0, flags=flags)\n",
            "/usr/local/lib/python3.7/dist-packages/matplotlib/backends/backend_agg.py:214: RuntimeWarning: Glyph 49884 missing from current font.\n",
            "  font.set_text(s, 0.0, flags=flags)\n",
            "/usr/local/lib/python3.7/dist-packages/matplotlib/backends/backend_agg.py:214: RuntimeWarning: Glyph 45824 missing from current font.\n",
            "  font.set_text(s, 0.0, flags=flags)\n",
            "/usr/local/lib/python3.7/dist-packages/matplotlib/backends/backend_agg.py:214: RuntimeWarning: Glyph 44396 missing from current font.\n",
            "  font.set_text(s, 0.0, flags=flags)\n",
            "/usr/local/lib/python3.7/dist-packages/matplotlib/backends/backend_agg.py:214: RuntimeWarning: Glyph 51204 missing from current font.\n",
            "  font.set_text(s, 0.0, flags=flags)\n",
            "/usr/local/lib/python3.7/dist-packages/matplotlib/backends/backend_agg.py:214: RuntimeWarning: Glyph 48512 missing from current font.\n",
            "  font.set_text(s, 0.0, flags=flags)\n",
            "/usr/local/lib/python3.7/dist-packages/matplotlib/backends/backend_agg.py:214: RuntimeWarning: Glyph 49328 missing from current font.\n",
            "  font.set_text(s, 0.0, flags=flags)\n",
            "/usr/local/lib/python3.7/dist-packages/matplotlib/backends/backend_agg.py:214: RuntimeWarning: Glyph 49436 missing from current font.\n",
            "  font.set_text(s, 0.0, flags=flags)\n",
            "/usr/local/lib/python3.7/dist-packages/matplotlib/backends/backend_agg.py:214: RuntimeWarning: Glyph 50872 missing from current font.\n",
            "  font.set_text(s, 0.0, flags=flags)\n",
            "/usr/local/lib/python3.7/dist-packages/matplotlib/backends/backend_agg.py:214: RuntimeWarning: Glyph 53945 missing from current font.\n",
            "  font.set_text(s, 0.0, flags=flags)\n",
            "/usr/local/lib/python3.7/dist-packages/matplotlib/backends/backend_agg.py:214: RuntimeWarning: Glyph 48324 missing from current font.\n",
            "  font.set_text(s, 0.0, flags=flags)\n",
            "/usr/local/lib/python3.7/dist-packages/matplotlib/backends/backend_agg.py:214: RuntimeWarning: Glyph 49464 missing from current font.\n",
            "  font.set_text(s, 0.0, flags=flags)\n",
            "/usr/local/lib/python3.7/dist-packages/matplotlib/backends/backend_agg.py:214: RuntimeWarning: Glyph 51333 missing from current font.\n",
            "  font.set_text(s, 0.0, flags=flags)\n",
            "/usr/local/lib/python3.7/dist-packages/matplotlib/backends/backend_agg.py:214: RuntimeWarning: Glyph 51088 missing from current font.\n",
            "  font.set_text(s, 0.0, flags=flags)\n",
            "/usr/local/lib/python3.7/dist-packages/matplotlib/backends/backend_agg.py:214: RuntimeWarning: Glyph 52824 missing from current font.\n",
            "  font.set_text(s, 0.0, flags=flags)\n",
            "/usr/local/lib/python3.7/dist-packages/matplotlib/backends/backend_agg.py:214: RuntimeWarning: Glyph 51064 missing from current font.\n",
            "  font.set_text(s, 0.0, flags=flags)\n",
            "/usr/local/lib/python3.7/dist-packages/matplotlib/backends/backend_agg.py:214: RuntimeWarning: Glyph 52380 missing from current font.\n",
            "  font.set_text(s, 0.0, flags=flags)\n",
            "/usr/local/lib/python3.7/dist-packages/matplotlib/backends/backend_agg.py:214: RuntimeWarning: Glyph 46972 missing from current font.\n",
            "  font.set_text(s, 0.0, flags=flags)\n",
            "/usr/local/lib/python3.7/dist-packages/matplotlib/backends/backend_agg.py:214: RuntimeWarning: Glyph 51228 missing from current font.\n",
            "  font.set_text(s, 0.0, flags=flags)\n",
            "/usr/local/lib/python3.7/dist-packages/matplotlib/backends/backend_agg.py:214: RuntimeWarning: Glyph 52649 missing from current font.\n",
            "  font.set_text(s, 0.0, flags=flags)\n",
            "/usr/local/lib/python3.7/dist-packages/matplotlib/backends/backend_agg.py:214: RuntimeWarning: Glyph 52397 missing from current font.\n",
            "  font.set_text(s, 0.0, flags=flags)\n",
            "/usr/local/lib/python3.7/dist-packages/matplotlib/backends/backend_agg.py:214: RuntimeWarning: Glyph 51648 missing from current font.\n",
            "  font.set_text(s, 0.0, flags=flags)\n",
            "/usr/local/lib/python3.7/dist-packages/matplotlib/backends/backend_agg.py:214: RuntimeWarning: Glyph 44144 missing from current font.\n",
            "  font.set_text(s, 0.0, flags=flags)\n",
            "/usr/local/lib/python3.7/dist-packages/matplotlib/backends/backend_agg.py:214: RuntimeWarning: Glyph 47000 missing from current font.\n",
            "  font.set_text(s, 0.0, flags=flags)\n",
            "/usr/local/lib/python3.7/dist-packages/matplotlib/backends/backend_agg.py:214: RuntimeWarning: Glyph 44552 missing from current font.\n",
            "  font.set_text(s, 0.0, flags=flags)\n",
            "/usr/local/lib/python3.7/dist-packages/matplotlib/backends/backend_agg.py:214: RuntimeWarning: Glyph 50529 missing from current font.\n",
            "  font.set_text(s, 0.0, flags=flags)\n",
            "/usr/local/lib/python3.7/dist-packages/matplotlib/backends/backend_agg.py:214: RuntimeWarning: Glyph 47564 missing from current font.\n",
            "  font.set_text(s, 0.0, flags=flags)\n",
            "/usr/local/lib/python3.7/dist-packages/matplotlib/backends/backend_agg.py:183: RuntimeWarning: Glyph 44053 missing from current font.\n",
            "  font.set_text(s, 0, flags=flags)\n",
            "/usr/local/lib/python3.7/dist-packages/matplotlib/backends/backend_agg.py:183: RuntimeWarning: Glyph 50896 missing from current font.\n",
            "  font.set_text(s, 0, flags=flags)\n",
            "/usr/local/lib/python3.7/dist-packages/matplotlib/backends/backend_agg.py:183: RuntimeWarning: Glyph 46020 missing from current font.\n",
            "  font.set_text(s, 0, flags=flags)\n",
            "/usr/local/lib/python3.7/dist-packages/matplotlib/backends/backend_agg.py:183: RuntimeWarning: Glyph 44221 missing from current font.\n",
            "  font.set_text(s, 0, flags=flags)\n",
            "/usr/local/lib/python3.7/dist-packages/matplotlib/backends/backend_agg.py:183: RuntimeWarning: Glyph 44592 missing from current font.\n",
            "  font.set_text(s, 0, flags=flags)\n",
            "/usr/local/lib/python3.7/dist-packages/matplotlib/backends/backend_agg.py:183: RuntimeWarning: Glyph 49345 missing from current font.\n",
            "  font.set_text(s, 0, flags=flags)\n",
            "/usr/local/lib/python3.7/dist-packages/matplotlib/backends/backend_agg.py:183: RuntimeWarning: Glyph 45224 missing from current font.\n",
            "  font.set_text(s, 0, flags=flags)\n",
            "/usr/local/lib/python3.7/dist-packages/matplotlib/backends/backend_agg.py:183: RuntimeWarning: Glyph 48513 missing from current font.\n",
            "  font.set_text(s, 0, flags=flags)\n",
            "/usr/local/lib/python3.7/dist-packages/matplotlib/backends/backend_agg.py:183: RuntimeWarning: Glyph 44305 missing from current font.\n",
            "  font.set_text(s, 0, flags=flags)\n",
            "/usr/local/lib/python3.7/dist-packages/matplotlib/backends/backend_agg.py:183: RuntimeWarning: Glyph 51452 missing from current font.\n",
            "  font.set_text(s, 0, flags=flags)\n",
            "/usr/local/lib/python3.7/dist-packages/matplotlib/backends/backend_agg.py:183: RuntimeWarning: Glyph 50669 missing from current font.\n",
            "  font.set_text(s, 0, flags=flags)\n",
            "/usr/local/lib/python3.7/dist-packages/matplotlib/backends/backend_agg.py:183: RuntimeWarning: Glyph 49884 missing from current font.\n",
            "  font.set_text(s, 0, flags=flags)\n",
            "/usr/local/lib/python3.7/dist-packages/matplotlib/backends/backend_agg.py:183: RuntimeWarning: Glyph 45824 missing from current font.\n",
            "  font.set_text(s, 0, flags=flags)\n",
            "/usr/local/lib/python3.7/dist-packages/matplotlib/backends/backend_agg.py:183: RuntimeWarning: Glyph 44396 missing from current font.\n",
            "  font.set_text(s, 0, flags=flags)\n",
            "/usr/local/lib/python3.7/dist-packages/matplotlib/backends/backend_agg.py:183: RuntimeWarning: Glyph 51204 missing from current font.\n",
            "  font.set_text(s, 0, flags=flags)\n",
            "/usr/local/lib/python3.7/dist-packages/matplotlib/backends/backend_agg.py:183: RuntimeWarning: Glyph 48512 missing from current font.\n",
            "  font.set_text(s, 0, flags=flags)\n",
            "/usr/local/lib/python3.7/dist-packages/matplotlib/backends/backend_agg.py:183: RuntimeWarning: Glyph 49328 missing from current font.\n",
            "  font.set_text(s, 0, flags=flags)\n",
            "/usr/local/lib/python3.7/dist-packages/matplotlib/backends/backend_agg.py:183: RuntimeWarning: Glyph 49436 missing from current font.\n",
            "  font.set_text(s, 0, flags=flags)\n",
            "/usr/local/lib/python3.7/dist-packages/matplotlib/backends/backend_agg.py:183: RuntimeWarning: Glyph 50872 missing from current font.\n",
            "  font.set_text(s, 0, flags=flags)\n",
            "/usr/local/lib/python3.7/dist-packages/matplotlib/backends/backend_agg.py:183: RuntimeWarning: Glyph 53945 missing from current font.\n",
            "  font.set_text(s, 0, flags=flags)\n",
            "/usr/local/lib/python3.7/dist-packages/matplotlib/backends/backend_agg.py:183: RuntimeWarning: Glyph 48324 missing from current font.\n",
            "  font.set_text(s, 0, flags=flags)\n",
            "/usr/local/lib/python3.7/dist-packages/matplotlib/backends/backend_agg.py:183: RuntimeWarning: Glyph 49464 missing from current font.\n",
            "  font.set_text(s, 0, flags=flags)\n",
            "/usr/local/lib/python3.7/dist-packages/matplotlib/backends/backend_agg.py:183: RuntimeWarning: Glyph 51333 missing from current font.\n",
            "  font.set_text(s, 0, flags=flags)\n",
            "/usr/local/lib/python3.7/dist-packages/matplotlib/backends/backend_agg.py:183: RuntimeWarning: Glyph 51088 missing from current font.\n",
            "  font.set_text(s, 0, flags=flags)\n",
            "/usr/local/lib/python3.7/dist-packages/matplotlib/backends/backend_agg.py:183: RuntimeWarning: Glyph 52824 missing from current font.\n",
            "  font.set_text(s, 0, flags=flags)\n",
            "/usr/local/lib/python3.7/dist-packages/matplotlib/backends/backend_agg.py:183: RuntimeWarning: Glyph 51064 missing from current font.\n",
            "  font.set_text(s, 0, flags=flags)\n",
            "/usr/local/lib/python3.7/dist-packages/matplotlib/backends/backend_agg.py:183: RuntimeWarning: Glyph 52380 missing from current font.\n",
            "  font.set_text(s, 0, flags=flags)\n",
            "/usr/local/lib/python3.7/dist-packages/matplotlib/backends/backend_agg.py:183: RuntimeWarning: Glyph 46972 missing from current font.\n",
            "  font.set_text(s, 0, flags=flags)\n",
            "/usr/local/lib/python3.7/dist-packages/matplotlib/backends/backend_agg.py:183: RuntimeWarning: Glyph 51228 missing from current font.\n",
            "  font.set_text(s, 0, flags=flags)\n",
            "/usr/local/lib/python3.7/dist-packages/matplotlib/backends/backend_agg.py:183: RuntimeWarning: Glyph 52649 missing from current font.\n",
            "  font.set_text(s, 0, flags=flags)\n",
            "/usr/local/lib/python3.7/dist-packages/matplotlib/backends/backend_agg.py:183: RuntimeWarning: Glyph 52397 missing from current font.\n",
            "  font.set_text(s, 0, flags=flags)\n",
            "/usr/local/lib/python3.7/dist-packages/matplotlib/backends/backend_agg.py:183: RuntimeWarning: Glyph 51648 missing from current font.\n",
            "  font.set_text(s, 0, flags=flags)\n",
            "/usr/local/lib/python3.7/dist-packages/matplotlib/backends/backend_agg.py:183: RuntimeWarning: Glyph 44144 missing from current font.\n",
            "  font.set_text(s, 0, flags=flags)\n",
            "/usr/local/lib/python3.7/dist-packages/matplotlib/backends/backend_agg.py:183: RuntimeWarning: Glyph 47000 missing from current font.\n",
            "  font.set_text(s, 0, flags=flags)\n",
            "/usr/local/lib/python3.7/dist-packages/matplotlib/backends/backend_agg.py:183: RuntimeWarning: Glyph 44552 missing from current font.\n",
            "  font.set_text(s, 0, flags=flags)\n",
            "/usr/local/lib/python3.7/dist-packages/matplotlib/backends/backend_agg.py:183: RuntimeWarning: Glyph 50529 missing from current font.\n",
            "  font.set_text(s, 0, flags=flags)\n",
            "/usr/local/lib/python3.7/dist-packages/matplotlib/backends/backend_agg.py:183: RuntimeWarning: Glyph 47564 missing from current font.\n",
            "  font.set_text(s, 0, flags=flags)\n"
          ],
          "name": "stderr"
        },
        {
          "output_type": "display_data",
          "data": {
            "image/png": "[encoded data removed]",
            "text/plain": [
              "<Figure size 1152x576 with 1 Axes>"
            ]
          },
          "metadata": {
            "tags": [],
            "needs_background": "light"
          }
        }
      ]
    },
    {
      "cell_type": "code",
      "metadata": {
        "colab": {
          "base_uri": "https://localhost:8080/",
          "height": 1000
        },
        "id": "pGTh6lqmJ8-t",
        "outputId": "3c90261d-1b49-4471-d386-f1f802c7a8cb"
      },
      "source": [
        "fig_hist = plt.figure(figsize = (16, 8))\n",
        "\n",
        "plt.hist(house_data['거래금액(만원)'])\n",
        "plt.xticks(fontsize = 15)\n",
        "plt.yticks(fontsize = 15)\n",
        "plt.xlabel('거래금액(만원)')\n",
        "plt.ylabel('부동산 거래 (건)', fontsize = 18)\n",
        "plt.title('월별 부동산 거래', fontsize = 18)\n",
        "\n",
        "plt.show()"
      ],
      "execution_count": null,
      "outputs": [
        {
          "output_type": "stream",
          "text": [
            "/usr/local/lib/python3.7/dist-packages/matplotlib/backends/backend_agg.py:214: RuntimeWarning: Glyph 50900 missing from current font.\n",
            "  font.set_text(s, 0.0, flags=flags)\n",
            "/usr/local/lib/python3.7/dist-packages/matplotlib/backends/backend_agg.py:214: RuntimeWarning: Glyph 48324 missing from current font.\n",
            "  font.set_text(s, 0.0, flags=flags)\n",
            "/usr/local/lib/python3.7/dist-packages/matplotlib/backends/backend_agg.py:214: RuntimeWarning: Glyph 48512 missing from current font.\n",
            "  font.set_text(s, 0.0, flags=flags)\n",
            "/usr/local/lib/python3.7/dist-packages/matplotlib/backends/backend_agg.py:214: RuntimeWarning: Glyph 46041 missing from current font.\n",
            "  font.set_text(s, 0.0, flags=flags)\n",
            "/usr/local/lib/python3.7/dist-packages/matplotlib/backends/backend_agg.py:214: RuntimeWarning: Glyph 49328 missing from current font.\n",
            "  font.set_text(s, 0.0, flags=flags)\n",
            "/usr/local/lib/python3.7/dist-packages/matplotlib/backends/backend_agg.py:214: RuntimeWarning: Glyph 44144 missing from current font.\n",
            "  font.set_text(s, 0.0, flags=flags)\n",
            "/usr/local/lib/python3.7/dist-packages/matplotlib/backends/backend_agg.py:214: RuntimeWarning: Glyph 47000 missing from current font.\n",
            "  font.set_text(s, 0.0, flags=flags)\n",
            "/usr/local/lib/python3.7/dist-packages/matplotlib/backends/backend_agg.py:214: RuntimeWarning: Glyph 44552 missing from current font.\n",
            "  font.set_text(s, 0.0, flags=flags)\n",
            "/usr/local/lib/python3.7/dist-packages/matplotlib/backends/backend_agg.py:214: RuntimeWarning: Glyph 50529 missing from current font.\n",
            "  font.set_text(s, 0.0, flags=flags)\n",
            "/usr/local/lib/python3.7/dist-packages/matplotlib/backends/backend_agg.py:214: RuntimeWarning: Glyph 47564 missing from current font.\n",
            "  font.set_text(s, 0.0, flags=flags)\n",
            "/usr/local/lib/python3.7/dist-packages/matplotlib/backends/backend_agg.py:214: RuntimeWarning: Glyph 50896 missing from current font.\n",
            "  font.set_text(s, 0.0, flags=flags)\n",
            "/usr/local/lib/python3.7/dist-packages/matplotlib/backends/backend_agg.py:214: RuntimeWarning: Glyph 44148 missing from current font.\n",
            "  font.set_text(s, 0.0, flags=flags)\n",
            "/usr/local/lib/python3.7/dist-packages/matplotlib/backends/backend_agg.py:183: RuntimeWarning: Glyph 44144 missing from current font.\n",
            "  font.set_text(s, 0, flags=flags)\n",
            "/usr/local/lib/python3.7/dist-packages/matplotlib/backends/backend_agg.py:183: RuntimeWarning: Glyph 47000 missing from current font.\n",
            "  font.set_text(s, 0, flags=flags)\n",
            "/usr/local/lib/python3.7/dist-packages/matplotlib/backends/backend_agg.py:183: RuntimeWarning: Glyph 44552 missing from current font.\n",
            "  font.set_text(s, 0, flags=flags)\n",
            "/usr/local/lib/python3.7/dist-packages/matplotlib/backends/backend_agg.py:183: RuntimeWarning: Glyph 50529 missing from current font.\n",
            "  font.set_text(s, 0, flags=flags)\n",
            "/usr/local/lib/python3.7/dist-packages/matplotlib/backends/backend_agg.py:183: RuntimeWarning: Glyph 47564 missing from current font.\n",
            "  font.set_text(s, 0, flags=flags)\n",
            "/usr/local/lib/python3.7/dist-packages/matplotlib/backends/backend_agg.py:183: RuntimeWarning: Glyph 50896 missing from current font.\n",
            "  font.set_text(s, 0, flags=flags)\n",
            "/usr/local/lib/python3.7/dist-packages/matplotlib/backends/backend_agg.py:183: RuntimeWarning: Glyph 48512 missing from current font.\n",
            "  font.set_text(s, 0, flags=flags)\n",
            "/usr/local/lib/python3.7/dist-packages/matplotlib/backends/backend_agg.py:183: RuntimeWarning: Glyph 46041 missing from current font.\n",
            "  font.set_text(s, 0, flags=flags)\n",
            "/usr/local/lib/python3.7/dist-packages/matplotlib/backends/backend_agg.py:183: RuntimeWarning: Glyph 49328 missing from current font.\n",
            "  font.set_text(s, 0, flags=flags)\n",
            "/usr/local/lib/python3.7/dist-packages/matplotlib/backends/backend_agg.py:183: RuntimeWarning: Glyph 44148 missing from current font.\n",
            "  font.set_text(s, 0, flags=flags)\n",
            "/usr/local/lib/python3.7/dist-packages/matplotlib/backends/backend_agg.py:183: RuntimeWarning: Glyph 50900 missing from current font.\n",
            "  font.set_text(s, 0, flags=flags)\n",
            "/usr/local/lib/python3.7/dist-packages/matplotlib/backends/backend_agg.py:183: RuntimeWarning: Glyph 48324 missing from current font.\n",
            "  font.set_text(s, 0, flags=flags)\n"
          ],
          "name": "stderr"
        },
        {
          "output_type": "display_data",
          "data": {
            "image/png": "[encoded data removed]",
            "text/plain": [
              "<Figure size 1152x576 with 1 Axes>"
            ]
          },
          "metadata": {
            "tags": [],
            "needs_background": "light"
          }
        }
      ]
    },
    {
      "cell_type": "code",
      "metadata": {
        "colab": {
          "base_uri": "https://localhost:8080/"
        },
        "id": "NAQGZy7xKEpW",
        "outputId": "dd33d744-91fc-4f26-b7b9-7b62e61035d0"
      },
      "source": [
        "# 월별 패턴 파악\n",
        "\n",
        "month = list(range(1,13))\n",
        "month_num = []\n",
        "for m in month:\n",
        "    month_num.append(house_data['월'][house_data['월'] == m].count())\n",
        "    \n",
        "print(month)\n",
        "print(month_num)"
      ],
      "execution_count": null,
      "outputs": [
        {
          "output_type": "stream",
          "text": [
            "[1, 2, 3, 4, 5, 6, 7, 8, 9, 10, 11, 12]\n",
            "[7497, 6576, 9880, 8337, 8540, 7897, 7074, 7263, 7042, 7422, 6364, 4701]\n"
          ],
          "name": "stdout"
        }
      ]
    },
    {
      "cell_type": "code",
      "metadata": {
        "colab": {
          "base_uri": "https://localhost:8080/",
          "height": 1000
        },
        "id": "jmNFmhZ3KIF2",
        "outputId": "d20add70-64d8-4463-f3f2-f39f3eebb1b1"
      },
      "source": [
        "fig_bar = plt.figure(figsize = (16, 8))\n",
        "\n",
        "sns.barplot(x = month, y = month_num, palette = 'rainbow')\n",
        "#palette = 'rainbow' #palette = 'rocket'\n",
        "\n",
        "plt.xticks(fontsize = 15)\n",
        "plt.yticks(fontsize = 15)\n",
        "plt.xlabel('월', fontsize = 18)\n",
        "plt.ylabel('부동산 거래 (건)', fontsize = 18)\n",
        "plt.title('월별 부동산 거래', fontsize = 18)\n",
        "\n",
        "plt.show()"
      ],
      "execution_count": null,
      "outputs": [
        {
          "output_type": "stream",
          "text": [
            "/usr/local/lib/python3.7/dist-packages/matplotlib/backends/backend_agg.py:214: RuntimeWarning: Glyph 50900 missing from current font.\n",
            "  font.set_text(s, 0.0, flags=flags)\n",
            "/usr/local/lib/python3.7/dist-packages/matplotlib/backends/backend_agg.py:214: RuntimeWarning: Glyph 48324 missing from current font.\n",
            "  font.set_text(s, 0.0, flags=flags)\n",
            "/usr/local/lib/python3.7/dist-packages/matplotlib/backends/backend_agg.py:214: RuntimeWarning: Glyph 48512 missing from current font.\n",
            "  font.set_text(s, 0.0, flags=flags)\n",
            "/usr/local/lib/python3.7/dist-packages/matplotlib/backends/backend_agg.py:214: RuntimeWarning: Glyph 46041 missing from current font.\n",
            "  font.set_text(s, 0.0, flags=flags)\n",
            "/usr/local/lib/python3.7/dist-packages/matplotlib/backends/backend_agg.py:214: RuntimeWarning: Glyph 49328 missing from current font.\n",
            "  font.set_text(s, 0.0, flags=flags)\n",
            "/usr/local/lib/python3.7/dist-packages/matplotlib/backends/backend_agg.py:214: RuntimeWarning: Glyph 44144 missing from current font.\n",
            "  font.set_text(s, 0.0, flags=flags)\n",
            "/usr/local/lib/python3.7/dist-packages/matplotlib/backends/backend_agg.py:214: RuntimeWarning: Glyph 47000 missing from current font.\n",
            "  font.set_text(s, 0.0, flags=flags)\n",
            "/usr/local/lib/python3.7/dist-packages/matplotlib/backends/backend_agg.py:214: RuntimeWarning: Glyph 44148 missing from current font.\n",
            "  font.set_text(s, 0.0, flags=flags)\n",
            "/usr/local/lib/python3.7/dist-packages/matplotlib/backends/backend_agg.py:183: RuntimeWarning: Glyph 50900 missing from current font.\n",
            "  font.set_text(s, 0, flags=flags)\n",
            "/usr/local/lib/python3.7/dist-packages/matplotlib/backends/backend_agg.py:183: RuntimeWarning: Glyph 48512 missing from current font.\n",
            "  font.set_text(s, 0, flags=flags)\n",
            "/usr/local/lib/python3.7/dist-packages/matplotlib/backends/backend_agg.py:183: RuntimeWarning: Glyph 46041 missing from current font.\n",
            "  font.set_text(s, 0, flags=flags)\n",
            "/usr/local/lib/python3.7/dist-packages/matplotlib/backends/backend_agg.py:183: RuntimeWarning: Glyph 49328 missing from current font.\n",
            "  font.set_text(s, 0, flags=flags)\n",
            "/usr/local/lib/python3.7/dist-packages/matplotlib/backends/backend_agg.py:183: RuntimeWarning: Glyph 44144 missing from current font.\n",
            "  font.set_text(s, 0, flags=flags)\n",
            "/usr/local/lib/python3.7/dist-packages/matplotlib/backends/backend_agg.py:183: RuntimeWarning: Glyph 47000 missing from current font.\n",
            "  font.set_text(s, 0, flags=flags)\n",
            "/usr/local/lib/python3.7/dist-packages/matplotlib/backends/backend_agg.py:183: RuntimeWarning: Glyph 44148 missing from current font.\n",
            "  font.set_text(s, 0, flags=flags)\n",
            "/usr/local/lib/python3.7/dist-packages/matplotlib/backends/backend_agg.py:183: RuntimeWarning: Glyph 48324 missing from current font.\n",
            "  font.set_text(s, 0, flags=flags)\n"
          ],
          "name": "stderr"
        },
        {
          "output_type": "display_data",
          "data": {
            "image/png": "[encoded data removed]",
            "text/plain": [
              "<Figure size 1152x576 with 1 Axes>"
            ]
          },
          "metadata": {
            "tags": [],
            "needs_background": "light"
          }
        }
      ]
    },
    {
      "cell_type": "code",
      "metadata": {
        "colab": {
          "base_uri": "https://localhost:8080/"
        },
        "id": "ps2565_kKX5O",
        "outputId": "e4c4ebbe-a147-409f-c5dc-f0c6685a705a"
      },
      "source": [
        "house_data['SiDo'].value_counts()"
      ],
      "execution_count": null,
      "outputs": [
        {
          "output_type": "execute_result",
          "data": {
            "text/plain": [
              "경기도        13738\n",
              "서울특별시      11508\n",
              "대구광역시       7481\n",
              "경상남도        6312\n",
              "경상북도        6216\n",
              "부산광역시       6140\n",
              "전라남도        5900\n",
              "광주광역시       5363\n",
              "전라북도        4533\n",
              "강원도         4257\n",
              "충청남도        3991\n",
              "충청북도        3830\n",
              "대전광역시       3325\n",
              "인천광역시       3155\n",
              "제주특별자치도     1608\n",
              "울산광역시        990\n",
              "세종특별자치시      246\n",
              "Name: SiDo, dtype: int64"
            ]
          },
          "metadata": {
            "tags": []
          },
          "execution_count": 51
        }
      ]
    },
    {
      "cell_type": "code",
      "metadata": {
        "colab": {
          "base_uri": "https://localhost:8080/",
          "height": 1000
        },
        "id": "yU9A-WNpKa9e",
        "outputId": "c231a37c-4e39-471e-cd3c-4fa2662ac8f7"
      },
      "source": [
        "# 지역별 패턴 파악\n",
        "\n",
        "fig = plt.figure(figsize = (16, 8))\n",
        "\n",
        "region_counts = house_data['SiDo'].value_counts()\n",
        "sns.barplot(x = region_counts.index, y = region_counts, palette = 'rainbow')\n",
        "\n",
        "plt.xticks(rotation = 90, fontsize = 15)\n",
        "plt.yticks(fontsize = 15)\n",
        "plt.ylabel('부동산 거래 (건)', fontsize = 18)\n",
        "plt.title('지역별 부동산 거래', fontsize = 18)\n",
        "plt.grid(False)\n",
        "\n",
        "plt.show()"
      ],
      "execution_count": null,
      "outputs": [
        {
          "output_type": "stream",
          "text": [
            "/usr/local/lib/python3.7/dist-packages/matplotlib/backends/backend_agg.py:214: RuntimeWarning: Glyph 51648 missing from current font.\n",
            "  font.set_text(s, 0.0, flags=flags)\n",
            "/usr/local/lib/python3.7/dist-packages/matplotlib/backends/backend_agg.py:214: RuntimeWarning: Glyph 50669 missing from current font.\n",
            "  font.set_text(s, 0.0, flags=flags)\n",
            "/usr/local/lib/python3.7/dist-packages/matplotlib/backends/backend_agg.py:214: RuntimeWarning: Glyph 48324 missing from current font.\n",
            "  font.set_text(s, 0.0, flags=flags)\n",
            "/usr/local/lib/python3.7/dist-packages/matplotlib/backends/backend_agg.py:214: RuntimeWarning: Glyph 48512 missing from current font.\n",
            "  font.set_text(s, 0.0, flags=flags)\n",
            "/usr/local/lib/python3.7/dist-packages/matplotlib/backends/backend_agg.py:214: RuntimeWarning: Glyph 46041 missing from current font.\n",
            "  font.set_text(s, 0.0, flags=flags)\n",
            "/usr/local/lib/python3.7/dist-packages/matplotlib/backends/backend_agg.py:214: RuntimeWarning: Glyph 49328 missing from current font.\n",
            "  font.set_text(s, 0.0, flags=flags)\n",
            "/usr/local/lib/python3.7/dist-packages/matplotlib/backends/backend_agg.py:214: RuntimeWarning: Glyph 44144 missing from current font.\n",
            "  font.set_text(s, 0.0, flags=flags)\n",
            "/usr/local/lib/python3.7/dist-packages/matplotlib/backends/backend_agg.py:214: RuntimeWarning: Glyph 47000 missing from current font.\n",
            "  font.set_text(s, 0.0, flags=flags)\n",
            "/usr/local/lib/python3.7/dist-packages/matplotlib/backends/backend_agg.py:214: RuntimeWarning: Glyph 44221 missing from current font.\n",
            "  font.set_text(s, 0.0, flags=flags)\n",
            "/usr/local/lib/python3.7/dist-packages/matplotlib/backends/backend_agg.py:214: RuntimeWarning: Glyph 44592 missing from current font.\n",
            "  font.set_text(s, 0.0, flags=flags)\n",
            "/usr/local/lib/python3.7/dist-packages/matplotlib/backends/backend_agg.py:214: RuntimeWarning: Glyph 46020 missing from current font.\n",
            "  font.set_text(s, 0.0, flags=flags)\n",
            "/usr/local/lib/python3.7/dist-packages/matplotlib/backends/backend_agg.py:214: RuntimeWarning: Glyph 49436 missing from current font.\n",
            "  font.set_text(s, 0.0, flags=flags)\n",
            "/usr/local/lib/python3.7/dist-packages/matplotlib/backends/backend_agg.py:214: RuntimeWarning: Glyph 50872 missing from current font.\n",
            "  font.set_text(s, 0.0, flags=flags)\n",
            "/usr/local/lib/python3.7/dist-packages/matplotlib/backends/backend_agg.py:214: RuntimeWarning: Glyph 53945 missing from current font.\n",
            "  font.set_text(s, 0.0, flags=flags)\n",
            "/usr/local/lib/python3.7/dist-packages/matplotlib/backends/backend_agg.py:214: RuntimeWarning: Glyph 49884 missing from current font.\n",
            "  font.set_text(s, 0.0, flags=flags)\n",
            "/usr/local/lib/python3.7/dist-packages/matplotlib/backends/backend_agg.py:214: RuntimeWarning: Glyph 45824 missing from current font.\n",
            "  font.set_text(s, 0.0, flags=flags)\n",
            "/usr/local/lib/python3.7/dist-packages/matplotlib/backends/backend_agg.py:214: RuntimeWarning: Glyph 44396 missing from current font.\n",
            "  font.set_text(s, 0.0, flags=flags)\n",
            "/usr/local/lib/python3.7/dist-packages/matplotlib/backends/backend_agg.py:214: RuntimeWarning: Glyph 44305 missing from current font.\n",
            "  font.set_text(s, 0.0, flags=flags)\n",
            "/usr/local/lib/python3.7/dist-packages/matplotlib/backends/backend_agg.py:214: RuntimeWarning: Glyph 49345 missing from current font.\n",
            "  font.set_text(s, 0.0, flags=flags)\n",
            "/usr/local/lib/python3.7/dist-packages/matplotlib/backends/backend_agg.py:214: RuntimeWarning: Glyph 45224 missing from current font.\n",
            "  font.set_text(s, 0.0, flags=flags)\n",
            "/usr/local/lib/python3.7/dist-packages/matplotlib/backends/backend_agg.py:214: RuntimeWarning: Glyph 48513 missing from current font.\n",
            "  font.set_text(s, 0.0, flags=flags)\n",
            "/usr/local/lib/python3.7/dist-packages/matplotlib/backends/backend_agg.py:214: RuntimeWarning: Glyph 51204 missing from current font.\n",
            "  font.set_text(s, 0.0, flags=flags)\n",
            "/usr/local/lib/python3.7/dist-packages/matplotlib/backends/backend_agg.py:214: RuntimeWarning: Glyph 46972 missing from current font.\n",
            "  font.set_text(s, 0.0, flags=flags)\n",
            "/usr/local/lib/python3.7/dist-packages/matplotlib/backends/backend_agg.py:214: RuntimeWarning: Glyph 51452 missing from current font.\n",
            "  font.set_text(s, 0.0, flags=flags)\n",
            "/usr/local/lib/python3.7/dist-packages/matplotlib/backends/backend_agg.py:214: RuntimeWarning: Glyph 44053 missing from current font.\n",
            "  font.set_text(s, 0.0, flags=flags)\n",
            "/usr/local/lib/python3.7/dist-packages/matplotlib/backends/backend_agg.py:214: RuntimeWarning: Glyph 50896 missing from current font.\n",
            "  font.set_text(s, 0.0, flags=flags)\n",
            "/usr/local/lib/python3.7/dist-packages/matplotlib/backends/backend_agg.py:214: RuntimeWarning: Glyph 52649 missing from current font.\n",
            "  font.set_text(s, 0.0, flags=flags)\n",
            "/usr/local/lib/python3.7/dist-packages/matplotlib/backends/backend_agg.py:214: RuntimeWarning: Glyph 52397 missing from current font.\n",
            "  font.set_text(s, 0.0, flags=flags)\n",
            "/usr/local/lib/python3.7/dist-packages/matplotlib/backends/backend_agg.py:214: RuntimeWarning: Glyph 51064 missing from current font.\n",
            "  font.set_text(s, 0.0, flags=flags)\n",
            "/usr/local/lib/python3.7/dist-packages/matplotlib/backends/backend_agg.py:214: RuntimeWarning: Glyph 52380 missing from current font.\n",
            "  font.set_text(s, 0.0, flags=flags)\n",
            "/usr/local/lib/python3.7/dist-packages/matplotlib/backends/backend_agg.py:214: RuntimeWarning: Glyph 51228 missing from current font.\n",
            "  font.set_text(s, 0.0, flags=flags)\n",
            "/usr/local/lib/python3.7/dist-packages/matplotlib/backends/backend_agg.py:214: RuntimeWarning: Glyph 51088 missing from current font.\n",
            "  font.set_text(s, 0.0, flags=flags)\n",
            "/usr/local/lib/python3.7/dist-packages/matplotlib/backends/backend_agg.py:214: RuntimeWarning: Glyph 52824 missing from current font.\n",
            "  font.set_text(s, 0.0, flags=flags)\n",
            "/usr/local/lib/python3.7/dist-packages/matplotlib/backends/backend_agg.py:214: RuntimeWarning: Glyph 49464 missing from current font.\n",
            "  font.set_text(s, 0.0, flags=flags)\n",
            "/usr/local/lib/python3.7/dist-packages/matplotlib/backends/backend_agg.py:214: RuntimeWarning: Glyph 51333 missing from current font.\n",
            "  font.set_text(s, 0.0, flags=flags)\n",
            "/usr/local/lib/python3.7/dist-packages/matplotlib/backends/backend_agg.py:214: RuntimeWarning: Glyph 44148 missing from current font.\n",
            "  font.set_text(s, 0.0, flags=flags)\n",
            "/usr/local/lib/python3.7/dist-packages/matplotlib/backends/backend_agg.py:183: RuntimeWarning: Glyph 44221 missing from current font.\n",
            "  font.set_text(s, 0, flags=flags)\n",
            "/usr/local/lib/python3.7/dist-packages/matplotlib/backends/backend_agg.py:183: RuntimeWarning: Glyph 44592 missing from current font.\n",
            "  font.set_text(s, 0, flags=flags)\n",
            "/usr/local/lib/python3.7/dist-packages/matplotlib/backends/backend_agg.py:183: RuntimeWarning: Glyph 46020 missing from current font.\n",
            "  font.set_text(s, 0, flags=flags)\n",
            "/usr/local/lib/python3.7/dist-packages/matplotlib/backends/backend_agg.py:183: RuntimeWarning: Glyph 49436 missing from current font.\n",
            "  font.set_text(s, 0, flags=flags)\n",
            "/usr/local/lib/python3.7/dist-packages/matplotlib/backends/backend_agg.py:183: RuntimeWarning: Glyph 50872 missing from current font.\n",
            "  font.set_text(s, 0, flags=flags)\n",
            "/usr/local/lib/python3.7/dist-packages/matplotlib/backends/backend_agg.py:183: RuntimeWarning: Glyph 53945 missing from current font.\n",
            "  font.set_text(s, 0, flags=flags)\n",
            "/usr/local/lib/python3.7/dist-packages/matplotlib/backends/backend_agg.py:183: RuntimeWarning: Glyph 48324 missing from current font.\n",
            "  font.set_text(s, 0, flags=flags)\n",
            "/usr/local/lib/python3.7/dist-packages/matplotlib/backends/backend_agg.py:183: RuntimeWarning: Glyph 49884 missing from current font.\n",
            "  font.set_text(s, 0, flags=flags)\n",
            "/usr/local/lib/python3.7/dist-packages/matplotlib/backends/backend_agg.py:183: RuntimeWarning: Glyph 45824 missing from current font.\n",
            "  font.set_text(s, 0, flags=flags)\n",
            "/usr/local/lib/python3.7/dist-packages/matplotlib/backends/backend_agg.py:183: RuntimeWarning: Glyph 44396 missing from current font.\n",
            "  font.set_text(s, 0, flags=flags)\n",
            "/usr/local/lib/python3.7/dist-packages/matplotlib/backends/backend_agg.py:183: RuntimeWarning: Glyph 44305 missing from current font.\n",
            "  font.set_text(s, 0, flags=flags)\n",
            "/usr/local/lib/python3.7/dist-packages/matplotlib/backends/backend_agg.py:183: RuntimeWarning: Glyph 50669 missing from current font.\n",
            "  font.set_text(s, 0, flags=flags)\n",
            "/usr/local/lib/python3.7/dist-packages/matplotlib/backends/backend_agg.py:183: RuntimeWarning: Glyph 49345 missing from current font.\n",
            "  font.set_text(s, 0, flags=flags)\n",
            "/usr/local/lib/python3.7/dist-packages/matplotlib/backends/backend_agg.py:183: RuntimeWarning: Glyph 45224 missing from current font.\n",
            "  font.set_text(s, 0, flags=flags)\n",
            "/usr/local/lib/python3.7/dist-packages/matplotlib/backends/backend_agg.py:183: RuntimeWarning: Glyph 48513 missing from current font.\n",
            "  font.set_text(s, 0, flags=flags)\n",
            "/usr/local/lib/python3.7/dist-packages/matplotlib/backends/backend_agg.py:183: RuntimeWarning: Glyph 48512 missing from current font.\n",
            "  font.set_text(s, 0, flags=flags)\n",
            "/usr/local/lib/python3.7/dist-packages/matplotlib/backends/backend_agg.py:183: RuntimeWarning: Glyph 49328 missing from current font.\n",
            "  font.set_text(s, 0, flags=flags)\n",
            "/usr/local/lib/python3.7/dist-packages/matplotlib/backends/backend_agg.py:183: RuntimeWarning: Glyph 51204 missing from current font.\n",
            "  font.set_text(s, 0, flags=flags)\n",
            "/usr/local/lib/python3.7/dist-packages/matplotlib/backends/backend_agg.py:183: RuntimeWarning: Glyph 46972 missing from current font.\n",
            "  font.set_text(s, 0, flags=flags)\n",
            "/usr/local/lib/python3.7/dist-packages/matplotlib/backends/backend_agg.py:183: RuntimeWarning: Glyph 51452 missing from current font.\n",
            "  font.set_text(s, 0, flags=flags)\n",
            "/usr/local/lib/python3.7/dist-packages/matplotlib/backends/backend_agg.py:183: RuntimeWarning: Glyph 44053 missing from current font.\n",
            "  font.set_text(s, 0, flags=flags)\n",
            "/usr/local/lib/python3.7/dist-packages/matplotlib/backends/backend_agg.py:183: RuntimeWarning: Glyph 50896 missing from current font.\n",
            "  font.set_text(s, 0, flags=flags)\n",
            "/usr/local/lib/python3.7/dist-packages/matplotlib/backends/backend_agg.py:183: RuntimeWarning: Glyph 52649 missing from current font.\n",
            "  font.set_text(s, 0, flags=flags)\n",
            "/usr/local/lib/python3.7/dist-packages/matplotlib/backends/backend_agg.py:183: RuntimeWarning: Glyph 52397 missing from current font.\n",
            "  font.set_text(s, 0, flags=flags)\n",
            "/usr/local/lib/python3.7/dist-packages/matplotlib/backends/backend_agg.py:183: RuntimeWarning: Glyph 51064 missing from current font.\n",
            "  font.set_text(s, 0, flags=flags)\n",
            "/usr/local/lib/python3.7/dist-packages/matplotlib/backends/backend_agg.py:183: RuntimeWarning: Glyph 52380 missing from current font.\n",
            "  font.set_text(s, 0, flags=flags)\n",
            "/usr/local/lib/python3.7/dist-packages/matplotlib/backends/backend_agg.py:183: RuntimeWarning: Glyph 51228 missing from current font.\n",
            "  font.set_text(s, 0, flags=flags)\n",
            "/usr/local/lib/python3.7/dist-packages/matplotlib/backends/backend_agg.py:183: RuntimeWarning: Glyph 51088 missing from current font.\n",
            "  font.set_text(s, 0, flags=flags)\n",
            "/usr/local/lib/python3.7/dist-packages/matplotlib/backends/backend_agg.py:183: RuntimeWarning: Glyph 52824 missing from current font.\n",
            "  font.set_text(s, 0, flags=flags)\n",
            "/usr/local/lib/python3.7/dist-packages/matplotlib/backends/backend_agg.py:183: RuntimeWarning: Glyph 49464 missing from current font.\n",
            "  font.set_text(s, 0, flags=flags)\n",
            "/usr/local/lib/python3.7/dist-packages/matplotlib/backends/backend_agg.py:183: RuntimeWarning: Glyph 51333 missing from current font.\n",
            "  font.set_text(s, 0, flags=flags)\n",
            "/usr/local/lib/python3.7/dist-packages/matplotlib/backends/backend_agg.py:183: RuntimeWarning: Glyph 46041 missing from current font.\n",
            "  font.set_text(s, 0, flags=flags)\n",
            "/usr/local/lib/python3.7/dist-packages/matplotlib/backends/backend_agg.py:183: RuntimeWarning: Glyph 44144 missing from current font.\n",
            "  font.set_text(s, 0, flags=flags)\n",
            "/usr/local/lib/python3.7/dist-packages/matplotlib/backends/backend_agg.py:183: RuntimeWarning: Glyph 47000 missing from current font.\n",
            "  font.set_text(s, 0, flags=flags)\n",
            "/usr/local/lib/python3.7/dist-packages/matplotlib/backends/backend_agg.py:183: RuntimeWarning: Glyph 44148 missing from current font.\n",
            "  font.set_text(s, 0, flags=flags)\n",
            "/usr/local/lib/python3.7/dist-packages/matplotlib/backends/backend_agg.py:183: RuntimeWarning: Glyph 51648 missing from current font.\n",
            "  font.set_text(s, 0, flags=flags)\n"
          ],
          "name": "stderr"
        },
        {
          "output_type": "display_data",
          "data": {
            "image/png": "[encoded data removed]",
            "text/plain": [
              "<Figure size 1152x576 with 1 Axes>"
            ]
          },
          "metadata": {
            "tags": [],
            "needs_background": "light"
          }
        }
      ]
    },
    {
      "cell_type": "code",
      "metadata": {
        "id": "Hpzj7izUQZpC"
      },
      "source": [
        ""
      ],
      "execution_count": null,
      "outputs": []
    },
    {
      "cell_type": "code",
      "metadata": {
        "colab": {
          "base_uri": "https://localhost:8080/",
          "height": 297
        },
        "id": "gGmGNG8WIE-_",
        "outputId": "b5e02188-eecc-4dcc-cea1-a3771561a156"
      },
      "source": [
        "house_data[['연면적(㎡)', '대지면적(㎡)']].describe()"
      ],
      "execution_count": null,
      "outputs": [
        {
          "output_type": "execute_result",
          "data": {
            "text/html": [
              "<div>\n",
              "<style scoped>\n",
              "    .dataframe tbody tr th:only-of-type {\n",
              "        vertical-align: middle;\n",
              "    }\n",
              "\n",
              "    .dataframe tbody tr th {\n",
              "        vertical-align: top;\n",
              "    }\n",
              "\n",
              "    .dataframe thead th {\n",
              "        text-align: right;\n",
              "    }\n",
              "</style>\n",
              "<table border=\"1\" class=\"dataframe\">\n",
              "  <thead>\n",
              "    <tr style=\"text-align: right;\">\n",
              "      <th></th>\n",
              "      <th>연면적(㎡)</th>\n",
              "      <th>대지면적(㎡)</th>\n",
              "    </tr>\n",
              "  </thead>\n",
              "  <tbody>\n",
              "    <tr>\n",
              "      <th>count</th>\n",
              "      <td>88593.000000</td>\n",
              "      <td>88593.000000</td>\n",
              "    </tr>\n",
              "    <tr>\n",
              "      <th>mean</th>\n",
              "      <td>151.532877</td>\n",
              "      <td>262.814051</td>\n",
              "    </tr>\n",
              "    <tr>\n",
              "      <th>std</th>\n",
              "      <td>131.109247</td>\n",
              "      <td>494.039036</td>\n",
              "    </tr>\n",
              "    <tr>\n",
              "      <th>min</th>\n",
              "      <td>4.860000</td>\n",
              "      <td>3.880000</td>\n",
              "    </tr>\n",
              "    <tr>\n",
              "      <th>25%</th>\n",
              "      <td>68.320000</td>\n",
              "      <td>122.000000</td>\n",
              "    </tr>\n",
              "    <tr>\n",
              "      <th>50%</th>\n",
              "      <td>108.670000</td>\n",
              "      <td>182.000000</td>\n",
              "    </tr>\n",
              "    <tr>\n",
              "      <th>75%</th>\n",
              "      <td>182.340000</td>\n",
              "      <td>317.000000</td>\n",
              "    </tr>\n",
              "    <tr>\n",
              "      <th>max</th>\n",
              "      <td>4184.560000</td>\n",
              "      <td>119119.000000</td>\n",
              "    </tr>\n",
              "  </tbody>\n",
              "</table>\n",
              "</div>"
            ],
            "text/plain": [
              "             연면적(㎡)        대지면적(㎡)\n",
              "count  88593.000000   88593.000000\n",
              "mean     151.532877     262.814051\n",
              "std      131.109247     494.039036\n",
              "min        4.860000       3.880000\n",
              "25%       68.320000     122.000000\n",
              "50%      108.670000     182.000000\n",
              "75%      182.340000     317.000000\n",
              "max     4184.560000  119119.000000"
            ]
          },
          "metadata": {
            "tags": []
          },
          "execution_count": 52
        }
      ]
    },
    {
      "cell_type": "code",
      "metadata": {
        "colab": {
          "base_uri": "https://localhost:8080/",
          "height": 392
        },
        "id": "VWAgWNFuIg0u",
        "outputId": "fcaea054-32e3-4753-bad4-537b5b7a4b03"
      },
      "source": [
        "sns.pairplot(house_data[['연면적(㎡)','대지면적(㎡)']])"
      ],
      "execution_count": null,
      "outputs": [
        {
          "output_type": "execute_result",
          "data": {
            "text/plain": [
              "<seaborn.axisgrid.PairGrid at 0x7f89951bbbd0>"
            ]
          },
          "metadata": {
            "tags": []
          },
          "execution_count": 53
        },
        {
          "output_type": "display_data",
          "data": {
            "image/png": "[encoded data removed]",
            "text/plain": [
              "<Figure size 360x360 with 6 Axes>"
            ]
          },
          "metadata": {
            "tags": [],
            "needs_background": "light"
          }
        }
      ]
    },
    {
      "cell_type": "code",
      "metadata": {
        "colab": {
          "base_uri": "https://localhost:8080/"
        },
        "id": "1WkvCwTsKf6m",
        "outputId": "3d0b1ac3-e189-4313-8c13-13997ac1f4f5"
      },
      "source": [
        "# 평균과 표준편차 이용 이상치 제거\n",
        "house_total_area_mean = house_data['연면적(㎡)'].mean()\n",
        "house_total_area_std = house_data['연면적(㎡)'].std()\n",
        "\n",
        "print(house_total_area_mean, house_total_area_std)\n",
        "\n",
        "house_area_mean = house_data['대지면적(㎡)'].mean()\n",
        "house_area_std = house_data['대지면적(㎡)'].std()\n",
        "\n",
        "print(house_area_mean, house_area_std)"
      ],
      "execution_count": null,
      "outputs": [
        {
          "output_type": "stream",
          "text": [
            "151.53287663811082 131.1092473522182\n",
            "262.8140509972595 494.0390362198663\n"
          ],
          "name": "stdout"
        }
      ]
    },
    {
      "cell_type": "code",
      "metadata": {
        "colab": {
          "base_uri": "https://localhost:8080/"
        },
        "id": "joEV2v7BMsje",
        "outputId": "6d49aba8-d145-4a0a-db6c-b587b0de69b1"
      },
      "source": [
        "print(len(house_data), len(house_data[house_data['연면적(㎡)'] > house_total_area_mean + 2*house_total_area_std]))\n",
        "print(len(house_data), len(house_data[house_data['대지면적(㎡)'] > house_area_mean + 2*house_area_std]) )"
      ],
      "execution_count": null,
      "outputs": [
        {
          "output_type": "stream",
          "text": [
            "88593 5316\n",
            "88593 577\n"
          ],
          "name": "stdout"
        }
      ]
    },
    {
      "cell_type": "code",
      "metadata": {
        "colab": {
          "base_uri": "https://localhost:8080/"
        },
        "id": "Ay_omjlkODqn",
        "outputId": "bbfb8f0a-b77e-4a1f-bc5e-d9dce9783cb9"
      },
      "source": [
        "house_area_mean + 2*house_area_std"
      ],
      "execution_count": null,
      "outputs": [
        {
          "output_type": "execute_result",
          "data": {
            "text/plain": [
              "1250.8921234369923"
            ]
          },
          "metadata": {
            "tags": []
          },
          "execution_count": 56
        }
      ]
    },
    {
      "cell_type": "code",
      "metadata": {
        "colab": {
          "base_uri": "https://localhost:8080/"
        },
        "id": "lhW1Ge9aOF-c",
        "outputId": "4e515a88-2777-4c6f-87f2-0e5c89bba3c3"
      },
      "source": [
        "house_total_area_mean + 2*house_total_area_std"
      ],
      "execution_count": null,
      "outputs": [
        {
          "output_type": "execute_result",
          "data": {
            "text/plain": [
              "413.75137134254726"
            ]
          },
          "metadata": {
            "tags": []
          },
          "execution_count": 57
        }
      ]
    },
    {
      "cell_type": "code",
      "metadata": {
        "colab": {
          "base_uri": "https://localhost:8080/",
          "height": 77
        },
        "id": "Z1HiO54VM5ys",
        "outputId": "0f277d58-6adb-46f7-f077-fa0c5975c132"
      },
      "source": [
        "house_data[house_data['연면적(㎡)'] > 3000]"
      ],
      "execution_count": null,
      "outputs": [
        {
          "output_type": "execute_result",
          "data": {
            "text/html": [
              "<div>\n",
              "<style scoped>\n",
              "    .dataframe tbody tr th:only-of-type {\n",
              "        vertical-align: middle;\n",
              "    }\n",
              "\n",
              "    .dataframe tbody tr th {\n",
              "        vertical-align: top;\n",
              "    }\n",
              "\n",
              "    .dataframe thead th {\n",
              "        text-align: right;\n",
              "    }\n",
              "</style>\n",
              "<table border=\"1\" class=\"dataframe\">\n",
              "  <thead>\n",
              "    <tr style=\"text-align: right;\">\n",
              "      <th></th>\n",
              "      <th>주택유형</th>\n",
              "      <th>도로조건</th>\n",
              "      <th>연면적(㎡)</th>\n",
              "      <th>대지면적(㎡)</th>\n",
              "      <th>거래금액(만원)</th>\n",
              "      <th>건축년도</th>\n",
              "      <th>연도</th>\n",
              "      <th>월</th>\n",
              "      <th>SiDo</th>\n",
              "      <th>SiGunGu</th>\n",
              "      <th>DongLi</th>\n",
              "      <th>ID</th>\n",
              "    </tr>\n",
              "  </thead>\n",
              "  <tbody>\n",
              "    <tr>\n",
              "      <th>22710</th>\n",
              "      <td>단독</td>\n",
              "      <td>8.0</td>\n",
              "      <td>4184.56</td>\n",
              "      <td>163.0</td>\n",
              "      <td>36000.0</td>\n",
              "      <td>1997.0</td>\n",
              "      <td>2018</td>\n",
              "      <td>3</td>\n",
              "      <td>인천광역시</td>\n",
              "      <td>남동구</td>\n",
              "      <td>만수동</td>\n",
              "      <td>인천 남동</td>\n",
              "    </tr>\n",
              "  </tbody>\n",
              "</table>\n",
              "</div>"
            ],
            "text/plain": [
              "      주택유형  도로조건   연면적(㎡)  대지면적(㎡)  거래금액(만원)  ...  월   SiDo  SiGunGu DongLi     ID\n",
              "22710   단독   8.0  4184.56    163.0   36000.0  ...  3  인천광역시      남동구    만수동  인천 남동\n",
              "\n",
              "[1 rows x 12 columns]"
            ]
          },
          "metadata": {
            "tags": []
          },
          "execution_count": 53
        }
      ]
    },
    {
      "cell_type": "code",
      "metadata": {
        "colab": {
          "base_uri": "https://localhost:8080/",
          "height": 402
        },
        "id": "YI4O2jgXNC-F",
        "outputId": "0e4155e9-7f87-4a4f-ec3c-844cf523e684"
      },
      "source": [
        "house_data[house_data['대지면적(㎡)'] > 3000]"
      ],
      "execution_count": null,
      "outputs": [
        {
          "output_type": "execute_result",
          "data": {
            "text/html": [
              "<div>\n",
              "<style scoped>\n",
              "    .dataframe tbody tr th:only-of-type {\n",
              "        vertical-align: middle;\n",
              "    }\n",
              "\n",
              "    .dataframe tbody tr th {\n",
              "        vertical-align: top;\n",
              "    }\n",
              "\n",
              "    .dataframe thead th {\n",
              "        text-align: right;\n",
              "    }\n",
              "</style>\n",
              "<table border=\"1\" class=\"dataframe\">\n",
              "  <thead>\n",
              "    <tr style=\"text-align: right;\">\n",
              "      <th></th>\n",
              "      <th>주택유형</th>\n",
              "      <th>도로조건</th>\n",
              "      <th>연면적(㎡)</th>\n",
              "      <th>대지면적(㎡)</th>\n",
              "      <th>거래금액(만원)</th>\n",
              "      <th>건축년도</th>\n",
              "      <th>연도</th>\n",
              "      <th>월</th>\n",
              "      <th>SiDo</th>\n",
              "      <th>SiGunGu</th>\n",
              "      <th>DongLi</th>\n",
              "      <th>ID</th>\n",
              "    </tr>\n",
              "  </thead>\n",
              "  <tbody>\n",
              "    <tr>\n",
              "      <th>5505</th>\n",
              "      <td>단독</td>\n",
              "      <td>8.0</td>\n",
              "      <td>268.76</td>\n",
              "      <td>119119.00</td>\n",
              "      <td>70000.0</td>\n",
              "      <td>1992.0</td>\n",
              "      <td>2018</td>\n",
              "      <td>1</td>\n",
              "      <td>서울특별시</td>\n",
              "      <td>영등포구</td>\n",
              "      <td>신길동</td>\n",
              "      <td>서울 영등포</td>\n",
              "    </tr>\n",
              "    <tr>\n",
              "      <th>6777</th>\n",
              "      <td>단독</td>\n",
              "      <td>12.0</td>\n",
              "      <td>1558.07</td>\n",
              "      <td>4812.00</td>\n",
              "      <td>53800.0</td>\n",
              "      <td>1996.0</td>\n",
              "      <td>2018</td>\n",
              "      <td>1</td>\n",
              "      <td>전라북도</td>\n",
              "      <td>부안군</td>\n",
              "      <td>백석리(주산면)</td>\n",
              "      <td>부안</td>\n",
              "    </tr>\n",
              "    <tr>\n",
              "      <th>9180</th>\n",
              "      <td>단독</td>\n",
              "      <td>8.0</td>\n",
              "      <td>84.89</td>\n",
              "      <td>4190.14</td>\n",
              "      <td>45000.0</td>\n",
              "      <td>2014.0</td>\n",
              "      <td>2018</td>\n",
              "      <td>2</td>\n",
              "      <td>경기도</td>\n",
              "      <td>화성시</td>\n",
              "      <td>반송동</td>\n",
              "      <td>화성</td>\n",
              "    </tr>\n",
              "    <tr>\n",
              "      <th>9640</th>\n",
              "      <td>단독</td>\n",
              "      <td>8.0</td>\n",
              "      <td>325.40</td>\n",
              "      <td>3565.00</td>\n",
              "      <td>65000.0</td>\n",
              "      <td>1998.0</td>\n",
              "      <td>2018</td>\n",
              "      <td>2</td>\n",
              "      <td>경상남도</td>\n",
              "      <td>통영시</td>\n",
              "      <td>서산리(욕지면)</td>\n",
              "      <td>통영</td>\n",
              "    </tr>\n",
              "    <tr>\n",
              "      <th>9935</th>\n",
              "      <td>단독</td>\n",
              "      <td>12.0</td>\n",
              "      <td>142.60</td>\n",
              "      <td>7963.00</td>\n",
              "      <td>11700.0</td>\n",
              "      <td>2010.0</td>\n",
              "      <td>2018</td>\n",
              "      <td>2</td>\n",
              "      <td>경상북도</td>\n",
              "      <td>영주시</td>\n",
              "      <td>수철리(풍기읍)</td>\n",
              "      <td>영주</td>\n",
              "    </tr>\n",
              "    <tr>\n",
              "      <th>...</th>\n",
              "      <td>...</td>\n",
              "      <td>...</td>\n",
              "      <td>...</td>\n",
              "      <td>...</td>\n",
              "      <td>...</td>\n",
              "      <td>...</td>\n",
              "      <td>...</td>\n",
              "      <td>...</td>\n",
              "      <td>...</td>\n",
              "      <td>...</td>\n",
              "      <td>...</td>\n",
              "      <td>...</td>\n",
              "    </tr>\n",
              "    <tr>\n",
              "      <th>89049</th>\n",
              "      <td>다가구</td>\n",
              "      <td>12.0</td>\n",
              "      <td>656.00</td>\n",
              "      <td>14559.00</td>\n",
              "      <td>50000.0</td>\n",
              "      <td>2016.0</td>\n",
              "      <td>2018</td>\n",
              "      <td>12</td>\n",
              "      <td>경기도</td>\n",
              "      <td>파주시</td>\n",
              "      <td>덕천리(파평면)</td>\n",
              "      <td>파주</td>\n",
              "    </tr>\n",
              "    <tr>\n",
              "      <th>89285</th>\n",
              "      <td>단독</td>\n",
              "      <td>8.0</td>\n",
              "      <td>425.80</td>\n",
              "      <td>3430.00</td>\n",
              "      <td>83600.0</td>\n",
              "      <td>2010.0</td>\n",
              "      <td>2018</td>\n",
              "      <td>12</td>\n",
              "      <td>경상남도</td>\n",
              "      <td>사천시</td>\n",
              "      <td>송포동</td>\n",
              "      <td>사천</td>\n",
              "    </tr>\n",
              "    <tr>\n",
              "      <th>92292</th>\n",
              "      <td>단독</td>\n",
              "      <td>8.0</td>\n",
              "      <td>52.80</td>\n",
              "      <td>4661.00</td>\n",
              "      <td>1400.0</td>\n",
              "      <td>1987.0</td>\n",
              "      <td>2018</td>\n",
              "      <td>12</td>\n",
              "      <td>전라북도</td>\n",
              "      <td>고창군</td>\n",
              "      <td>검산리(상하면)</td>\n",
              "      <td>고창</td>\n",
              "    </tr>\n",
              "    <tr>\n",
              "      <th>92718</th>\n",
              "      <td>단독</td>\n",
              "      <td>8.0</td>\n",
              "      <td>120.91</td>\n",
              "      <td>3279.00</td>\n",
              "      <td>22000.0</td>\n",
              "      <td>2014.0</td>\n",
              "      <td>2018</td>\n",
              "      <td>12</td>\n",
              "      <td>충청남도</td>\n",
              "      <td>논산시</td>\n",
              "      <td>고내리(연무읍)</td>\n",
              "      <td>논산</td>\n",
              "    </tr>\n",
              "    <tr>\n",
              "      <th>92730</th>\n",
              "      <td>단독</td>\n",
              "      <td>8.0</td>\n",
              "      <td>78.70</td>\n",
              "      <td>4144.00</td>\n",
              "      <td>25000.0</td>\n",
              "      <td>2001.0</td>\n",
              "      <td>2018</td>\n",
              "      <td>12</td>\n",
              "      <td>충청남도</td>\n",
              "      <td>당진시</td>\n",
              "      <td>당진포리(고대면)</td>\n",
              "      <td>당진</td>\n",
              "    </tr>\n",
              "  </tbody>\n",
              "</table>\n",
              "<p>72 rows × 12 columns</p>\n",
              "</div>"
            ],
            "text/plain": [
              "      주택유형  도로조건   연면적(㎡)    대지면적(㎡)  ...   SiDo  SiGunGu     DongLi      ID\n",
              "5505    단독   8.0   268.76  119119.00  ...  서울특별시     영등포구        신길동  서울 영등포\n",
              "6777    단독  12.0  1558.07    4812.00  ...   전라북도      부안군   백석리(주산면)      부안\n",
              "9180    단독   8.0    84.89    4190.14  ...    경기도      화성시        반송동      화성\n",
              "9640    단독   8.0   325.40    3565.00  ...   경상남도      통영시   서산리(욕지면)      통영\n",
              "9935    단독  12.0   142.60    7963.00  ...   경상북도      영주시   수철리(풍기읍)      영주\n",
              "...    ...   ...      ...        ...  ...    ...      ...        ...     ...\n",
              "89049  다가구  12.0   656.00   14559.00  ...    경기도      파주시   덕천리(파평면)      파주\n",
              "89285   단독   8.0   425.80    3430.00  ...   경상남도      사천시        송포동      사천\n",
              "92292   단독   8.0    52.80    4661.00  ...   전라북도      고창군   검산리(상하면)      고창\n",
              "92718   단독   8.0   120.91    3279.00  ...   충청남도      논산시   고내리(연무읍)      논산\n",
              "92730   단독   8.0    78.70    4144.00  ...   충청남도      당진시  당진포리(고대면)      당진\n",
              "\n",
              "[72 rows x 12 columns]"
            ]
          },
          "metadata": {
            "tags": []
          },
          "execution_count": 54
        }
      ]
    },
    {
      "cell_type": "code",
      "metadata": {
        "id": "1_-DW0ePNdqj"
      },
      "source": [
        "house_data = house_data[house_data['대지면적(㎡)'] < 3000] # 대지면적이 3000 이하인 row 삭제\n",
        "house_data = house_data[house_data['연면적(㎡)'] < 3000]   # 연면적이 3000 이하인 row 삭제"
      ],
      "execution_count": null,
      "outputs": []
    },
    {
      "cell_type": "code",
      "metadata": {
        "colab": {
          "base_uri": "https://localhost:8080/"
        },
        "id": "PA7ZQ6KPOPvM",
        "outputId": "97e5510d-b70c-4143-cb33-62172966231d"
      },
      "source": [
        "house_data['건축년도'].describe()"
      ],
      "execution_count": null,
      "outputs": [
        {
          "output_type": "execute_result",
          "data": {
            "text/plain": [
              "count    88519.000000\n",
              "mean      1985.962776\n",
              "std         53.738153\n",
              "min          0.000000\n",
              "25%       1978.000000\n",
              "50%       1989.000000\n",
              "75%       2001.000000\n",
              "max       2019.000000\n",
              "Name: 건축년도, dtype: float64"
            ]
          },
          "metadata": {
            "tags": []
          },
          "execution_count": 56
        }
      ]
    },
    {
      "cell_type": "code",
      "metadata": {
        "id": "pnjzPHXSOxf2"
      },
      "source": [
        "house_data = house_data[house_data['건축년도'] > 0]"
      ],
      "execution_count": null,
      "outputs": []
    },
    {
      "cell_type": "code",
      "metadata": {
        "colab": {
          "base_uri": "https://localhost:8080/"
        },
        "id": "hN8wiEbFO0DT",
        "outputId": "64b558e6-133d-4ac3-ec7d-62d0e7341347"
      },
      "source": [
        "house_data['건축년도'].describe()"
      ],
      "execution_count": null,
      "outputs": [
        {
          "output_type": "execute_result",
          "data": {
            "text/plain": [
              "count    88466.000000\n",
              "mean      1987.152567\n",
              "std         22.917170\n",
              "min        199.000000\n",
              "25%       1978.000000\n",
              "50%       1989.000000\n",
              "75%       2001.000000\n",
              "max       2019.000000\n",
              "Name: 건축년도, dtype: float64"
            ]
          },
          "metadata": {
            "tags": []
          },
          "execution_count": 58
        }
      ]
    },
    {
      "cell_type": "code",
      "metadata": {
        "colab": {
          "base_uri": "https://localhost:8080/"
        },
        "id": "gBeYBPUTOXdc",
        "outputId": "9607a9e3-d138-49c1-c949-ffed3eede85e"
      },
      "source": [
        "house_data['건축년도'].nsmallest(10)"
      ],
      "execution_count": null,
      "outputs": [
        {
          "output_type": "execute_result",
          "data": {
            "text/plain": [
              "45273     199.0\n",
              "8018      976.0\n",
              "3065      987.0\n",
              "20378     987.0\n",
              "46024     987.0\n",
              "37289     992.0\n",
              "377      1900.0\n",
              "411      1900.0\n",
              "416      1900.0\n",
              "418      1900.0\n",
              "Name: 건축년도, dtype: float64"
            ]
          },
          "metadata": {
            "tags": []
          },
          "execution_count": 59
        }
      ]
    },
    {
      "cell_type": "code",
      "metadata": {
        "id": "dX5waFxqOgwd"
      },
      "source": [
        "house_data = house_data[house_data['건축년도'] > 1000] #건축년도가 1900 이하인 row 삭제 (data 입력 오류)"
      ],
      "execution_count": null,
      "outputs": []
    },
    {
      "cell_type": "code",
      "metadata": {
        "colab": {
          "base_uri": "https://localhost:8080/"
        },
        "id": "GQVGMo_TO6XV",
        "outputId": "e40c9d88-5e77-4882-a36e-5dc88c413bfa"
      },
      "source": [
        "house_data.reset_index(inplace = True, drop  = True) # 인덱스 정리 \n",
        "len(house_data)"
      ],
      "execution_count": null,
      "outputs": [
        {
          "output_type": "execute_result",
          "data": {
            "text/plain": [
              "88460"
            ]
          },
          "metadata": {
            "tags": []
          },
          "execution_count": 61
        }
      ]
    },
    {
      "cell_type": "code",
      "metadata": {
        "id": "acwhwhY550cB"
      },
      "source": [
        "# house_data.to_excel('gh_data/2018_modified_data.xlsx', index = None, encoding = 'utf-8') # 파일 저장"
      ],
      "execution_count": null,
      "outputs": []
    },
    {
      "cell_type": "code",
      "metadata": {
        "colab": {
          "base_uri": "https://localhost:8080/",
          "height": 517
        },
        "id": "LysDqVhMO8jF",
        "outputId": "be0cefe3-f57a-4ffc-b73c-d29d5cd1ee74"
      },
      "source": [
        "attributes = ['거래금액(만원)', '건축년도', '연면적(㎡)', '대지면적(㎡)']\n",
        "fig = scatter_matrix(house_data[attributes], figsize = (8,8))"
      ],
      "execution_count": null,
      "outputs": [
        {
          "output_type": "display_data",
          "data": {
            "image/png": "[encoded data removed]",
            "text/plain": [
              "<Figure size 576x576 with 16 Axes>"
            ]
          },
          "metadata": {
            "tags": [],
            "needs_background": "light"
          }
        }
      ]
    },
    {
      "cell_type": "code",
      "metadata": {
        "colab": {
          "base_uri": "https://localhost:8080/",
          "height": 518
        },
        "id": "0-JAMdaSP0C9",
        "outputId": "65a599f0-c791-44f2-f893-29cef808cccc"
      },
      "source": [
        "house_data_daegu = house_data[house_data['SiDo'] == '대구광역시']\n",
        "fig = scatter_matrix(house_data_daegu[attributes], figsize = (8,8))\n",
        "\n",
        "plt.show()"
      ],
      "execution_count": null,
      "outputs": [
        {
          "output_type": "display_data",
          "data": {
            "image/png": "[encoded data removed]",
            "text/plain": [
              "<Figure size 576x576 with 16 Axes>"
            ]
          },
          "metadata": {
            "tags": [],
            "needs_background": "light"
          }
        }
      ]
    },
    {
      "cell_type": "code",
      "metadata": {
        "id": "1gFa1PdWQAyd"
      },
      "source": [
        ""
      ],
      "execution_count": null,
      "outputs": []
    },
    {
      "cell_type": "code",
      "metadata": {
        "id": "DPs22J3RRDHq"
      },
      "source": [
        ""
      ],
      "execution_count": null,
      "outputs": []
    },
    {
      "cell_type": "code",
      "metadata": {
        "id": "RKE2gwEzRDKv"
      },
      "source": [
        ""
      ],
      "execution_count": null,
      "outputs": []
    },
    {
      "cell_type": "code",
      "metadata": {
        "id": "4f0XqvpFRDPa"
      },
      "source": [
        ""
      ],
      "execution_count": null,
      "outputs": []
    },
    {
      "cell_type": "code",
      "metadata": {
        "id": "IOpFNQAiRDW_"
      },
      "source": [
        "# 건물의 유사도 계산 알고리즘 1\n",
        "def Euclidean(region, H):\n",
        "    r = region.split(' ')\n",
        "    idx = (df['SiDo'] == r[0])&(df['SiGunGu'] == r[1])&(df['DongLi'] == r[2])\n",
        "    temp_df = df[idx]\n",
        "    if len(temp_df) == 0:\n",
        "        print('해당 조건의 집이 없습니다.')\n",
        "    else:\n",
        "        list_col = ['연면적(㎡)', '대지면적(㎡)', '건축년도', '거래금액(만원)']\n",
        "        difference = (temp_df[list_col] - H)/temp_df[list_col].std()\n",
        "        difference = np.square(difference).sum(axis=1)\n",
        "        distance = np.sqrt(difference)\n",
        "        temp_df['distance'] = np.sqrt(distance)\n",
        "        if len(temp_df) == 0:\n",
        "            print('해당 조건의 집이 없습니다.')\n",
        "        else:\n",
        "            temp_df = temp_df.sort_values(by = ['distance'])\n",
        "            temp_df.reset_index(inplace = True, drop = True)\n",
        "            return temp_df"
      ],
      "execution_count": null,
      "outputs": []
    },
    {
      "cell_type": "code",
      "metadata": {
        "colab": {
          "base_uri": "https://localhost:8080/",
          "height": 1000
        },
        "id": "OSLL3SOsRZDt",
        "outputId": "9f62d01d-110f-4176-acbf-0e7a463a4e6b"
      },
      "source": [
        "region = '대구광역시 북구 복현동'\n",
        "# h1 = 연면적, h2 = 대지면적, h3 = 건축년도, h4 = 거래금액\n",
        "h1 = 300; h2 = 250 ;h3 = 2010; h4 = 60000\n",
        "H = (h1, h2, h3, h4)\n",
        "\n",
        "Euclidean(region, H)"
      ],
      "execution_count": null,
      "outputs": [
        {
          "output_type": "stream",
          "text": [
            "/usr/local/lib/python3.7/dist-packages/ipykernel_launcher.py:13: SettingWithCopyWarning: \n",
            "A value is trying to be set on a copy of a slice from a DataFrame.\n",
            "Try using .loc[row_indexer,col_indexer] = value instead\n",
            "\n",
            "See the caveats in the documentation: https://pandas.pydata.org/pandas-docs/stable/user_guide/indexing.html#returning-a-view-versus-a-copy\n",
            "  del sys.path[0]\n"
          ],
          "name": "stderr"
        },
        {
          "output_type": "execute_result",
          "data": {
            "text/html": [
              "<div>\n",
              "<style scoped>\n",
              "    .dataframe tbody tr th:only-of-type {\n",
              "        vertical-align: middle;\n",
              "    }\n",
              "\n",
              "    .dataframe tbody tr th {\n",
              "        vertical-align: top;\n",
              "    }\n",
              "\n",
              "    .dataframe thead th {\n",
              "        text-align: right;\n",
              "    }\n",
              "</style>\n",
              "<table border=\"1\" class=\"dataframe\">\n",
              "  <thead>\n",
              "    <tr style=\"text-align: right;\">\n",
              "      <th></th>\n",
              "      <th>시군구</th>\n",
              "      <th>주택유형</th>\n",
              "      <th>도로조건</th>\n",
              "      <th>연면적(㎡)</th>\n",
              "      <th>대지면적(㎡)</th>\n",
              "      <th>거래금액(만원)</th>\n",
              "      <th>건축년도</th>\n",
              "      <th>연도</th>\n",
              "      <th>월</th>\n",
              "      <th>SiDo</th>\n",
              "      <th>SiGunGu</th>\n",
              "      <th>DongLi</th>\n",
              "      <th>ID</th>\n",
              "      <th>distance</th>\n",
              "    </tr>\n",
              "  </thead>\n",
              "  <tbody>\n",
              "    <tr>\n",
              "      <th>0</th>\n",
              "      <td>대구광역시 북구 복현동</td>\n",
              "      <td>단독</td>\n",
              "      <td>8.0</td>\n",
              "      <td>299.70</td>\n",
              "      <td>217.0</td>\n",
              "      <td>63300.0</td>\n",
              "      <td>2013.0</td>\n",
              "      <td>2018</td>\n",
              "      <td>4</td>\n",
              "      <td>대구광역시</td>\n",
              "      <td>북구</td>\n",
              "      <td>복현동</td>\n",
              "      <td>대구 북구</td>\n",
              "      <td>0.635628</td>\n",
              "    </tr>\n",
              "    <tr>\n",
              "      <th>1</th>\n",
              "      <td>대구광역시 북구 복현동</td>\n",
              "      <td>단독</td>\n",
              "      <td>8.0</td>\n",
              "      <td>417.99</td>\n",
              "      <td>218.0</td>\n",
              "      <td>60000.0</td>\n",
              "      <td>2009.0</td>\n",
              "      <td>2018</td>\n",
              "      <td>1</td>\n",
              "      <td>대구광역시</td>\n",
              "      <td>북구</td>\n",
              "      <td>복현동</td>\n",
              "      <td>대구 북구</td>\n",
              "      <td>0.907315</td>\n",
              "    </tr>\n",
              "    <tr>\n",
              "      <th>2</th>\n",
              "      <td>대구광역시 북구 복현동</td>\n",
              "      <td>단독</td>\n",
              "      <td>12.0</td>\n",
              "      <td>241.68</td>\n",
              "      <td>140.6</td>\n",
              "      <td>55000.0</td>\n",
              "      <td>2014.0</td>\n",
              "      <td>2018</td>\n",
              "      <td>6</td>\n",
              "      <td>대구광역시</td>\n",
              "      <td>북구</td>\n",
              "      <td>복현동</td>\n",
              "      <td>대구 북구</td>\n",
              "      <td>1.096455</td>\n",
              "    </tr>\n",
              "    <tr>\n",
              "      <th>3</th>\n",
              "      <td>대구광역시 북구 복현동</td>\n",
              "      <td>단독</td>\n",
              "      <td>12.0</td>\n",
              "      <td>446.38</td>\n",
              "      <td>173.5</td>\n",
              "      <td>77800.0</td>\n",
              "      <td>2009.0</td>\n",
              "      <td>2018</td>\n",
              "      <td>9</td>\n",
              "      <td>대구광역시</td>\n",
              "      <td>북구</td>\n",
              "      <td>복현동</td>\n",
              "      <td>대구 북구</td>\n",
              "      <td>1.133452</td>\n",
              "    </tr>\n",
              "    <tr>\n",
              "      <th>4</th>\n",
              "      <td>대구광역시 북구 복현동</td>\n",
              "      <td>단독</td>\n",
              "      <td>8.0</td>\n",
              "      <td>493.04</td>\n",
              "      <td>204.9</td>\n",
              "      <td>60800.0</td>\n",
              "      <td>2001.0</td>\n",
              "      <td>2018</td>\n",
              "      <td>9</td>\n",
              "      <td>대구광역시</td>\n",
              "      <td>북구</td>\n",
              "      <td>복현동</td>\n",
              "      <td>대구 북구</td>\n",
              "      <td>1.211362</td>\n",
              "    </tr>\n",
              "    <tr>\n",
              "      <th>5</th>\n",
              "      <td>대구광역시 북구 복현동</td>\n",
              "      <td>단독</td>\n",
              "      <td>8.0</td>\n",
              "      <td>329.37</td>\n",
              "      <td>198.4</td>\n",
              "      <td>60000.0</td>\n",
              "      <td>1991.0</td>\n",
              "      <td>2018</td>\n",
              "      <td>6</td>\n",
              "      <td>대구광역시</td>\n",
              "      <td>북구</td>\n",
              "      <td>복현동</td>\n",
              "      <td>대구 북구</td>\n",
              "      <td>1.217204</td>\n",
              "    </tr>\n",
              "    <tr>\n",
              "      <th>6</th>\n",
              "      <td>대구광역시 북구 복현동</td>\n",
              "      <td>단독</td>\n",
              "      <td>8.0</td>\n",
              "      <td>197.96</td>\n",
              "      <td>116.1</td>\n",
              "      <td>42500.0</td>\n",
              "      <td>2009.0</td>\n",
              "      <td>2018</td>\n",
              "      <td>1</td>\n",
              "      <td>대구광역시</td>\n",
              "      <td>북구</td>\n",
              "      <td>복현동</td>\n",
              "      <td>대구 북구</td>\n",
              "      <td>1.246429</td>\n",
              "    </tr>\n",
              "    <tr>\n",
              "      <th>7</th>\n",
              "      <td>대구광역시 북구 복현동</td>\n",
              "      <td>다가구</td>\n",
              "      <td>8.0</td>\n",
              "      <td>202.74</td>\n",
              "      <td>137.7</td>\n",
              "      <td>25900.0</td>\n",
              "      <td>2002.0</td>\n",
              "      <td>2018</td>\n",
              "      <td>11</td>\n",
              "      <td>대구광역시</td>\n",
              "      <td>북구</td>\n",
              "      <td>복현동</td>\n",
              "      <td>대구 북구</td>\n",
              "      <td>1.275931</td>\n",
              "    </tr>\n",
              "    <tr>\n",
              "      <th>8</th>\n",
              "      <td>대구광역시 북구 복현동</td>\n",
              "      <td>다가구</td>\n",
              "      <td>8.0</td>\n",
              "      <td>460.85</td>\n",
              "      <td>232.0</td>\n",
              "      <td>120000.0</td>\n",
              "      <td>2013.0</td>\n",
              "      <td>2018</td>\n",
              "      <td>5</td>\n",
              "      <td>대구광역시</td>\n",
              "      <td>북구</td>\n",
              "      <td>복현동</td>\n",
              "      <td>대구 북구</td>\n",
              "      <td>1.333892</td>\n",
              "    </tr>\n",
              "    <tr>\n",
              "      <th>9</th>\n",
              "      <td>대구광역시 북구 복현동</td>\n",
              "      <td>단독</td>\n",
              "      <td>8.0</td>\n",
              "      <td>196.93</td>\n",
              "      <td>154.0</td>\n",
              "      <td>26000.0</td>\n",
              "      <td>1994.0</td>\n",
              "      <td>2018</td>\n",
              "      <td>3</td>\n",
              "      <td>대구광역시</td>\n",
              "      <td>북구</td>\n",
              "      <td>복현동</td>\n",
              "      <td>대구 북구</td>\n",
              "      <td>1.353598</td>\n",
              "    </tr>\n",
              "    <tr>\n",
              "      <th>10</th>\n",
              "      <td>대구광역시 북구 복현동</td>\n",
              "      <td>다가구</td>\n",
              "      <td>8.0</td>\n",
              "      <td>467.81</td>\n",
              "      <td>205.9</td>\n",
              "      <td>118000.0</td>\n",
              "      <td>2016.0</td>\n",
              "      <td>2018</td>\n",
              "      <td>3</td>\n",
              "      <td>대구광역시</td>\n",
              "      <td>북구</td>\n",
              "      <td>복현동</td>\n",
              "      <td>대구 북구</td>\n",
              "      <td>1.361031</td>\n",
              "    </tr>\n",
              "    <tr>\n",
              "      <th>11</th>\n",
              "      <td>대구광역시 북구 복현동</td>\n",
              "      <td>다가구</td>\n",
              "      <td>12.0</td>\n",
              "      <td>376.91</td>\n",
              "      <td>181.1</td>\n",
              "      <td>125000.0</td>\n",
              "      <td>2018.0</td>\n",
              "      <td>2018</td>\n",
              "      <td>11</td>\n",
              "      <td>대구광역시</td>\n",
              "      <td>북구</td>\n",
              "      <td>복현동</td>\n",
              "      <td>대구 북구</td>\n",
              "      <td>1.361569</td>\n",
              "    </tr>\n",
              "    <tr>\n",
              "      <th>12</th>\n",
              "      <td>대구광역시 북구 복현동</td>\n",
              "      <td>단독</td>\n",
              "      <td>8.0</td>\n",
              "      <td>175.74</td>\n",
              "      <td>139.0</td>\n",
              "      <td>37500.0</td>\n",
              "      <td>1993.0</td>\n",
              "      <td>2018</td>\n",
              "      <td>2</td>\n",
              "      <td>대구광역시</td>\n",
              "      <td>북구</td>\n",
              "      <td>복현동</td>\n",
              "      <td>대구 북구</td>\n",
              "      <td>1.384496</td>\n",
              "    </tr>\n",
              "    <tr>\n",
              "      <th>13</th>\n",
              "      <td>대구광역시 북구 복현동</td>\n",
              "      <td>단독</td>\n",
              "      <td>12.0</td>\n",
              "      <td>164.70</td>\n",
              "      <td>224.4</td>\n",
              "      <td>49000.0</td>\n",
              "      <td>1985.0</td>\n",
              "      <td>2018</td>\n",
              "      <td>2</td>\n",
              "      <td>대구광역시</td>\n",
              "      <td>북구</td>\n",
              "      <td>복현동</td>\n",
              "      <td>대구 북구</td>\n",
              "      <td>1.427851</td>\n",
              "    </tr>\n",
              "    <tr>\n",
              "      <th>14</th>\n",
              "      <td>대구광역시 북구 복현동</td>\n",
              "      <td>단독</td>\n",
              "      <td>8.0</td>\n",
              "      <td>592.40</td>\n",
              "      <td>314.0</td>\n",
              "      <td>89800.0</td>\n",
              "      <td>2001.0</td>\n",
              "      <td>2018</td>\n",
              "      <td>1</td>\n",
              "      <td>대구광역시</td>\n",
              "      <td>북구</td>\n",
              "      <td>복현동</td>\n",
              "      <td>대구 북구</td>\n",
              "      <td>1.482706</td>\n",
              "    </tr>\n",
              "    <tr>\n",
              "      <th>15</th>\n",
              "      <td>대구광역시 북구 복현동</td>\n",
              "      <td>단독</td>\n",
              "      <td>8.0</td>\n",
              "      <td>198.51</td>\n",
              "      <td>200.1</td>\n",
              "      <td>16000.0</td>\n",
              "      <td>1984.0</td>\n",
              "      <td>2018</td>\n",
              "      <td>3</td>\n",
              "      <td>대구광역시</td>\n",
              "      <td>북구</td>\n",
              "      <td>복현동</td>\n",
              "      <td>대구 북구</td>\n",
              "      <td>1.517599</td>\n",
              "    </tr>\n",
              "    <tr>\n",
              "      <th>16</th>\n",
              "      <td>대구광역시 북구 복현동</td>\n",
              "      <td>다가구</td>\n",
              "      <td>8.0</td>\n",
              "      <td>492.82</td>\n",
              "      <td>264.0</td>\n",
              "      <td>139000.0</td>\n",
              "      <td>2017.0</td>\n",
              "      <td>2018</td>\n",
              "      <td>10</td>\n",
              "      <td>대구광역시</td>\n",
              "      <td>북구</td>\n",
              "      <td>복현동</td>\n",
              "      <td>대구 북구</td>\n",
              "      <td>1.518192</td>\n",
              "    </tr>\n",
              "    <tr>\n",
              "      <th>17</th>\n",
              "      <td>대구광역시 북구 복현동</td>\n",
              "      <td>단독</td>\n",
              "      <td>8.0</td>\n",
              "      <td>162.24</td>\n",
              "      <td>94.4</td>\n",
              "      <td>15500.0</td>\n",
              "      <td>1994.0</td>\n",
              "      <td>2018</td>\n",
              "      <td>7</td>\n",
              "      <td>대구광역시</td>\n",
              "      <td>북구</td>\n",
              "      <td>복현동</td>\n",
              "      <td>대구 북구</td>\n",
              "      <td>1.543580</td>\n",
              "    </tr>\n",
              "    <tr>\n",
              "      <th>18</th>\n",
              "      <td>대구광역시 북구 복현동</td>\n",
              "      <td>단독</td>\n",
              "      <td>8.0</td>\n",
              "      <td>100.74</td>\n",
              "      <td>183.6</td>\n",
              "      <td>43000.0</td>\n",
              "      <td>1981.0</td>\n",
              "      <td>2018</td>\n",
              "      <td>1</td>\n",
              "      <td>대구광역시</td>\n",
              "      <td>북구</td>\n",
              "      <td>복현동</td>\n",
              "      <td>대구 북구</td>\n",
              "      <td>1.605026</td>\n",
              "    </tr>\n",
              "    <tr>\n",
              "      <th>19</th>\n",
              "      <td>대구광역시 북구 복현동</td>\n",
              "      <td>단독</td>\n",
              "      <td>8.0</td>\n",
              "      <td>108.77</td>\n",
              "      <td>103.0</td>\n",
              "      <td>18800.0</td>\n",
              "      <td>1990.0</td>\n",
              "      <td>2018</td>\n",
              "      <td>10</td>\n",
              "      <td>대구광역시</td>\n",
              "      <td>북구</td>\n",
              "      <td>복현동</td>\n",
              "      <td>대구 북구</td>\n",
              "      <td>1.610555</td>\n",
              "    </tr>\n",
              "    <tr>\n",
              "      <th>20</th>\n",
              "      <td>대구광역시 북구 복현동</td>\n",
              "      <td>단독</td>\n",
              "      <td>8.0</td>\n",
              "      <td>117.47</td>\n",
              "      <td>116.0</td>\n",
              "      <td>8000.0</td>\n",
              "      <td>1990.0</td>\n",
              "      <td>2018</td>\n",
              "      <td>6</td>\n",
              "      <td>대구광역시</td>\n",
              "      <td>북구</td>\n",
              "      <td>복현동</td>\n",
              "      <td>대구 북구</td>\n",
              "      <td>1.614453</td>\n",
              "    </tr>\n",
              "    <tr>\n",
              "      <th>21</th>\n",
              "      <td>대구광역시 북구 복현동</td>\n",
              "      <td>단독</td>\n",
              "      <td>8.0</td>\n",
              "      <td>105.56</td>\n",
              "      <td>114.0</td>\n",
              "      <td>15000.0</td>\n",
              "      <td>1989.0</td>\n",
              "      <td>2018</td>\n",
              "      <td>10</td>\n",
              "      <td>대구광역시</td>\n",
              "      <td>북구</td>\n",
              "      <td>복현동</td>\n",
              "      <td>대구 북구</td>\n",
              "      <td>1.618611</td>\n",
              "    </tr>\n",
              "    <tr>\n",
              "      <th>22</th>\n",
              "      <td>대구광역시 북구 복현동</td>\n",
              "      <td>단독</td>\n",
              "      <td>12.0</td>\n",
              "      <td>138.20</td>\n",
              "      <td>150.8</td>\n",
              "      <td>40000.0</td>\n",
              "      <td>1980.0</td>\n",
              "      <td>2018</td>\n",
              "      <td>2</td>\n",
              "      <td>대구광역시</td>\n",
              "      <td>북구</td>\n",
              "      <td>복현동</td>\n",
              "      <td>대구 북구</td>\n",
              "      <td>1.626778</td>\n",
              "    </tr>\n",
              "    <tr>\n",
              "      <th>23</th>\n",
              "      <td>대구광역시 북구 복현동</td>\n",
              "      <td>단독</td>\n",
              "      <td>8.0</td>\n",
              "      <td>111.96</td>\n",
              "      <td>128.0</td>\n",
              "      <td>14200.0</td>\n",
              "      <td>1986.0</td>\n",
              "      <td>2018</td>\n",
              "      <td>2</td>\n",
              "      <td>대구광역시</td>\n",
              "      <td>북구</td>\n",
              "      <td>복현동</td>\n",
              "      <td>대구 북구</td>\n",
              "      <td>1.635062</td>\n",
              "    </tr>\n",
              "    <tr>\n",
              "      <th>24</th>\n",
              "      <td>대구광역시 북구 복현동</td>\n",
              "      <td>단독</td>\n",
              "      <td>8.0</td>\n",
              "      <td>114.09</td>\n",
              "      <td>157.0</td>\n",
              "      <td>41000.0</td>\n",
              "      <td>1979.0</td>\n",
              "      <td>2018</td>\n",
              "      <td>3</td>\n",
              "      <td>대구광역시</td>\n",
              "      <td>북구</td>\n",
              "      <td>복현동</td>\n",
              "      <td>대구 북구</td>\n",
              "      <td>1.656164</td>\n",
              "    </tr>\n",
              "    <tr>\n",
              "      <th>25</th>\n",
              "      <td>대구광역시 북구 복현동</td>\n",
              "      <td>단독</td>\n",
              "      <td>8.0</td>\n",
              "      <td>115.83</td>\n",
              "      <td>109.1</td>\n",
              "      <td>19800.0</td>\n",
              "      <td>1983.0</td>\n",
              "      <td>2018</td>\n",
              "      <td>5</td>\n",
              "      <td>대구광역시</td>\n",
              "      <td>북구</td>\n",
              "      <td>복현동</td>\n",
              "      <td>대구 북구</td>\n",
              "      <td>1.688071</td>\n",
              "    </tr>\n",
              "    <tr>\n",
              "      <th>26</th>\n",
              "      <td>대구광역시 북구 복현동</td>\n",
              "      <td>단독</td>\n",
              "      <td>12.0</td>\n",
              "      <td>116.29</td>\n",
              "      <td>106.5</td>\n",
              "      <td>15200.0</td>\n",
              "      <td>1983.0</td>\n",
              "      <td>2018</td>\n",
              "      <td>4</td>\n",
              "      <td>대구광역시</td>\n",
              "      <td>북구</td>\n",
              "      <td>복현동</td>\n",
              "      <td>대구 북구</td>\n",
              "      <td>1.702846</td>\n",
              "    </tr>\n",
              "    <tr>\n",
              "      <th>27</th>\n",
              "      <td>대구광역시 북구 복현동</td>\n",
              "      <td>단독</td>\n",
              "      <td>8.0</td>\n",
              "      <td>82.44</td>\n",
              "      <td>56.0</td>\n",
              "      <td>7200.0</td>\n",
              "      <td>1994.0</td>\n",
              "      <td>2018</td>\n",
              "      <td>6</td>\n",
              "      <td>대구광역시</td>\n",
              "      <td>북구</td>\n",
              "      <td>복현동</td>\n",
              "      <td>대구 북구</td>\n",
              "      <td>1.714784</td>\n",
              "    </tr>\n",
              "    <tr>\n",
              "      <th>28</th>\n",
              "      <td>대구광역시 북구 복현동</td>\n",
              "      <td>단독</td>\n",
              "      <td>25.0</td>\n",
              "      <td>65.79</td>\n",
              "      <td>144.0</td>\n",
              "      <td>31000.0</td>\n",
              "      <td>1975.0</td>\n",
              "      <td>2018</td>\n",
              "      <td>4</td>\n",
              "      <td>대구광역시</td>\n",
              "      <td>북구</td>\n",
              "      <td>복현동</td>\n",
              "      <td>대구 북구</td>\n",
              "      <td>1.790049</td>\n",
              "    </tr>\n",
              "    <tr>\n",
              "      <th>29</th>\n",
              "      <td>대구광역시 북구 복현동</td>\n",
              "      <td>다가구</td>\n",
              "      <td>8.0</td>\n",
              "      <td>54.16</td>\n",
              "      <td>94.8</td>\n",
              "      <td>10000.0</td>\n",
              "      <td>1982.0</td>\n",
              "      <td>2018</td>\n",
              "      <td>12</td>\n",
              "      <td>대구광역시</td>\n",
              "      <td>북구</td>\n",
              "      <td>복현동</td>\n",
              "      <td>대구 북구</td>\n",
              "      <td>1.796568</td>\n",
              "    </tr>\n",
              "    <tr>\n",
              "      <th>30</th>\n",
              "      <td>대구광역시 북구 복현동</td>\n",
              "      <td>단독</td>\n",
              "      <td>8.0</td>\n",
              "      <td>26.73</td>\n",
              "      <td>40.0</td>\n",
              "      <td>2800.0</td>\n",
              "      <td>1985.0</td>\n",
              "      <td>2018</td>\n",
              "      <td>11</td>\n",
              "      <td>대구광역시</td>\n",
              "      <td>북구</td>\n",
              "      <td>복현동</td>\n",
              "      <td>대구 북구</td>\n",
              "      <td>1.884889</td>\n",
              "    </tr>\n",
              "    <tr>\n",
              "      <th>31</th>\n",
              "      <td>대구광역시 북구 복현동</td>\n",
              "      <td>단독</td>\n",
              "      <td>8.0</td>\n",
              "      <td>66.00</td>\n",
              "      <td>142.0</td>\n",
              "      <td>12000.0</td>\n",
              "      <td>1970.0</td>\n",
              "      <td>2018</td>\n",
              "      <td>5</td>\n",
              "      <td>대구광역시</td>\n",
              "      <td>북구</td>\n",
              "      <td>복현동</td>\n",
              "      <td>대구 북구</td>\n",
              "      <td>1.902297</td>\n",
              "    </tr>\n",
              "    <tr>\n",
              "      <th>32</th>\n",
              "      <td>대구광역시 북구 복현동</td>\n",
              "      <td>단독</td>\n",
              "      <td>12.0</td>\n",
              "      <td>206.28</td>\n",
              "      <td>619.8</td>\n",
              "      <td>160000.0</td>\n",
              "      <td>1978.0</td>\n",
              "      <td>2018</td>\n",
              "      <td>10</td>\n",
              "      <td>대구광역시</td>\n",
              "      <td>북구</td>\n",
              "      <td>복현동</td>\n",
              "      <td>대구 북구</td>\n",
              "      <td>2.239737</td>\n",
              "    </tr>\n",
              "  </tbody>\n",
              "</table>\n",
              "</div>"
            ],
            "text/plain": [
              "             시군구 주택유형  도로조건  연면적(㎡)  ...  SiGunGu  DongLi     ID  distance\n",
              "0   대구광역시 북구 복현동   단독   8.0  299.70  ...       북구     복현동  대구 북구  0.635628\n",
              "1   대구광역시 북구 복현동   단독   8.0  417.99  ...       북구     복현동  대구 북구  0.907315\n",
              "2   대구광역시 북구 복현동   단독  12.0  241.68  ...       북구     복현동  대구 북구  1.096455\n",
              "3   대구광역시 북구 복현동   단독  12.0  446.38  ...       북구     복현동  대구 북구  1.133452\n",
              "4   대구광역시 북구 복현동   단독   8.0  493.04  ...       북구     복현동  대구 북구  1.211362\n",
              "5   대구광역시 북구 복현동   단독   8.0  329.37  ...       북구     복현동  대구 북구  1.217204\n",
              "6   대구광역시 북구 복현동   단독   8.0  197.96  ...       북구     복현동  대구 북구  1.246429\n",
              "7   대구광역시 북구 복현동  다가구   8.0  202.74  ...       북구     복현동  대구 북구  1.275931\n",
              "8   대구광역시 북구 복현동  다가구   8.0  460.85  ...       북구     복현동  대구 북구  1.333892\n",
              "9   대구광역시 북구 복현동   단독   8.0  196.93  ...       북구     복현동  대구 북구  1.353598\n",
              "10  대구광역시 북구 복현동  다가구   8.0  467.81  ...       북구     복현동  대구 북구  1.361031\n",
              "11  대구광역시 북구 복현동  다가구  12.0  376.91  ...       북구     복현동  대구 북구  1.361569\n",
              "12  대구광역시 북구 복현동   단독   8.0  175.74  ...       북구     복현동  대구 북구  1.384496\n",
              "13  대구광역시 북구 복현동   단독  12.0  164.70  ...       북구     복현동  대구 북구  1.427851\n",
              "14  대구광역시 북구 복현동   단독   8.0  592.40  ...       북구     복현동  대구 북구  1.482706\n",
              "15  대구광역시 북구 복현동   단독   8.0  198.51  ...       북구     복현동  대구 북구  1.517599\n",
              "16  대구광역시 북구 복현동  다가구   8.0  492.82  ...       북구     복현동  대구 북구  1.518192\n",
              "17  대구광역시 북구 복현동   단독   8.0  162.24  ...       북구     복현동  대구 북구  1.543580\n",
              "18  대구광역시 북구 복현동   단독   8.0  100.74  ...       북구     복현동  대구 북구  1.605026\n",
              "19  대구광역시 북구 복현동   단독   8.0  108.77  ...       북구     복현동  대구 북구  1.610555\n",
              "20  대구광역시 북구 복현동   단독   8.0  117.47  ...       북구     복현동  대구 북구  1.614453\n",
              "21  대구광역시 북구 복현동   단독   8.0  105.56  ...       북구     복현동  대구 북구  1.618611\n",
              "22  대구광역시 북구 복현동   단독  12.0  138.20  ...       북구     복현동  대구 북구  1.626778\n",
              "23  대구광역시 북구 복현동   단독   8.0  111.96  ...       북구     복현동  대구 북구  1.635062\n",
              "24  대구광역시 북구 복현동   단독   8.0  114.09  ...       북구     복현동  대구 북구  1.656164\n",
              "25  대구광역시 북구 복현동   단독   8.0  115.83  ...       북구     복현동  대구 북구  1.688071\n",
              "26  대구광역시 북구 복현동   단독  12.0  116.29  ...       북구     복현동  대구 북구  1.702846\n",
              "27  대구광역시 북구 복현동   단독   8.0   82.44  ...       북구     복현동  대구 북구  1.714784\n",
              "28  대구광역시 북구 복현동   단독  25.0   65.79  ...       북구     복현동  대구 북구  1.790049\n",
              "29  대구광역시 북구 복현동  다가구   8.0   54.16  ...       북구     복현동  대구 북구  1.796568\n",
              "30  대구광역시 북구 복현동   단독   8.0   26.73  ...       북구     복현동  대구 북구  1.884889\n",
              "31  대구광역시 북구 복현동   단독   8.0   66.00  ...       북구     복현동  대구 북구  1.902297\n",
              "32  대구광역시 북구 복현동   단독  12.0  206.28  ...       북구     복현동  대구 북구  2.239737\n",
              "\n",
              "[33 rows x 14 columns]"
            ]
          },
          "metadata": {
            "tags": []
          },
          "execution_count": 64
        }
      ]
    },
    {
      "cell_type": "code",
      "metadata": {
        "id": "iy5jTRInSGKz"
      },
      "source": [
        "#Euclidean(region, H).head()"
      ],
      "execution_count": null,
      "outputs": []
    },
    {
      "cell_type": "code",
      "metadata": {
        "id": "UvTyNyqPRkIk"
      },
      "source": [
        "# 건물의 유사도 계산 알고리즘 2\n",
        "def Mahalanobis(region, H):\n",
        "    r = region.split(' ')\n",
        "    idx = (df['SiDo'] == r[0])&(df['SiGunGu'] == r[1])&(df['DongLi'] == r[2])\n",
        "    temp_df = df[idx]\n",
        "    if len(temp_df) == 0:\n",
        "        print('해당 조건의 집이 없습니다.')\n",
        "    else:\n",
        "        list_col = ['연면적(㎡)', '대지면적(㎡)', '건축년도', '거래금액(만원)']\n",
        "        df1 = temp_df[list_col]\n",
        "        Cov = np.cov(df1.T)\n",
        "        Cov_inv = np.linalg.inv(Cov)\n",
        "\n",
        "        tmp = np.dot(abs(df1-H),Cov_inv)\n",
        "        tmp = np.dot(tmp,abs(df1-H).T)\n",
        "        distance = np.sqrt(np.diag(tmp))\n",
        "\n",
        "        temp_df['distance'] = distance\n",
        "\n",
        "        temp_df = temp_df.sort_values(by = ['distance'])\n",
        "        temp_df.reset_index(inplace = True, drop = True)\n",
        "\n",
        "        return temp_df"
      ],
      "execution_count": null,
      "outputs": []
    },
    {
      "cell_type": "code",
      "metadata": {
        "colab": {
          "base_uri": "https://localhost:8080/",
          "height": 1000
        },
        "id": "8LppzVMSSBoV",
        "outputId": "26a83c8c-0ff1-435e-b78d-ce2162db6232"
      },
      "source": [
        "Mahalanobis(region, H)"
      ],
      "execution_count": null,
      "outputs": [
        {
          "output_type": "stream",
          "text": [
            "/usr/local/lib/python3.7/dist-packages/ipykernel_launcher.py:18: SettingWithCopyWarning: \n",
            "A value is trying to be set on a copy of a slice from a DataFrame.\n",
            "Try using .loc[row_indexer,col_indexer] = value instead\n",
            "\n",
            "See the caveats in the documentation: https://pandas.pydata.org/pandas-docs/stable/user_guide/indexing.html#returning-a-view-versus-a-copy\n"
          ],
          "name": "stderr"
        },
        {
          "output_type": "execute_result",
          "data": {
            "text/html": [
              "<div>\n",
              "<style scoped>\n",
              "    .dataframe tbody tr th:only-of-type {\n",
              "        vertical-align: middle;\n",
              "    }\n",
              "\n",
              "    .dataframe tbody tr th {\n",
              "        vertical-align: top;\n",
              "    }\n",
              "\n",
              "    .dataframe thead th {\n",
              "        text-align: right;\n",
              "    }\n",
              "</style>\n",
              "<table border=\"1\" class=\"dataframe\">\n",
              "  <thead>\n",
              "    <tr style=\"text-align: right;\">\n",
              "      <th></th>\n",
              "      <th>시군구</th>\n",
              "      <th>주택유형</th>\n",
              "      <th>도로조건</th>\n",
              "      <th>연면적(㎡)</th>\n",
              "      <th>대지면적(㎡)</th>\n",
              "      <th>거래금액(만원)</th>\n",
              "      <th>건축년도</th>\n",
              "      <th>연도</th>\n",
              "      <th>월</th>\n",
              "      <th>SiDo</th>\n",
              "      <th>SiGunGu</th>\n",
              "      <th>DongLi</th>\n",
              "      <th>ID</th>\n",
              "      <th>distance</th>\n",
              "    </tr>\n",
              "  </thead>\n",
              "  <tbody>\n",
              "    <tr>\n",
              "      <th>0</th>\n",
              "      <td>대구광역시 북구 복현동</td>\n",
              "      <td>단독</td>\n",
              "      <td>8.0</td>\n",
              "      <td>299.70</td>\n",
              "      <td>217.0</td>\n",
              "      <td>63300.0</td>\n",
              "      <td>2013.0</td>\n",
              "      <td>2018</td>\n",
              "      <td>4</td>\n",
              "      <td>대구광역시</td>\n",
              "      <td>북구</td>\n",
              "      <td>복현동</td>\n",
              "      <td>대구 북구</td>\n",
              "      <td>0.896501</td>\n",
              "    </tr>\n",
              "    <tr>\n",
              "      <th>1</th>\n",
              "      <td>대구광역시 북구 복현동</td>\n",
              "      <td>단독</td>\n",
              "      <td>8.0</td>\n",
              "      <td>417.99</td>\n",
              "      <td>218.0</td>\n",
              "      <td>60000.0</td>\n",
              "      <td>2009.0</td>\n",
              "      <td>2018</td>\n",
              "      <td>1</td>\n",
              "      <td>대구광역시</td>\n",
              "      <td>북구</td>\n",
              "      <td>복현동</td>\n",
              "      <td>대구 북구</td>\n",
              "      <td>1.449746</td>\n",
              "    </tr>\n",
              "    <tr>\n",
              "      <th>2</th>\n",
              "      <td>대구광역시 북구 복현동</td>\n",
              "      <td>다가구</td>\n",
              "      <td>8.0</td>\n",
              "      <td>202.74</td>\n",
              "      <td>137.7</td>\n",
              "      <td>25900.0</td>\n",
              "      <td>2002.0</td>\n",
              "      <td>2018</td>\n",
              "      <td>11</td>\n",
              "      <td>대구광역시</td>\n",
              "      <td>북구</td>\n",
              "      <td>복현동</td>\n",
              "      <td>대구 북구</td>\n",
              "      <td>1.487481</td>\n",
              "    </tr>\n",
              "    <tr>\n",
              "      <th>3</th>\n",
              "      <td>대구광역시 북구 복현동</td>\n",
              "      <td>단독</td>\n",
              "      <td>12.0</td>\n",
              "      <td>446.38</td>\n",
              "      <td>173.5</td>\n",
              "      <td>77800.0</td>\n",
              "      <td>2009.0</td>\n",
              "      <td>2018</td>\n",
              "      <td>9</td>\n",
              "      <td>대구광역시</td>\n",
              "      <td>북구</td>\n",
              "      <td>복현동</td>\n",
              "      <td>대구 북구</td>\n",
              "      <td>1.496328</td>\n",
              "    </tr>\n",
              "    <tr>\n",
              "      <th>4</th>\n",
              "      <td>대구광역시 북구 복현동</td>\n",
              "      <td>단독</td>\n",
              "      <td>8.0</td>\n",
              "      <td>196.93</td>\n",
              "      <td>154.0</td>\n",
              "      <td>26000.0</td>\n",
              "      <td>1994.0</td>\n",
              "      <td>2018</td>\n",
              "      <td>3</td>\n",
              "      <td>대구광역시</td>\n",
              "      <td>북구</td>\n",
              "      <td>복현동</td>\n",
              "      <td>대구 북구</td>\n",
              "      <td>2.068604</td>\n",
              "    </tr>\n",
              "    <tr>\n",
              "      <th>5</th>\n",
              "      <td>대구광역시 북구 복현동</td>\n",
              "      <td>단독</td>\n",
              "      <td>8.0</td>\n",
              "      <td>197.96</td>\n",
              "      <td>116.1</td>\n",
              "      <td>42500.0</td>\n",
              "      <td>2009.0</td>\n",
              "      <td>2018</td>\n",
              "      <td>1</td>\n",
              "      <td>대구광역시</td>\n",
              "      <td>북구</td>\n",
              "      <td>복현동</td>\n",
              "      <td>대구 북구</td>\n",
              "      <td>2.071234</td>\n",
              "    </tr>\n",
              "    <tr>\n",
              "      <th>6</th>\n",
              "      <td>대구광역시 북구 복현동</td>\n",
              "      <td>다가구</td>\n",
              "      <td>12.0</td>\n",
              "      <td>376.91</td>\n",
              "      <td>181.1</td>\n",
              "      <td>125000.0</td>\n",
              "      <td>2018.0</td>\n",
              "      <td>2018</td>\n",
              "      <td>11</td>\n",
              "      <td>대구광역시</td>\n",
              "      <td>북구</td>\n",
              "      <td>복현동</td>\n",
              "      <td>대구 북구</td>\n",
              "      <td>2.189355</td>\n",
              "    </tr>\n",
              "    <tr>\n",
              "      <th>7</th>\n",
              "      <td>대구광역시 북구 복현동</td>\n",
              "      <td>단독</td>\n",
              "      <td>8.0</td>\n",
              "      <td>493.04</td>\n",
              "      <td>204.9</td>\n",
              "      <td>60800.0</td>\n",
              "      <td>2001.0</td>\n",
              "      <td>2018</td>\n",
              "      <td>9</td>\n",
              "      <td>대구광역시</td>\n",
              "      <td>북구</td>\n",
              "      <td>복현동</td>\n",
              "      <td>대구 북구</td>\n",
              "      <td>2.255214</td>\n",
              "    </tr>\n",
              "    <tr>\n",
              "      <th>8</th>\n",
              "      <td>대구광역시 북구 복현동</td>\n",
              "      <td>다가구</td>\n",
              "      <td>8.0</td>\n",
              "      <td>467.81</td>\n",
              "      <td>205.9</td>\n",
              "      <td>118000.0</td>\n",
              "      <td>2016.0</td>\n",
              "      <td>2018</td>\n",
              "      <td>3</td>\n",
              "      <td>대구광역시</td>\n",
              "      <td>북구</td>\n",
              "      <td>복현동</td>\n",
              "      <td>대구 북구</td>\n",
              "      <td>2.309978</td>\n",
              "    </tr>\n",
              "    <tr>\n",
              "      <th>9</th>\n",
              "      <td>대구광역시 북구 복현동</td>\n",
              "      <td>단독</td>\n",
              "      <td>8.0</td>\n",
              "      <td>117.47</td>\n",
              "      <td>116.0</td>\n",
              "      <td>8000.0</td>\n",
              "      <td>1990.0</td>\n",
              "      <td>2018</td>\n",
              "      <td>6</td>\n",
              "      <td>대구광역시</td>\n",
              "      <td>북구</td>\n",
              "      <td>복현동</td>\n",
              "      <td>대구 북구</td>\n",
              "      <td>2.310015</td>\n",
              "    </tr>\n",
              "    <tr>\n",
              "      <th>10</th>\n",
              "      <td>대구광역시 북구 복현동</td>\n",
              "      <td>단독</td>\n",
              "      <td>12.0</td>\n",
              "      <td>241.68</td>\n",
              "      <td>140.6</td>\n",
              "      <td>55000.0</td>\n",
              "      <td>2014.0</td>\n",
              "      <td>2018</td>\n",
              "      <td>6</td>\n",
              "      <td>대구광역시</td>\n",
              "      <td>북구</td>\n",
              "      <td>복현동</td>\n",
              "      <td>대구 북구</td>\n",
              "      <td>2.366974</td>\n",
              "    </tr>\n",
              "    <tr>\n",
              "      <th>11</th>\n",
              "      <td>대구광역시 북구 복현동</td>\n",
              "      <td>단독</td>\n",
              "      <td>8.0</td>\n",
              "      <td>592.40</td>\n",
              "      <td>314.0</td>\n",
              "      <td>89800.0</td>\n",
              "      <td>2001.0</td>\n",
              "      <td>2018</td>\n",
              "      <td>1</td>\n",
              "      <td>대구광역시</td>\n",
              "      <td>북구</td>\n",
              "      <td>복현동</td>\n",
              "      <td>대구 북구</td>\n",
              "      <td>2.439369</td>\n",
              "    </tr>\n",
              "    <tr>\n",
              "      <th>12</th>\n",
              "      <td>대구광역시 북구 복현동</td>\n",
              "      <td>단독</td>\n",
              "      <td>8.0</td>\n",
              "      <td>198.51</td>\n",
              "      <td>200.1</td>\n",
              "      <td>16000.0</td>\n",
              "      <td>1984.0</td>\n",
              "      <td>2018</td>\n",
              "      <td>3</td>\n",
              "      <td>대구광역시</td>\n",
              "      <td>북구</td>\n",
              "      <td>복현동</td>\n",
              "      <td>대구 북구</td>\n",
              "      <td>2.614601</td>\n",
              "    </tr>\n",
              "    <tr>\n",
              "      <th>13</th>\n",
              "      <td>대구광역시 북구 복현동</td>\n",
              "      <td>단독</td>\n",
              "      <td>8.0</td>\n",
              "      <td>162.24</td>\n",
              "      <td>94.4</td>\n",
              "      <td>15500.0</td>\n",
              "      <td>1994.0</td>\n",
              "      <td>2018</td>\n",
              "      <td>7</td>\n",
              "      <td>대구광역시</td>\n",
              "      <td>북구</td>\n",
              "      <td>복현동</td>\n",
              "      <td>대구 북구</td>\n",
              "      <td>2.637152</td>\n",
              "    </tr>\n",
              "    <tr>\n",
              "      <th>14</th>\n",
              "      <td>대구광역시 북구 복현동</td>\n",
              "      <td>단독</td>\n",
              "      <td>8.0</td>\n",
              "      <td>105.56</td>\n",
              "      <td>114.0</td>\n",
              "      <td>15000.0</td>\n",
              "      <td>1989.0</td>\n",
              "      <td>2018</td>\n",
              "      <td>10</td>\n",
              "      <td>대구광역시</td>\n",
              "      <td>북구</td>\n",
              "      <td>복현동</td>\n",
              "      <td>대구 북구</td>\n",
              "      <td>2.645189</td>\n",
              "    </tr>\n",
              "    <tr>\n",
              "      <th>15</th>\n",
              "      <td>대구광역시 북구 복현동</td>\n",
              "      <td>단독</td>\n",
              "      <td>8.0</td>\n",
              "      <td>111.96</td>\n",
              "      <td>128.0</td>\n",
              "      <td>14200.0</td>\n",
              "      <td>1986.0</td>\n",
              "      <td>2018</td>\n",
              "      <td>2</td>\n",
              "      <td>대구광역시</td>\n",
              "      <td>북구</td>\n",
              "      <td>복현동</td>\n",
              "      <td>대구 북구</td>\n",
              "      <td>2.748129</td>\n",
              "    </tr>\n",
              "    <tr>\n",
              "      <th>16</th>\n",
              "      <td>대구광역시 북구 복현동</td>\n",
              "      <td>단독</td>\n",
              "      <td>12.0</td>\n",
              "      <td>164.70</td>\n",
              "      <td>224.4</td>\n",
              "      <td>49000.0</td>\n",
              "      <td>1985.0</td>\n",
              "      <td>2018</td>\n",
              "      <td>2</td>\n",
              "      <td>대구광역시</td>\n",
              "      <td>북구</td>\n",
              "      <td>복현동</td>\n",
              "      <td>대구 북구</td>\n",
              "      <td>2.814433</td>\n",
              "    </tr>\n",
              "    <tr>\n",
              "      <th>17</th>\n",
              "      <td>대구광역시 북구 복현동</td>\n",
              "      <td>단독</td>\n",
              "      <td>8.0</td>\n",
              "      <td>175.74</td>\n",
              "      <td>139.0</td>\n",
              "      <td>37500.0</td>\n",
              "      <td>1993.0</td>\n",
              "      <td>2018</td>\n",
              "      <td>2</td>\n",
              "      <td>대구광역시</td>\n",
              "      <td>북구</td>\n",
              "      <td>복현동</td>\n",
              "      <td>대구 북구</td>\n",
              "      <td>2.815544</td>\n",
              "    </tr>\n",
              "    <tr>\n",
              "      <th>18</th>\n",
              "      <td>대구광역시 북구 복현동</td>\n",
              "      <td>단독</td>\n",
              "      <td>8.0</td>\n",
              "      <td>82.44</td>\n",
              "      <td>56.0</td>\n",
              "      <td>7200.0</td>\n",
              "      <td>1994.0</td>\n",
              "      <td>2018</td>\n",
              "      <td>6</td>\n",
              "      <td>대구광역시</td>\n",
              "      <td>북구</td>\n",
              "      <td>복현동</td>\n",
              "      <td>대구 북구</td>\n",
              "      <td>2.882715</td>\n",
              "    </tr>\n",
              "    <tr>\n",
              "      <th>19</th>\n",
              "      <td>대구광역시 북구 복현동</td>\n",
              "      <td>단독</td>\n",
              "      <td>8.0</td>\n",
              "      <td>108.77</td>\n",
              "      <td>103.0</td>\n",
              "      <td>18800.0</td>\n",
              "      <td>1990.0</td>\n",
              "      <td>2018</td>\n",
              "      <td>10</td>\n",
              "      <td>대구광역시</td>\n",
              "      <td>북구</td>\n",
              "      <td>복현동</td>\n",
              "      <td>대구 북구</td>\n",
              "      <td>2.885856</td>\n",
              "    </tr>\n",
              "    <tr>\n",
              "      <th>20</th>\n",
              "      <td>대구광역시 북구 복현동</td>\n",
              "      <td>다가구</td>\n",
              "      <td>8.0</td>\n",
              "      <td>460.85</td>\n",
              "      <td>232.0</td>\n",
              "      <td>120000.0</td>\n",
              "      <td>2013.0</td>\n",
              "      <td>2018</td>\n",
              "      <td>5</td>\n",
              "      <td>대구광역시</td>\n",
              "      <td>북구</td>\n",
              "      <td>복현동</td>\n",
              "      <td>대구 북구</td>\n",
              "      <td>3.150943</td>\n",
              "    </tr>\n",
              "    <tr>\n",
              "      <th>21</th>\n",
              "      <td>대구광역시 북구 복현동</td>\n",
              "      <td>단독</td>\n",
              "      <td>8.0</td>\n",
              "      <td>329.37</td>\n",
              "      <td>198.4</td>\n",
              "      <td>60000.0</td>\n",
              "      <td>1991.0</td>\n",
              "      <td>2018</td>\n",
              "      <td>6</td>\n",
              "      <td>대구광역시</td>\n",
              "      <td>북구</td>\n",
              "      <td>복현동</td>\n",
              "      <td>대구 북구</td>\n",
              "      <td>3.361756</td>\n",
              "    </tr>\n",
              "    <tr>\n",
              "      <th>22</th>\n",
              "      <td>대구광역시 북구 복현동</td>\n",
              "      <td>다가구</td>\n",
              "      <td>8.0</td>\n",
              "      <td>54.16</td>\n",
              "      <td>94.8</td>\n",
              "      <td>10000.0</td>\n",
              "      <td>1982.0</td>\n",
              "      <td>2018</td>\n",
              "      <td>12</td>\n",
              "      <td>대구광역시</td>\n",
              "      <td>북구</td>\n",
              "      <td>복현동</td>\n",
              "      <td>대구 북구</td>\n",
              "      <td>3.474923</td>\n",
              "    </tr>\n",
              "    <tr>\n",
              "      <th>23</th>\n",
              "      <td>대구광역시 북구 복현동</td>\n",
              "      <td>단독</td>\n",
              "      <td>12.0</td>\n",
              "      <td>116.29</td>\n",
              "      <td>106.5</td>\n",
              "      <td>15200.0</td>\n",
              "      <td>1983.0</td>\n",
              "      <td>2018</td>\n",
              "      <td>4</td>\n",
              "      <td>대구광역시</td>\n",
              "      <td>북구</td>\n",
              "      <td>복현동</td>\n",
              "      <td>대구 북구</td>\n",
              "      <td>3.539552</td>\n",
              "    </tr>\n",
              "    <tr>\n",
              "      <th>24</th>\n",
              "      <td>대구광역시 북구 복현동</td>\n",
              "      <td>단독</td>\n",
              "      <td>8.0</td>\n",
              "      <td>100.74</td>\n",
              "      <td>183.6</td>\n",
              "      <td>43000.0</td>\n",
              "      <td>1981.0</td>\n",
              "      <td>2018</td>\n",
              "      <td>1</td>\n",
              "      <td>대구광역시</td>\n",
              "      <td>북구</td>\n",
              "      <td>복현동</td>\n",
              "      <td>대구 북구</td>\n",
              "      <td>3.558729</td>\n",
              "    </tr>\n",
              "    <tr>\n",
              "      <th>25</th>\n",
              "      <td>대구광역시 북구 복현동</td>\n",
              "      <td>단독</td>\n",
              "      <td>8.0</td>\n",
              "      <td>115.83</td>\n",
              "      <td>109.1</td>\n",
              "      <td>19800.0</td>\n",
              "      <td>1983.0</td>\n",
              "      <td>2018</td>\n",
              "      <td>5</td>\n",
              "      <td>대구광역시</td>\n",
              "      <td>북구</td>\n",
              "      <td>복현동</td>\n",
              "      <td>대구 북구</td>\n",
              "      <td>3.665363</td>\n",
              "    </tr>\n",
              "    <tr>\n",
              "      <th>26</th>\n",
              "      <td>대구광역시 북구 복현동</td>\n",
              "      <td>단독</td>\n",
              "      <td>8.0</td>\n",
              "      <td>26.73</td>\n",
              "      <td>40.0</td>\n",
              "      <td>2800.0</td>\n",
              "      <td>1985.0</td>\n",
              "      <td>2018</td>\n",
              "      <td>11</td>\n",
              "      <td>대구광역시</td>\n",
              "      <td>북구</td>\n",
              "      <td>복현동</td>\n",
              "      <td>대구 북구</td>\n",
              "      <td>3.813135</td>\n",
              "    </tr>\n",
              "    <tr>\n",
              "      <th>27</th>\n",
              "      <td>대구광역시 북구 복현동</td>\n",
              "      <td>다가구</td>\n",
              "      <td>8.0</td>\n",
              "      <td>492.82</td>\n",
              "      <td>264.0</td>\n",
              "      <td>139000.0</td>\n",
              "      <td>2017.0</td>\n",
              "      <td>2018</td>\n",
              "      <td>10</td>\n",
              "      <td>대구광역시</td>\n",
              "      <td>북구</td>\n",
              "      <td>복현동</td>\n",
              "      <td>대구 북구</td>\n",
              "      <td>3.950767</td>\n",
              "    </tr>\n",
              "    <tr>\n",
              "      <th>28</th>\n",
              "      <td>대구광역시 북구 복현동</td>\n",
              "      <td>단독</td>\n",
              "      <td>8.0</td>\n",
              "      <td>114.09</td>\n",
              "      <td>157.0</td>\n",
              "      <td>41000.0</td>\n",
              "      <td>1979.0</td>\n",
              "      <td>2018</td>\n",
              "      <td>3</td>\n",
              "      <td>대구광역시</td>\n",
              "      <td>북구</td>\n",
              "      <td>복현동</td>\n",
              "      <td>대구 북구</td>\n",
              "      <td>4.207552</td>\n",
              "    </tr>\n",
              "    <tr>\n",
              "      <th>29</th>\n",
              "      <td>대구광역시 북구 복현동</td>\n",
              "      <td>단독</td>\n",
              "      <td>12.0</td>\n",
              "      <td>138.20</td>\n",
              "      <td>150.8</td>\n",
              "      <td>40000.0</td>\n",
              "      <td>1980.0</td>\n",
              "      <td>2018</td>\n",
              "      <td>2</td>\n",
              "      <td>대구광역시</td>\n",
              "      <td>북구</td>\n",
              "      <td>복현동</td>\n",
              "      <td>대구 북구</td>\n",
              "      <td>4.223443</td>\n",
              "    </tr>\n",
              "    <tr>\n",
              "      <th>30</th>\n",
              "      <td>대구광역시 북구 복현동</td>\n",
              "      <td>단독</td>\n",
              "      <td>8.0</td>\n",
              "      <td>66.00</td>\n",
              "      <td>142.0</td>\n",
              "      <td>12000.0</td>\n",
              "      <td>1970.0</td>\n",
              "      <td>2018</td>\n",
              "      <td>5</td>\n",
              "      <td>대구광역시</td>\n",
              "      <td>북구</td>\n",
              "      <td>복현동</td>\n",
              "      <td>대구 북구</td>\n",
              "      <td>4.324908</td>\n",
              "    </tr>\n",
              "    <tr>\n",
              "      <th>31</th>\n",
              "      <td>대구광역시 북구 복현동</td>\n",
              "      <td>단독</td>\n",
              "      <td>25.0</td>\n",
              "      <td>65.79</td>\n",
              "      <td>144.0</td>\n",
              "      <td>31000.0</td>\n",
              "      <td>1975.0</td>\n",
              "      <td>2018</td>\n",
              "      <td>4</td>\n",
              "      <td>대구광역시</td>\n",
              "      <td>북구</td>\n",
              "      <td>복현동</td>\n",
              "      <td>대구 북구</td>\n",
              "      <td>4.369324</td>\n",
              "    </tr>\n",
              "    <tr>\n",
              "      <th>32</th>\n",
              "      <td>대구광역시 북구 복현동</td>\n",
              "      <td>단독</td>\n",
              "      <td>12.0</td>\n",
              "      <td>206.28</td>\n",
              "      <td>619.8</td>\n",
              "      <td>160000.0</td>\n",
              "      <td>1978.0</td>\n",
              "      <td>2018</td>\n",
              "      <td>10</td>\n",
              "      <td>대구광역시</td>\n",
              "      <td>북구</td>\n",
              "      <td>복현동</td>\n",
              "      <td>대구 북구</td>\n",
              "      <td>7.118519</td>\n",
              "    </tr>\n",
              "  </tbody>\n",
              "</table>\n",
              "</div>"
            ],
            "text/plain": [
              "             시군구 주택유형  도로조건  연면적(㎡)  ...  SiGunGu  DongLi     ID  distance\n",
              "0   대구광역시 북구 복현동   단독   8.0  299.70  ...       북구     복현동  대구 북구  0.896501\n",
              "1   대구광역시 북구 복현동   단독   8.0  417.99  ...       북구     복현동  대구 북구  1.449746\n",
              "2   대구광역시 북구 복현동  다가구   8.0  202.74  ...       북구     복현동  대구 북구  1.487481\n",
              "3   대구광역시 북구 복현동   단독  12.0  446.38  ...       북구     복현동  대구 북구  1.496328\n",
              "4   대구광역시 북구 복현동   단독   8.0  196.93  ...       북구     복현동  대구 북구  2.068604\n",
              "5   대구광역시 북구 복현동   단독   8.0  197.96  ...       북구     복현동  대구 북구  2.071234\n",
              "6   대구광역시 북구 복현동  다가구  12.0  376.91  ...       북구     복현동  대구 북구  2.189355\n",
              "7   대구광역시 북구 복현동   단독   8.0  493.04  ...       북구     복현동  대구 북구  2.255214\n",
              "8   대구광역시 북구 복현동  다가구   8.0  467.81  ...       북구     복현동  대구 북구  2.309978\n",
              "9   대구광역시 북구 복현동   단독   8.0  117.47  ...       북구     복현동  대구 북구  2.310015\n",
              "10  대구광역시 북구 복현동   단독  12.0  241.68  ...       북구     복현동  대구 북구  2.366974\n",
              "11  대구광역시 북구 복현동   단독   8.0  592.40  ...       북구     복현동  대구 북구  2.439369\n",
              "12  대구광역시 북구 복현동   단독   8.0  198.51  ...       북구     복현동  대구 북구  2.614601\n",
              "13  대구광역시 북구 복현동   단독   8.0  162.24  ...       북구     복현동  대구 북구  2.637152\n",
              "14  대구광역시 북구 복현동   단독   8.0  105.56  ...       북구     복현동  대구 북구  2.645189\n",
              "15  대구광역시 북구 복현동   단독   8.0  111.96  ...       북구     복현동  대구 북구  2.748129\n",
              "16  대구광역시 북구 복현동   단독  12.0  164.70  ...       북구     복현동  대구 북구  2.814433\n",
              "17  대구광역시 북구 복현동   단독   8.0  175.74  ...       북구     복현동  대구 북구  2.815544\n",
              "18  대구광역시 북구 복현동   단독   8.0   82.44  ...       북구     복현동  대구 북구  2.882715\n",
              "19  대구광역시 북구 복현동   단독   8.0  108.77  ...       북구     복현동  대구 북구  2.885856\n",
              "20  대구광역시 북구 복현동  다가구   8.0  460.85  ...       북구     복현동  대구 북구  3.150943\n",
              "21  대구광역시 북구 복현동   단독   8.0  329.37  ...       북구     복현동  대구 북구  3.361756\n",
              "22  대구광역시 북구 복현동  다가구   8.0   54.16  ...       북구     복현동  대구 북구  3.474923\n",
              "23  대구광역시 북구 복현동   단독  12.0  116.29  ...       북구     복현동  대구 북구  3.539552\n",
              "24  대구광역시 북구 복현동   단독   8.0  100.74  ...       북구     복현동  대구 북구  3.558729\n",
              "25  대구광역시 북구 복현동   단독   8.0  115.83  ...       북구     복현동  대구 북구  3.665363\n",
              "26  대구광역시 북구 복현동   단독   8.0   26.73  ...       북구     복현동  대구 북구  3.813135\n",
              "27  대구광역시 북구 복현동  다가구   8.0  492.82  ...       북구     복현동  대구 북구  3.950767\n",
              "28  대구광역시 북구 복현동   단독   8.0  114.09  ...       북구     복현동  대구 북구  4.207552\n",
              "29  대구광역시 북구 복현동   단독  12.0  138.20  ...       북구     복현동  대구 북구  4.223443\n",
              "30  대구광역시 북구 복현동   단독   8.0   66.00  ...       북구     복현동  대구 북구  4.324908\n",
              "31  대구광역시 북구 복현동   단독  25.0   65.79  ...       북구     복현동  대구 북구  4.369324\n",
              "32  대구광역시 북구 복현동   단독  12.0  206.28  ...       북구     복현동  대구 북구  7.118519\n",
              "\n",
              "[33 rows x 14 columns]"
            ]
          },
          "metadata": {
            "tags": []
          },
          "execution_count": 66
        }
      ]
    },
    {
      "cell_type": "code",
      "metadata": {
        "id": "g76pkNqy9Sft"
      },
      "source": [
        "import json"
      ],
      "execution_count": null,
      "outputs": []
    },
    {
      "cell_type": "code",
      "metadata": {
        "id": "u1WEPOxkU47s"
      },
      "source": [
        "# 필터링 알고리즘\n",
        "'''\n",
        "사용할 변수 : 지역, 연면적, 대지면적, 거래금액, 건축년도\n",
        "지역은 입력 값과 동일한 지역으로 고정\n",
        "연면적, 대지면적은 입력 값에서 +-100 정도\n",
        "거래 금액은 입력 값에서 +-1억 정도\n",
        "건축년도는 입력 값에서 +-5 정도\n",
        "'''\n",
        "\n",
        "def Filter(H):\n",
        "    idx = (df['SiDo'] == H[0])\n",
        "    temp_df = df[idx]\n",
        "    if len(temp_df) == 0:\n",
        "        print('해당 조건의 집이 없습니다.')\n",
        "    else:\n",
        "        #idx1 = abs(temp_df['연면적(㎡)'] - H[1]) <= 100\n",
        "        #idx2 = abs(temp_df['대지면적(㎡)'] - H[2]) <= 100\n",
        "        idx3 = abs(temp_df['거래금액(만원)'] - H[1]) <= 10000\n",
        "        idx4 = abs(temp_df['건축년도'] - H[2]) <= 5\n",
        "\n",
        "        temp_df1 = temp_df[idx3&idx4]\n",
        "\n",
        "        my_house_seoul = pd.DataFrame(temp_df1['SiGunGu'].value_counts())\n",
        "        my_house_seoul.columns = ['Count']\n",
        "\n",
        "        my_house_seoul['index'] = my_house_seoul.index\n",
        "        my_house_seoul.reset_index(inplace=True, drop=True)\n",
        "\n",
        "        Idx = pd.DataFrame((df[df['SiDo']=='서울특별시'])['SiGunGu'].unique())\n",
        "        Idx.columns = ['index']\n",
        "\n",
        "        my_house_seoul_num = pd.merge(Idx, my_house_seoul, on='index', how='left')\n",
        "        my_house_seoul_num.fillna(0, inplace=True)\n",
        "\n",
        "        my_house_seoul_num.columns = ['SiGunGu', 'Count']\n",
        "        my_house_seoul_num.set_index(my_house_seoul_num['SiGunGu'], inplace=True)\n",
        "\n",
        "        my_house_seoul_num.drop(columns = ['SiGunGu'], inplace=True)\n",
        "\n",
        "        return my_house_seoul_num"
      ],
      "execution_count": null,
      "outputs": []
    },
    {
      "cell_type": "code",
      "metadata": {
        "id": "cXIHZ-swU5AQ"
      },
      "source": [
        "my_house_seoul_num = Filter(('서울특별시',100000,2000))"
      ],
      "execution_count": null,
      "outputs": []
    },
    {
      "cell_type": "code",
      "metadata": {
        "id": "yAo-LFiy-oKj"
      },
      "source": [
        "geo_seoul = json.load(open('gh_data/seoul_municipalities_geo_simple.json'))\n",
        "# geo_seoul = json.load(open('gh_data/Seoul_Gu.json'))"
      ],
      "execution_count": null,
      "outputs": []
    },
    {
      "cell_type": "code",
      "metadata": {
        "colab": {
          "base_uri": "https://localhost:8080/"
        },
        "id": "nquguTN0-pKa",
        "outputId": "93403d9a-2f1e-4170-8f40-ba46d2f42415"
      },
      "source": [
        "geo_seoul.keys()"
      ],
      "execution_count": null,
      "outputs": [
        {
          "output_type": "execute_result",
          "data": {
            "text/plain": [
              "dict_keys(['type', 'features'])"
            ]
          },
          "metadata": {
            "tags": []
          },
          "execution_count": 75
        }
      ]
    },
    {
      "cell_type": "code",
      "metadata": {
        "colab": {
          "base_uri": "https://localhost:8080/"
        },
        "id": "XxhCDttDIkPZ",
        "outputId": "6eb2f5aa-70d8-4a38-8145-bce56859284f"
      },
      "source": [
        "geo_seoul['features'][0]['geometry']['coordinates'][0] # 위도, 경도 표시"
      ],
      "execution_count": null,
      "outputs": [
        {
          "output_type": "execute_result",
          "data": {
            "text/plain": [
              "[[127.11519584981606, 37.557533180704915],\n",
              " [127.16683184366129, 37.57672487388627],\n",
              " [127.18408792330152, 37.55814280369575],\n",
              " [127.16530984307447, 37.54221851258693],\n",
              " [127.14672806823502, 37.51415680680291],\n",
              " [127.12123165719615, 37.52528270089],\n",
              " [127.1116764203608, 37.540669955324965],\n",
              " [127.11519584981606, 37.557533180704915]]"
            ]
          },
          "metadata": {
            "tags": []
          },
          "execution_count": 76
        }
      ]
    },
    {
      "cell_type": "code",
      "metadata": {
        "colab": {
          "base_uri": "https://localhost:8080/"
        },
        "id": "ijvPSl1MJoAH",
        "outputId": "29ba07f0-b5f6-41de-c821-c6a89e034fca"
      },
      "source": [
        "geo_seoul['features'][0]['id'], geo_seoul['features'][0]['properties']['name']"
      ],
      "execution_count": null,
      "outputs": [
        {
          "output_type": "execute_result",
          "data": {
            "text/plain": [
              "('강동구', '강동구')"
            ]
          },
          "metadata": {
            "tags": []
          },
          "execution_count": 77
        }
      ]
    },
    {
      "cell_type": "code",
      "metadata": {
        "id": "_MafNXPcIlYh"
      },
      "source": [
        "import folium"
      ],
      "execution_count": null,
      "outputs": []
    },
    {
      "cell_type": "code",
      "metadata": {
        "colab": {
          "base_uri": "https://localhost:8080/",
          "height": 866
        },
        "id": "PchD7jWLInkg",
        "outputId": "91565a84-148c-4651-a965-3565b1903934"
      },
      "source": [
        "folium.Map(location = [37.5502, 126.982], min_zoom = 11, max_zoom = 11, tiles = 'Stamen Toner')"
      ],
      "execution_count": null,
      "outputs": [
        {
          "output_type": "execute_result",
          "data": {
            "text/html": [
              "<div style=\"width:100%;\"><div style=\"position:relative;width:100%;height:0;padding-bottom:60%;\"><span style=\"color:#565656\">Make this Notebook Trusted to load map: File -> Trust Notebook</span><iframe src=\"about:blank\" style=\"position:absolute;width:100%;height:100%;left:0;top:0;border:none !important;\" data-html=%3C%21DOCTYPE%20html%3E%0A%3Chead%3E%20%20%20%20%0A%20%20%20%20%3Cmeta%20http-equiv%3D%22content-type%22%20content%3D%22text/html%3B%20charset%3DUTF-8%22%20/%3E%0A%20%20%20%20%3Cscript%3EL_PREFER_CANVAS%3Dfalse%3B%20L_NO_TOUCH%3Dfalse%3B%20L_DISABLE_3D%3Dfalse%3B%3C/script%3E%0A%20%20%20%20%3Cscript%20src%3D%22https%3A//cdn.jsdelivr.net/npm/leaflet%401.4.0/dist/leaflet.js%22%3E%3C/script%3E%0A%20%20%20%20%3Cscript%20src%3D%22https%3A//code.jquery.com/jquery-1.12.4.min.js%22%3E%3C/script%3E%0A%20%20%20%20%3Cscript%20src%3D%22https%3A//maxcdn.bootstrapcdn.com/bootstrap/3.2.0/js/bootstrap.min.js%22%3E%3C/script%3E%0A%20%20%20%20%3Cscript%20src%3D%22https%3A//cdnjs.cloudflare.com/ajax/libs/Leaflet.awesome-markers/2.0.2/leaflet.awesome-markers.js%22%3E%3C/script%3E%0A%20%20%20%20%3Clink%20rel%3D%22stylesheet%22%20href%3D%22https%3A//cdn.jsdelivr.net/npm/leaflet%401.4.0/dist/leaflet.css%22/%3E%0A%20%20%20%20%3Clink%20rel%3D%22stylesheet%22%20href%3D%22https%3A//maxcdn.bootstrapcdn.com/bootstrap/3.2.0/css/bootstrap.min.css%22/%3E%0A%20%20%20%20%3Clink%20rel%3D%22stylesheet%22%20href%3D%22https%3A//maxcdn.bootstrapcdn.com/bootstrap/3.2.0/css/bootstrap-theme.min.css%22/%3E%0A%20%20%20%20%3Clink%20rel%3D%22stylesheet%22%20href%3D%22https%3A//maxcdn.bootstrapcdn.com/font-awesome/4.6.3/css/font-awesome.min.css%22/%3E%0A%20%20%20%20%3Clink%20rel%3D%22stylesheet%22%20href%3D%22https%3A//cdnjs.cloudflare.com/ajax/libs/Leaflet.awesome-markers/2.0.2/leaflet.awesome-markers.css%22/%3E%0A%20%20%20%20%3Clink%20rel%3D%22stylesheet%22%20href%3D%22https%3A//rawcdn.githack.com/python-visualization/folium/master/folium/templates/leaflet.awesome.rotate.css%22/%3E%0A%20%20%20%20%3Cstyle%3Ehtml%2C%20body%20%7Bwidth%3A%20100%25%3Bheight%3A%20100%25%3Bmargin%3A%200%3Bpadding%3A%200%3B%7D%3C/style%3E%0A%20%20%20%20%3Cstyle%3E%23map%20%7Bposition%3Aabsolute%3Btop%3A0%3Bbottom%3A0%3Bright%3A0%3Bleft%3A0%3B%7D%3C/style%3E%0A%20%20%20%20%0A%20%20%20%20%3Cmeta%20name%3D%22viewport%22%20content%3D%22width%3Ddevice-width%2C%0A%20%20%20%20%20%20%20%20initial-scale%3D1.0%2C%20maximum-scale%3D1.0%2C%20user-scalable%3Dno%22%20/%3E%0A%20%20%20%20%3Cstyle%3E%23map_b4b7c13b9ea84c37a6bf4f8e1f4f2c22%20%7B%0A%20%20%20%20%20%20%20%20position%3A%20relative%3B%0A%20%20%20%20%20%20%20%20width%3A%20100.0%25%3B%0A%20%20%20%20%20%20%20%20height%3A%20100.0%25%3B%0A%20%20%20%20%20%20%20%20left%3A%200.0%25%3B%0A%20%20%20%20%20%20%20%20top%3A%200.0%25%3B%0A%20%20%20%20%20%20%20%20%7D%0A%20%20%20%20%3C/style%3E%0A%3C/head%3E%0A%3Cbody%3E%20%20%20%20%0A%20%20%20%20%0A%20%20%20%20%3Cdiv%20class%3D%22folium-map%22%20id%3D%22map_b4b7c13b9ea84c37a6bf4f8e1f4f2c22%22%20%3E%3C/div%3E%0A%3C/body%3E%0A%3Cscript%3E%20%20%20%20%0A%20%20%20%20%0A%20%20%20%20%0A%20%20%20%20%20%20%20%20var%20bounds%20%3D%20null%3B%0A%20%20%20%20%0A%0A%20%20%20%20var%20map_b4b7c13b9ea84c37a6bf4f8e1f4f2c22%20%3D%20L.map%28%0A%20%20%20%20%20%20%20%20%27map_b4b7c13b9ea84c37a6bf4f8e1f4f2c22%27%2C%20%7B%0A%20%20%20%20%20%20%20%20center%3A%20%5B37.5502%2C%20126.982%5D%2C%0A%20%20%20%20%20%20%20%20zoom%3A%2010%2C%0A%20%20%20%20%20%20%20%20maxBounds%3A%20bounds%2C%0A%20%20%20%20%20%20%20%20layers%3A%20%5B%5D%2C%0A%20%20%20%20%20%20%20%20worldCopyJump%3A%20false%2C%0A%20%20%20%20%20%20%20%20crs%3A%20L.CRS.EPSG3857%2C%0A%20%20%20%20%20%20%20%20zoomControl%3A%20true%2C%0A%20%20%20%20%20%20%20%20%7D%29%3B%0A%0A%0A%20%20%20%20%0A%20%20%20%20var%20tile_layer_6a819208c3c34a918dd75a410e0b29a8%20%3D%20L.tileLayer%28%0A%20%20%20%20%20%20%20%20%27https%3A//stamen-tiles-%7Bs%7D.a.ssl.fastly.net/toner/%7Bz%7D/%7Bx%7D/%7By%7D.png%27%2C%0A%20%20%20%20%20%20%20%20%7B%0A%20%20%20%20%20%20%20%20%22attribution%22%3A%20null%2C%0A%20%20%20%20%20%20%20%20%22detectRetina%22%3A%20false%2C%0A%20%20%20%20%20%20%20%20%22maxNativeZoom%22%3A%2011%2C%0A%20%20%20%20%20%20%20%20%22maxZoom%22%3A%2011%2C%0A%20%20%20%20%20%20%20%20%22minZoom%22%3A%2011%2C%0A%20%20%20%20%20%20%20%20%22noWrap%22%3A%20false%2C%0A%20%20%20%20%20%20%20%20%22opacity%22%3A%201%2C%0A%20%20%20%20%20%20%20%20%22subdomains%22%3A%20%22abc%22%2C%0A%20%20%20%20%20%20%20%20%22tms%22%3A%20false%0A%7D%29.addTo%28map_b4b7c13b9ea84c37a6bf4f8e1f4f2c22%29%3B%0A%3C/script%3E onload=\"this.contentDocument.open();this.contentDocument.write(    decodeURIComponent(this.getAttribute('data-html')));this.contentDocument.close();\" allowfullscreen webkitallowfullscreen mozallowfullscreen></iframe></div></div>"
            ],
            "text/plain": [
              "<folium.folium.Map at 0x7fb9eb116d10>"
            ]
          },
          "metadata": {
            "tags": []
          },
          "execution_count": 79
        }
      ]
    },
    {
      "cell_type": "code",
      "metadata": {
        "colab": {
          "base_uri": "https://localhost:8080/",
          "height": 921
        },
        "id": "OrqodlFsIq_h",
        "outputId": "6bac1dea-dcd2-4be5-f0be-c792783f8e1a"
      },
      "source": [
        "map = folium.Map(location = [37.5502, 126.982], min_zoom = 11, max_zoom = 11, tiles = 'Stamen Toner')\n",
        "\n",
        "map.choropleth(geo_data = geo_seoul,\n",
        "              data = my_house_seoul_num['Count'],\n",
        "              columns = [my_house_seoul_num.index, my_house_seoul_num['Count']],\n",
        "              fill_color = 'YlGn',\n",
        "              legend_name = 'Count',\n",
        "              key_on = 'feature.id')\n",
        "\n",
        "map"
      ],
      "execution_count": null,
      "outputs": [
        {
          "output_type": "stream",
          "text": [
            "/usr/local/lib/python3.7/dist-packages/folium/folium.py:426: FutureWarning: The choropleth  method has been deprecated. Instead use the new Choropleth class, which has the same arguments. See the example notebook 'GeoJSON_and_choropleth' for how to do this.\n",
            "  FutureWarning\n"
          ],
          "name": "stderr"
        },
        {
          "output_type": "execute_result",
          "data": {
            "text/html": [
              "<div style=\"width:100%;\"><div style=\"position:relative;width:100%;height:0;padding-bottom:60%;\"><span style=\"color:#565656\">Make this Notebook Trusted to load map: File -> Trust Notebook</span><iframe src=\"about:blank\" style=\"position:absolute;width:100%;height:100%;left:0;top:0;border:none !important;\" data-html=%3C%21DOCTYPE%20html%3E%0A%3Chead%3E%20%20%20%20%0A%20%20%20%20%3Cmeta%20http-equiv%3D%22content-type%22%20content%3D%22text/html%3B%20charset%3DUTF-8%22%20/%3E%0A%20%20%20%20%3Cscript%3EL_PREFER_CANVAS%3Dfalse%3B%20L_NO_TOUCH%3Dfalse%3B%20L_DISABLE_3D%3Dfalse%3B%3C/script%3E%0A%20%20%20%20%3Cscript%20src%3D%22https%3A//cdn.jsdelivr.net/npm/leaflet%401.4.0/dist/leaflet.js%22%3E%3C/script%3E%0A%20%20%20%20%3Cscript%20src%3D%22https%3A//code.jquery.com/jquery-1.12.4.min.js%22%3E%3C/script%3E%0A%20%20%20%20%3Cscript%20src%3D%22https%3A//maxcdn.bootstrapcdn.com/bootstrap/3.2.0/js/bootstrap.min.js%22%3E%3C/script%3E%0A%20%20%20%20%3Cscript%20src%3D%22https%3A//cdnjs.cloudflare.com/ajax/libs/Leaflet.awesome-markers/2.0.2/leaflet.awesome-markers.js%22%3E%3C/script%3E%0A%20%20%20%20%3Clink%20rel%3D%22stylesheet%22%20href%3D%22https%3A//cdn.jsdelivr.net/npm/leaflet%401.4.0/dist/leaflet.css%22/%3E%0A%20%20%20%20%3Clink%20rel%3D%22stylesheet%22%20href%3D%22https%3A//maxcdn.bootstrapcdn.com/bootstrap/3.2.0/css/bootstrap.min.css%22/%3E%0A%20%20%20%20%3Clink%20rel%3D%22stylesheet%22%20href%3D%22https%3A//maxcdn.bootstrapcdn.com/bootstrap/3.2.0/css/bootstrap-theme.min.css%22/%3E%0A%20%20%20%20%3Clink%20rel%3D%22stylesheet%22%20href%3D%22https%3A//maxcdn.bootstrapcdn.com/font-awesome/4.6.3/css/font-awesome.min.css%22/%3E%0A%20%20%20%20%3Clink%20rel%3D%22stylesheet%22%20href%3D%22https%3A//cdnjs.cloudflare.com/ajax/libs/Leaflet.awesome-markers/2.0.2/leaflet.awesome-markers.css%22/%3E%0A%20%20%20%20%3Clink%20rel%3D%22stylesheet%22%20href%3D%22https%3A//rawcdn.githack.com/python-visualization/folium/master/folium/templates/leaflet.awesome.rotate.css%22/%3E%0A%20%20%20%20%3Cstyle%3Ehtml%2C%20body%20%7Bwidth%3A%20100%25%3Bheight%3A%20100%25%3Bmargin%3A%200%3Bpadding%3A%200%3B%7D%3C/style%3E%0A%20%20%20%20%3Cstyle%3E%23map%20%7Bposition%3Aabsolute%3Btop%3A0%3Bbottom%3A0%3Bright%3A0%3Bleft%3A0%3B%7D%3C/style%3E%0A%20%20%20%20%0A%20%20%20%20%3Cmeta%20name%3D%22viewport%22%20content%3D%22width%3Ddevice-width%2C%0A%20%20%20%20%20%20%20%20initial-scale%3D1.0%2C%20maximum-scale%3D1.0%2C%20user-scalable%3Dno%22%20/%3E%0A%20%20%20%20%3Cstyle%3E%23map_3584605c7993443a92d46b1005b68787%20%7B%0A%20%20%20%20%20%20%20%20position%3A%20relative%3B%0A%20%20%20%20%20%20%20%20width%3A%20100.0%25%3B%0A%20%20%20%20%20%20%20%20height%3A%20100.0%25%3B%0A%20%20%20%20%20%20%20%20left%3A%200.0%25%3B%0A%20%20%20%20%20%20%20%20top%3A%200.0%25%3B%0A%20%20%20%20%20%20%20%20%7D%0A%20%20%20%20%3C/style%3E%0A%20%20%20%20%3Cscript%20src%3D%22https%3A//cdnjs.cloudflare.com/ajax/libs/d3/3.5.5/d3.min.js%22%3E%3C/script%3E%0A%3C/head%3E%0A%3Cbody%3E%20%20%20%20%0A%20%20%20%20%0A%20%20%20%20%3Cdiv%20class%3D%22folium-map%22%20id%3D%22map_3584605c7993443a92d46b1005b68787%22%20%3E%3C/div%3E%0A%3C/body%3E%0A%3Cscript%3E%20%20%20%20%0A%20%20%20%20%0A%20%20%20%20%0A%20%20%20%20%20%20%20%20var%20bounds%20%3D%20null%3B%0A%20%20%20%20%0A%0A%20%20%20%20var%20map_3584605c7993443a92d46b1005b68787%20%3D%20L.map%28%0A%20%20%20%20%20%20%20%20%27map_3584605c7993443a92d46b1005b68787%27%2C%20%7B%0A%20%20%20%20%20%20%20%20center%3A%20%5B37.5502%2C%20126.982%5D%2C%0A%20%20%20%20%20%20%20%20zoom%3A%2010%2C%0A%20%20%20%20%20%20%20%20maxBounds%3A%20bounds%2C%0A%20%20%20%20%20%20%20%20layers%3A%20%5B%5D%2C%0A%20%20%20%20%20%20%20%20worldCopyJump%3A%20false%2C%0A%20%20%20%20%20%20%20%20crs%3A%20L.CRS.EPSG3857%2C%0A%20%20%20%20%20%20%20%20zoomControl%3A%20true%2C%0A%20%20%20%20%20%20%20%20%7D%29%3B%0A%0A%0A%20%20%20%20%0A%20%20%20%20var%20tile_layer_e74f93cea16d4961a427ceffbb056324%20%3D%20L.tileLayer%28%0A%20%20%20%20%20%20%20%20%27https%3A//stamen-tiles-%7Bs%7D.a.ssl.fastly.net/toner/%7Bz%7D/%7Bx%7D/%7By%7D.png%27%2C%0A%20%20%20%20%20%20%20%20%7B%0A%20%20%20%20%20%20%20%20%22attribution%22%3A%20null%2C%0A%20%20%20%20%20%20%20%20%22detectRetina%22%3A%20false%2C%0A%20%20%20%20%20%20%20%20%22maxNativeZoom%22%3A%2011%2C%0A%20%20%20%20%20%20%20%20%22maxZoom%22%3A%2011%2C%0A%20%20%20%20%20%20%20%20%22minZoom%22%3A%2011%2C%0A%20%20%20%20%20%20%20%20%22noWrap%22%3A%20false%2C%0A%20%20%20%20%20%20%20%20%22opacity%22%3A%201%2C%0A%20%20%20%20%20%20%20%20%22subdomains%22%3A%20%22abc%22%2C%0A%20%20%20%20%20%20%20%20%22tms%22%3A%20false%0A%7D%29.addTo%28map_3584605c7993443a92d46b1005b68787%29%3B%0A%20%20%20%20%0A%20%20%20%20%20%20%20%20%20%20%20%20var%20choropleth_56cda46ffeb44f7e8c9cb46bc77a0730%20%3D%20L.featureGroup%28%0A%20%20%20%20%20%20%20%20%20%20%20%20%20%20%20%20%29.addTo%28map_3584605c7993443a92d46b1005b68787%29%3B%0A%20%20%20%20%20%20%20%20%0A%20%20%20%20%0A%20%20%20%20%20%20%20%20var%20geo_json_aa550acd305e4e4db97eb20c1b8d6104%20%3D%20L.geoJson%28%0A%20%20%20%20%20%20%20%20%20%20%20%20%7B%22features%22%3A%20%5B%7B%22geometry%22%3A%20%7B%22coordinates%22%3A%20%5B%5B%5B127.11519584981606%2C%2037.557533180704915%5D%2C%20%5B127.16683184366129%2C%2037.57672487388627%5D%2C%20%5B127.18408792330152%2C%2037.55814280369575%5D%2C%20%5B127.16530984307447%2C%2037.54221851258693%5D%2C%20%5B127.14672806823502%2C%2037.51415680680291%5D%2C%20%5B127.12123165719615%2C%2037.52528270089%5D%2C%20%5B127.1116764203608%2C%2037.540669955324965%5D%2C%20%5B127.11519584981606%2C%2037.557533180704915%5D%5D%5D%2C%20%22type%22%3A%20%22Polygon%22%7D%2C%20%22id%22%3A%20%22%5Cuac15%5Cub3d9%5Cuad6c%22%2C%20%22properties%22%3A%20%7B%22base_year%22%3A%20%222013%22%2C%20%22code%22%3A%20%2211250%22%2C%20%22highlight%22%3A%20%7B%7D%2C%20%22name%22%3A%20%22%5Cuac15%5Cub3d9%5Cuad6c%22%2C%20%22name_eng%22%3A%20%22Gangdong-gu%22%2C%20%22style%22%3A%20%7B%22color%22%3A%20%22black%22%2C%20%22fillColor%22%3A%20%22%23ffffcc%22%2C%20%22fillOpacity%22%3A%200.6%2C%20%22opacity%22%3A%201%2C%20%22weight%22%3A%201%7D%7D%2C%20%22type%22%3A%20%22Feature%22%7D%2C%20%7B%22geometry%22%3A%20%7B%22coordinates%22%3A%20%5B%5B%5B127.0690698130372%2C%2037.522279423505026%5D%2C%20%5B127.10087519791962%2C%2037.524841220167055%5D%2C%20%5B127.1116764203608%2C%2037.540669955324965%5D%2C%20%5B127.12123165719615%2C%2037.52528270089%5D%2C%20%5B127.14672806823502%2C%2037.51415680680291%5D%2C%20%5B127.1634944215765%2C%2037.497445406097484%5D%2C%20%5B127.14206058413274%2C%2037.47089819098501%5D%2C%20%5B127.12440571080893%2C%2037.46240445587048%5D%2C%20%5B127.11117085201238%2C%2037.485708381512445%5D%2C%20%5B127.0719146000724%2C%2037.50224013587669%5D%2C%20%5B127.0690698130372%2C%2037.522279423505026%5D%5D%5D%2C%20%22type%22%3A%20%22Polygon%22%7D%2C%20%22id%22%3A%20%22%5Cuc1a1%5Cud30c%5Cuad6c%22%2C%20%22properties%22%3A%20%7B%22base_year%22%3A%20%222013%22%2C%20%22code%22%3A%20%2211240%22%2C%20%22highlight%22%3A%20%7B%7D%2C%20%22name%22%3A%20%22%5Cuc1a1%5Cud30c%5Cuad6c%22%2C%20%22name_eng%22%3A%20%22Songpa-gu%22%2C%20%22style%22%3A%20%7B%22color%22%3A%20%22black%22%2C%20%22fillColor%22%3A%20%22%23d9f0a3%22%2C%20%22fillOpacity%22%3A%200.6%2C%20%22opacity%22%3A%201%2C%20%22weight%22%3A%201%7D%7D%2C%20%22type%22%3A%20%22Feature%22%7D%2C%20%7B%22geometry%22%3A%20%7B%22coordinates%22%3A%20%5B%5B%5B127.05867359288398%2C%2037.52629974922568%5D%2C%20%5B127.0690698130372%2C%2037.522279423505026%5D%2C%20%5B127.0719146000724%2C%2037.50224013587669%5D%2C%20%5B127.11117085201238%2C%2037.485708381512445%5D%2C%20%5B127.12440571080893%2C%2037.46240445587048%5D%2C%20%5B127.09842759318751%2C%2037.45862253857461%5D%2C%20%5B127.08640440578156%2C%2037.472697935184655%5D%2C%20%5B127.0559170481904%2C%2037.4659228914077%5D%2C%20%5B127.03621915098798%2C%2037.48175802427603%5D%2C%20%5B127.01397119667513%2C%2037.52503988289669%5D%2C%20%5B127.02302831890559%2C%2037.53231899582663%5D%2C%20%5B127.05867359288398%2C%2037.52629974922568%5D%5D%5D%2C%20%22type%22%3A%20%22Polygon%22%7D%2C%20%22id%22%3A%20%22%5Cuac15%5Cub0a8%5Cuad6c%22%2C%20%22properties%22%3A%20%7B%22base_year%22%3A%20%222013%22%2C%20%22code%22%3A%20%2211230%22%2C%20%22highlight%22%3A%20%7B%7D%2C%20%22name%22%3A%20%22%5Cuac15%5Cub0a8%5Cuad6c%22%2C%20%22name_eng%22%3A%20%22Gangnam-gu%22%2C%20%22style%22%3A%20%7B%22color%22%3A%20%22black%22%2C%20%22fillColor%22%3A%20%22%23ffffcc%22%2C%20%22fillOpacity%22%3A%200.6%2C%20%22opacity%22%3A%201%2C%20%22weight%22%3A%201%7D%7D%2C%20%22type%22%3A%20%22Feature%22%7D%2C%20%7B%22geometry%22%3A%20%7B%22coordinates%22%3A%20%5B%5B%5B127.01397119667513%2C%2037.52503988289669%5D%2C%20%5B127.03621915098798%2C%2037.48175802427603%5D%2C%20%5B127.0559170481904%2C%2037.4659228914077%5D%2C%20%5B127.08640440578156%2C%2037.472697935184655%5D%2C%20%5B127.09842759318751%2C%2037.45862253857461%5D%2C%20%5B127.09046928565951%2C%2037.44296826114185%5D%2C%20%5B127.06778107605433%2C%2037.426197424057314%5D%2C%20%5B127.04957232987142%2C%2037.42805836845694%5D%2C%20%5B127.03881782597922%2C%2037.45382039851715%5D%2C%20%5B126.99072073195462%2C%2037.455326143310025%5D%2C%20%5B126.98367668291802%2C%2037.473856492692086%5D%2C%20%5B126.98223807916081%2C%2037.509314966770326%5D%2C%20%5B127.01397119667513%2C%2037.52503988289669%5D%5D%5D%2C%20%22type%22%3A%20%22Polygon%22%7D%2C%20%22id%22%3A%20%22%5Cuc11c%5Cucd08%5Cuad6c%22%2C%20%22properties%22%3A%20%7B%22base_year%22%3A%20%222013%22%2C%20%22code%22%3A%20%2211220%22%2C%20%22highlight%22%3A%20%7B%7D%2C%20%22name%22%3A%20%22%5Cuc11c%5Cucd08%5Cuad6c%22%2C%20%22name_eng%22%3A%20%22Seocho-gu%22%2C%20%22style%22%3A%20%7B%22color%22%3A%20%22black%22%2C%20%22fillColor%22%3A%20%22%23ffffcc%22%2C%20%22fillOpacity%22%3A%200.6%2C%20%22opacity%22%3A%201%2C%20%22weight%22%3A%201%7D%7D%2C%20%22type%22%3A%20%22Feature%22%7D%2C%20%7B%22geometry%22%3A%20%7B%22coordinates%22%3A%20%5B%5B%5B126.98367668291802%2C%2037.473856492692086%5D%2C%20%5B126.99072073195462%2C%2037.455326143310025%5D%2C%20%5B126.96520439085143%2C%2037.438249784006246%5D%2C%20%5B126.95000001010182%2C%2037.43613451165719%5D%2C%20%5B126.93084408056525%2C%2037.447382928333994%5D%2C%20%5B126.9167728146601%2C%2037.45490566423789%5D%2C%20%5B126.90156094129895%2C%2037.47753842789901%5D%2C%20%5B126.90531975801812%2C%2037.48218087575429%5D%2C%20%5B126.94922661389508%2C%2037.49125437495649%5D%2C%20%5B126.9725891850662%2C%2037.472561363278125%5D%2C%20%5B126.98367668291802%2C%2037.473856492692086%5D%5D%5D%2C%20%22type%22%3A%20%22Polygon%22%7D%2C%20%22id%22%3A%20%22%5Cuad00%5Cuc545%5Cuad6c%22%2C%20%22properties%22%3A%20%7B%22base_year%22%3A%20%222013%22%2C%20%22code%22%3A%20%2211210%22%2C%20%22highlight%22%3A%20%7B%7D%2C%20%22name%22%3A%20%22%5Cuad00%5Cuc545%5Cuad6c%22%2C%20%22name_eng%22%3A%20%22Gwanak-gu%22%2C%20%22style%22%3A%20%7B%22color%22%3A%20%22black%22%2C%20%22fillColor%22%3A%20%22%2331a354%22%2C%20%22fillOpacity%22%3A%200.6%2C%20%22opacity%22%3A%201%2C%20%22weight%22%3A%201%7D%7D%2C%20%22type%22%3A%20%22Feature%22%7D%2C%20%7B%22geometry%22%3A%20%7B%22coordinates%22%3A%20%5B%5B%5B126.98223807916081%2C%2037.509314966770326%5D%2C%20%5B126.98367668291802%2C%2037.473856492692086%5D%2C%20%5B126.9725891850662%2C%2037.472561363278125%5D%2C%20%5B126.94922661389508%2C%2037.49125437495649%5D%2C%20%5B126.90531975801812%2C%2037.48218087575429%5D%2C%20%5B126.92177893174825%2C%2037.494889877415176%5D%2C%20%5B126.92810628828279%2C%2037.51329595732015%5D%2C%20%5B126.95249990298159%2C%2037.51722500741813%5D%2C%20%5B126.98223807916081%2C%2037.509314966770326%5D%5D%5D%2C%20%22type%22%3A%20%22Polygon%22%7D%2C%20%22id%22%3A%20%22%5Cub3d9%5Cuc791%5Cuad6c%22%2C%20%22properties%22%3A%20%7B%22base_year%22%3A%20%222013%22%2C%20%22code%22%3A%20%2211200%22%2C%20%22highlight%22%3A%20%7B%7D%2C%20%22name%22%3A%20%22%5Cub3d9%5Cuc791%5Cuad6c%22%2C%20%22name_eng%22%3A%20%22Dongjak-gu%22%2C%20%22style%22%3A%20%7B%22color%22%3A%20%22black%22%2C%20%22fillColor%22%3A%20%22%23006837%22%2C%20%22fillOpacity%22%3A%200.6%2C%20%22opacity%22%3A%201%2C%20%22weight%22%3A%201%7D%7D%2C%20%22type%22%3A%20%22Feature%22%7D%2C%20%7B%22geometry%22%3A%20%7B%22coordinates%22%3A%20%5B%5B%5B126.89184663862764%2C%2037.547373974997114%5D%2C%20%5B126.94566733083212%2C%2037.526617542453366%5D%2C%20%5B126.95249990298159%2C%2037.51722500741813%5D%2C%20%5B126.92810628828279%2C%2037.51329595732015%5D%2C%20%5B126.92177893174825%2C%2037.494889877415176%5D%2C%20%5B126.90531975801812%2C%2037.48218087575429%5D%2C%20%5B126.89594776782485%2C%2037.504675281309176%5D%2C%20%5B126.88156402353862%2C%2037.513970034765684%5D%2C%20%5B126.88825757860099%2C%2037.54079733630232%5D%2C%20%5B126.89184663862764%2C%2037.547373974997114%5D%5D%5D%2C%20%22type%22%3A%20%22Polygon%22%7D%2C%20%22id%22%3A%20%22%5Cuc601%5Cub4f1%5Cud3ec%5Cuad6c%22%2C%20%22properties%22%3A%20%7B%22base_year%22%3A%20%222013%22%2C%20%22code%22%3A%20%2211190%22%2C%20%22highlight%22%3A%20%7B%7D%2C%20%22name%22%3A%20%22%5Cuc601%5Cub4f1%5Cud3ec%5Cuad6c%22%2C%20%22name_eng%22%3A%20%22Yeongdeungpo-gu%22%2C%20%22style%22%3A%20%7B%22color%22%3A%20%22black%22%2C%20%22fillColor%22%3A%20%22%23006837%22%2C%20%22fillOpacity%22%3A%200.6%2C%20%22opacity%22%3A%201%2C%20%22weight%22%3A%201%7D%7D%2C%20%22type%22%3A%20%22Feature%22%7D%2C%20%7B%22geometry%22%3A%20%7B%22coordinates%22%3A%20%5B%5B%5B126.90156094129895%2C%2037.47753842789901%5D%2C%20%5B126.9167728146601%2C%2037.45490566423789%5D%2C%20%5B126.93084408056525%2C%2037.447382928333994%5D%2C%20%5B126.9025831711697%2C%2037.434549366349124%5D%2C%20%5B126.87683271502428%2C%2037.482576591607305%5D%2C%20%5B126.90156094129895%2C%2037.47753842789901%5D%5D%5D%2C%20%22type%22%3A%20%22Polygon%22%7D%2C%20%22id%22%3A%20%22%5Cuae08%5Cucc9c%5Cuad6c%22%2C%20%22properties%22%3A%20%7B%22base_year%22%3A%20%222013%22%2C%20%22code%22%3A%20%2211180%22%2C%20%22highlight%22%3A%20%7B%7D%2C%20%22name%22%3A%20%22%5Cuae08%5Cucc9c%5Cuad6c%22%2C%20%22name_eng%22%3A%20%22Geumcheon-gu%22%2C%20%22style%22%3A%20%7B%22color%22%3A%20%22black%22%2C%20%22fillColor%22%3A%20%22%23d9f0a3%22%2C%20%22fillOpacity%22%3A%200.6%2C%20%22opacity%22%3A%201%2C%20%22weight%22%3A%201%7D%7D%2C%20%22type%22%3A%20%22Feature%22%7D%2C%20%7B%22geometry%22%3A%20%7B%22coordinates%22%3A%20%5B%5B%5B126.82688081517314%2C%2037.50548972232896%5D%2C%20%5B126.88156402353862%2C%2037.513970034765684%5D%2C%20%5B126.89594776782485%2C%2037.504675281309176%5D%2C%20%5B126.90531975801812%2C%2037.48218087575429%5D%2C%20%5B126.90156094129895%2C%2037.47753842789901%5D%2C%20%5B126.87683271502428%2C%2037.482576591607305%5D%2C%20%5B126.84762676054953%2C%2037.47146723936323%5D%2C%20%5B126.83549485076196%2C%2037.474098236975095%5D%2C%20%5B126.82264796791348%2C%2037.4878476492147%5D%2C%20%5B126.82504736331406%2C%2037.50302612640443%5D%2C%20%5B126.82688081517314%2C%2037.50548972232896%5D%5D%5D%2C%20%22type%22%3A%20%22Polygon%22%7D%2C%20%22id%22%3A%20%22%5Cuad6c%5Cub85c%5Cuad6c%22%2C%20%22properties%22%3A%20%7B%22base_year%22%3A%20%222013%22%2C%20%22code%22%3A%20%2211170%22%2C%20%22highlight%22%3A%20%7B%7D%2C%20%22name%22%3A%20%22%5Cuad6c%5Cub85c%5Cuad6c%22%2C%20%22name_eng%22%3A%20%22Guro-gu%22%2C%20%22style%22%3A%20%7B%22color%22%3A%20%22black%22%2C%20%22fillColor%22%3A%20%22%23ffffcc%22%2C%20%22fillOpacity%22%3A%200.6%2C%20%22opacity%22%3A%201%2C%20%22weight%22%3A%201%7D%7D%2C%20%22type%22%3A%20%22Feature%22%7D%2C%20%7B%22geometry%22%3A%20%7B%22coordinates%22%3A%20%5B%5B%5B126.79575768552907%2C%2037.57881087633202%5D%2C%20%5B126.80702115023597%2C%2037.60123001013228%5D%2C%20%5B126.82251438477105%2C%2037.5880430810082%5D%2C%20%5B126.85984199399667%2C%2037.571847855292745%5D%2C%20%5B126.89184663862764%2C%2037.547373974997114%5D%2C%20%5B126.88825757860099%2C%2037.54079733630232%5D%2C%20%5B126.86637464321238%2C%2037.54859191094823%5D%2C%20%5B126.86610073476395%2C%2037.52699964144669%5D%2C%20%5B126.84257291943153%2C%2037.52373707805596%5D%2C%20%5B126.8242331426722%2C%2037.53788078753248%5D%2C%20%5B126.77324417717703%2C%2037.5459123450554%5D%2C%20%5B126.76979180579352%2C%2037.55139183008809%5D%2C%20%5B126.79575768552907%2C%2037.57881087633202%5D%5D%5D%2C%20%22type%22%3A%20%22Polygon%22%7D%2C%20%22id%22%3A%20%22%5Cuac15%5Cuc11c%5Cuad6c%22%2C%20%22properties%22%3A%20%7B%22base_year%22%3A%20%222013%22%2C%20%22code%22%3A%20%2211160%22%2C%20%22highlight%22%3A%20%7B%7D%2C%20%22name%22%3A%20%22%5Cuac15%5Cuc11c%5Cuad6c%22%2C%20%22name_eng%22%3A%20%22Gangseo-gu%22%2C%20%22style%22%3A%20%7B%22color%22%3A%20%22black%22%2C%20%22fillColor%22%3A%20%22%23006837%22%2C%20%22fillOpacity%22%3A%200.6%2C%20%22opacity%22%3A%201%2C%20%22weight%22%3A%201%7D%7D%2C%20%22type%22%3A%20%22Feature%22%7D%2C%20%7B%22geometry%22%3A%20%7B%22coordinates%22%3A%20%5B%5B%5B126.8242331426722%2C%2037.53788078753248%5D%2C%20%5B126.84257291943153%2C%2037.52373707805596%5D%2C%20%5B126.86610073476395%2C%2037.52699964144669%5D%2C%20%5B126.86637464321238%2C%2037.54859191094823%5D%2C%20%5B126.88825757860099%2C%2037.54079733630232%5D%2C%20%5B126.88156402353862%2C%2037.513970034765684%5D%2C%20%5B126.82688081517314%2C%2037.50548972232896%5D%2C%20%5B126.8242331426722%2C%2037.53788078753248%5D%5D%5D%2C%20%22type%22%3A%20%22Polygon%22%7D%2C%20%22id%22%3A%20%22%5Cuc591%5Cucc9c%5Cuad6c%22%2C%20%22properties%22%3A%20%7B%22base_year%22%3A%20%222013%22%2C%20%22code%22%3A%20%2211150%22%2C%20%22highlight%22%3A%20%7B%7D%2C%20%22name%22%3A%20%22%5Cuc591%5Cucc9c%5Cuad6c%22%2C%20%22name_eng%22%3A%20%22Yangcheon-gu%22%2C%20%22style%22%3A%20%7B%22color%22%3A%20%22black%22%2C%20%22fillColor%22%3A%20%22%23d9f0a3%22%2C%20%22fillOpacity%22%3A%200.6%2C%20%22opacity%22%3A%201%2C%20%22weight%22%3A%201%7D%7D%2C%20%22type%22%3A%20%22Feature%22%7D%2C%20%7B%22geometry%22%3A%20%7B%22coordinates%22%3A%20%5B%5B%5B126.90522065831053%2C%2037.57409700522574%5D%2C%20%5B126.93898161798973%2C%2037.552310003728124%5D%2C%20%5B126.96358226710812%2C%2037.55605635475154%5D%2C%20%5B126.96448570553055%2C%2037.548705692021635%5D%2C%20%5B126.94566733083212%2C%2037.526617542453366%5D%2C%20%5B126.89184663862764%2C%2037.547373974997114%5D%2C%20%5B126.85984199399667%2C%2037.571847855292745%5D%2C%20%5B126.88433284773288%2C%2037.588143322880526%5D%2C%20%5B126.90522065831053%2C%2037.57409700522574%5D%5D%5D%2C%20%22type%22%3A%20%22Polygon%22%7D%2C%20%22id%22%3A%20%22%5Cub9c8%5Cud3ec%5Cuad6c%22%2C%20%22properties%22%3A%20%7B%22base_year%22%3A%20%222013%22%2C%20%22code%22%3A%20%2211140%22%2C%20%22highlight%22%3A%20%7B%7D%2C%20%22name%22%3A%20%22%5Cub9c8%5Cud3ec%5Cuad6c%22%2C%20%22name_eng%22%3A%20%22Mapo-gu%22%2C%20%22style%22%3A%20%7B%22color%22%3A%20%22black%22%2C%20%22fillColor%22%3A%20%22%2378c679%22%2C%20%22fillOpacity%22%3A%200.6%2C%20%22opacity%22%3A%201%2C%20%22weight%22%3A%201%7D%7D%2C%20%22type%22%3A%20%22Feature%22%7D%2C%20%7B%22geometry%22%3A%20%7B%22coordinates%22%3A%20%5B%5B%5B126.9524752030572%2C%2037.60508692737045%5D%2C%20%5B126.95565425846463%2C%2037.576080790881456%5D%2C%20%5B126.96873633279075%2C%2037.56313604690827%5D%2C%20%5B126.96358226710812%2C%2037.55605635475154%5D%2C%20%5B126.93898161798973%2C%2037.552310003728124%5D%2C%20%5B126.90522065831053%2C%2037.57409700522574%5D%2C%20%5B126.9524752030572%2C%2037.60508692737045%5D%5D%5D%2C%20%22type%22%3A%20%22Polygon%22%7D%2C%20%22id%22%3A%20%22%5Cuc11c%5Cub300%5Cubb38%5Cuad6c%22%2C%20%22properties%22%3A%20%7B%22base_year%22%3A%20%222013%22%2C%20%22code%22%3A%20%2211130%22%2C%20%22highlight%22%3A%20%7B%7D%2C%20%22name%22%3A%20%22%5Cuc11c%5Cub300%5Cubb38%5Cuad6c%22%2C%20%22name_eng%22%3A%20%22Seodaemun-gu%22%2C%20%22style%22%3A%20%7B%22color%22%3A%20%22black%22%2C%20%22fillColor%22%3A%20%22%23addd8e%22%2C%20%22fillOpacity%22%3A%200.6%2C%20%22opacity%22%3A%201%2C%20%22weight%22%3A%201%7D%7D%2C%20%22type%22%3A%20%22Feature%22%7D%2C%20%7B%22geometry%22%3A%20%7B%22coordinates%22%3A%20%5B%5B%5B126.9738864128702%2C%2037.62949634786888%5D%2C%20%5B126.95427017006129%2C%2037.622033431339425%5D%2C%20%5B126.9524752030572%2C%2037.60508692737045%5D%2C%20%5B126.90522065831053%2C%2037.57409700522574%5D%2C%20%5B126.88433284773288%2C%2037.588143322880526%5D%2C%20%5B126.90396681003595%2C%2037.59227403419942%5D%2C%20%5B126.90303066177668%2C%2037.609977911401344%5D%2C%20%5B126.91455481429648%2C%2037.64150050996935%5D%2C%20%5B126.956473797387%2C%2037.652480737339445%5D%2C%20%5B126.9738864128702%2C%2037.62949634786888%5D%5D%5D%2C%20%22type%22%3A%20%22Polygon%22%7D%2C%20%22id%22%3A%20%22%5Cuc740%5Cud3c9%5Cuad6c%22%2C%20%22properties%22%3A%20%7B%22base_year%22%3A%20%222013%22%2C%20%22code%22%3A%20%2211120%22%2C%20%22highlight%22%3A%20%7B%7D%2C%20%22name%22%3A%20%22%5Cuc740%5Cud3c9%5Cuad6c%22%2C%20%22name_eng%22%3A%20%22Eunpyeong-gu%22%2C%20%22style%22%3A%20%7B%22color%22%3A%20%22black%22%2C%20%22fillColor%22%3A%20%22%23addd8e%22%2C%20%22fillOpacity%22%3A%200.6%2C%20%22opacity%22%3A%201%2C%20%22weight%22%3A%201%7D%7D%2C%20%22type%22%3A%20%22Feature%22%7D%2C%20%7B%22geometry%22%3A%20%7B%22coordinates%22%3A%20%5B%5B%5B127.0838752703195%2C%2037.69359534202034%5D%2C%20%5B127.09706391309695%2C%2037.686383719372294%5D%2C%20%5B127.09440766298717%2C%2037.64713490473045%5D%2C%20%5B127.11326795855199%2C%2037.639622905315925%5D%2C%20%5B127.10782277688129%2C%2037.61804244241069%5D%2C%20%5B127.07351243825278%2C%2037.61283660342313%5D%2C%20%5B127.05209373568619%2C%2037.62164065487782%5D%2C%20%5B127.04358800895609%2C%2037.62848931298715%5D%2C%20%5B127.05800075220091%2C%2037.64318263878276%5D%2C%20%5B127.05288479710485%2C%2037.68423857084347%5D%2C%20%5B127.0838752703195%2C%2037.69359534202034%5D%5D%5D%2C%20%22type%22%3A%20%22Polygon%22%7D%2C%20%22id%22%3A%20%22%5Cub178%5Cuc6d0%5Cuad6c%22%2C%20%22properties%22%3A%20%7B%22base_year%22%3A%20%222013%22%2C%20%22code%22%3A%20%2211110%22%2C%20%22highlight%22%3A%20%7B%7D%2C%20%22name%22%3A%20%22%5Cub178%5Cuc6d0%5Cuad6c%22%2C%20%22name_eng%22%3A%20%22Nowon-gu%22%2C%20%22style%22%3A%20%7B%22color%22%3A%20%22black%22%2C%20%22fillColor%22%3A%20%22%23ffffcc%22%2C%20%22fillOpacity%22%3A%200.6%2C%20%22opacity%22%3A%201%2C%20%22weight%22%3A%201%7D%7D%2C%20%22type%22%3A%20%22Feature%22%7D%2C%20%7B%22geometry%22%3A%20%7B%22coordinates%22%3A%20%5B%5B%5B127.05288479710485%2C%2037.68423857084347%5D%2C%20%5B127.05800075220091%2C%2037.64318263878276%5D%2C%20%5B127.04358800895609%2C%2037.62848931298715%5D%2C%20%5B127.01465935892466%2C%2037.64943687496812%5D%2C%20%5B127.02062116141389%2C%2037.667173575971205%5D%2C%20%5B127.01039666042071%2C%2037.681894589603594%5D%2C%20%5B127.01795099203432%2C%2037.69824412775662%5D%2C%20%5B127.05288479710485%2C%2037.68423857084347%5D%5D%5D%2C%20%22type%22%3A%20%22Polygon%22%7D%2C%20%22id%22%3A%20%22%5Cub3c4%5Cubd09%5Cuad6c%22%2C%20%22properties%22%3A%20%7B%22base_year%22%3A%20%222013%22%2C%20%22code%22%3A%20%2211100%22%2C%20%22highlight%22%3A%20%7B%7D%2C%20%22name%22%3A%20%22%5Cub3c4%5Cubd09%5Cuad6c%22%2C%20%22name_eng%22%3A%20%22Dobong-gu%22%2C%20%22style%22%3A%20%7B%22color%22%3A%20%22black%22%2C%20%22fillColor%22%3A%20%22%23ffffcc%22%2C%20%22fillOpacity%22%3A%200.6%2C%20%22opacity%22%3A%201%2C%20%22weight%22%3A%201%7D%7D%2C%20%22type%22%3A%20%22Feature%22%7D%2C%20%7B%22geometry%22%3A%20%7B%22coordinates%22%3A%20%5B%5B%5B126.99383903424%2C%2037.676681761199085%5D%2C%20%5B127.01039666042071%2C%2037.681894589603594%5D%2C%20%5B127.02062116141389%2C%2037.667173575971205%5D%2C%20%5B127.01465935892466%2C%2037.64943687496812%5D%2C%20%5B127.04358800895609%2C%2037.62848931298715%5D%2C%20%5B127.05209373568619%2C%2037.62164065487782%5D%2C%20%5B127.03892400992301%2C%2037.609715611023816%5D%2C%20%5B127.0128154749523%2C%2037.613652243470256%5D%2C%20%5B126.98672705513869%2C%2037.63377641288196%5D%2C%20%5B126.9817452676551%2C%2037.65209769387776%5D%2C%20%5B126.99383903424%2C%2037.676681761199085%5D%5D%5D%2C%20%22type%22%3A%20%22Polygon%22%7D%2C%20%22id%22%3A%20%22%5Cuac15%5Cubd81%5Cuad6c%22%2C%20%22properties%22%3A%20%7B%22base_year%22%3A%20%222013%22%2C%20%22code%22%3A%20%2211090%22%2C%20%22highlight%22%3A%20%7B%7D%2C%20%22name%22%3A%20%22%5Cuac15%5Cubd81%5Cuad6c%22%2C%20%22name_eng%22%3A%20%22Gangbuk-gu%22%2C%20%22style%22%3A%20%7B%22color%22%3A%20%22black%22%2C%20%22fillColor%22%3A%20%22%23d9f0a3%22%2C%20%22fillOpacity%22%3A%200.6%2C%20%22opacity%22%3A%201%2C%20%22weight%22%3A%201%7D%7D%2C%20%22type%22%3A%20%22Feature%22%7D%2C%20%7B%22geometry%22%3A%20%7B%22coordinates%22%3A%20%5B%5B%5B126.977175406416%2C%2037.62859715400388%5D%2C%20%5B126.98672705513869%2C%2037.63377641288196%5D%2C%20%5B127.0128154749523%2C%2037.613652243470256%5D%2C%20%5B127.03892400992301%2C%2037.609715611023816%5D%2C%20%5B127.05209373568619%2C%2037.62164065487782%5D%2C%20%5B127.07351243825278%2C%2037.61283660342313%5D%2C%20%5B127.07382707099227%2C%2037.60401928986419%5D%2C%20%5B127.042705222094%2C%2037.59239437593391%5D%2C%20%5B127.02527254528003%2C%2037.57524616245249%5D%2C%20%5B126.99348293358314%2C%2037.588565457216156%5D%2C%20%5B126.98879865992384%2C%2037.6118927319756%5D%2C%20%5B126.977175406416%2C%2037.62859715400388%5D%5D%5D%2C%20%22type%22%3A%20%22Polygon%22%7D%2C%20%22id%22%3A%20%22%5Cuc131%5Cubd81%5Cuad6c%22%2C%20%22properties%22%3A%20%7B%22base_year%22%3A%20%222013%22%2C%20%22code%22%3A%20%2211080%22%2C%20%22highlight%22%3A%20%7B%7D%2C%20%22name%22%3A%20%22%5Cuc131%5Cubd81%5Cuad6c%22%2C%20%22name_eng%22%3A%20%22Seongbuk-gu%22%2C%20%22style%22%3A%20%7B%22color%22%3A%20%22black%22%2C%20%22fillColor%22%3A%20%22%2378c679%22%2C%20%22fillOpacity%22%3A%200.6%2C%20%22opacity%22%3A%201%2C%20%22weight%22%3A%201%7D%7D%2C%20%22type%22%3A%20%22Feature%22%7D%2C%20%7B%22geometry%22%3A%20%7B%22coordinates%22%3A%20%5B%5B%5B127.07351243825278%2C%2037.61283660342313%5D%2C%20%5B127.10782277688129%2C%2037.61804244241069%5D%2C%20%5B127.1201246020114%2C%2037.60178457598188%5D%2C%20%5B127.10304174249214%2C%2037.57076342290955%5D%2C%20%5B127.08068541280403%2C%2037.56906425519017%5D%2C%20%5B127.07382707099227%2C%2037.60401928986419%5D%2C%20%5B127.07351243825278%2C%2037.61283660342313%5D%5D%5D%2C%20%22type%22%3A%20%22Polygon%22%7D%2C%20%22id%22%3A%20%22%5Cuc911%5Cub791%5Cuad6c%22%2C%20%22properties%22%3A%20%7B%22base_year%22%3A%20%222013%22%2C%20%22code%22%3A%20%2211070%22%2C%20%22highlight%22%3A%20%7B%7D%2C%20%22name%22%3A%20%22%5Cuc911%5Cub791%5Cuad6c%22%2C%20%22name_eng%22%3A%20%22Jungnang-gu%22%2C%20%22style%22%3A%20%7B%22color%22%3A%20%22black%22%2C%20%22fillColor%22%3A%20%22%2378c679%22%2C%20%22fillOpacity%22%3A%200.6%2C%20%22opacity%22%3A%201%2C%20%22weight%22%3A%201%7D%7D%2C%20%22type%22%3A%20%22Feature%22%7D%2C%20%7B%22geometry%22%3A%20%7B%22coordinates%22%3A%20%5B%5B%5B127.02527254528003%2C%2037.57524616245249%5D%2C%20%5B127.042705222094%2C%2037.59239437593391%5D%2C%20%5B127.07382707099227%2C%2037.60401928986419%5D%2C%20%5B127.08068541280403%2C%2037.56906425519017%5D%2C%20%5B127.07421053024362%2C%2037.55724769712085%5D%2C%20%5B127.05005601081567%2C%2037.567577612590846%5D%2C%20%5B127.02547266349976%2C%2037.568943552237734%5D%2C%20%5B127.02527254528003%2C%2037.57524616245249%5D%5D%5D%2C%20%22type%22%3A%20%22Polygon%22%7D%2C%20%22id%22%3A%20%22%5Cub3d9%5Cub300%5Cubb38%5Cuad6c%22%2C%20%22properties%22%3A%20%7B%22base_year%22%3A%20%222013%22%2C%20%22code%22%3A%20%2211060%22%2C%20%22highlight%22%3A%20%7B%7D%2C%20%22name%22%3A%20%22%5Cub3d9%5Cub300%5Cubb38%5Cuad6c%22%2C%20%22name_eng%22%3A%20%22Dongdaemun-gu%22%2C%20%22style%22%3A%20%7B%22color%22%3A%20%22black%22%2C%20%22fillColor%22%3A%20%22%23addd8e%22%2C%20%22fillOpacity%22%3A%200.6%2C%20%22opacity%22%3A%201%2C%20%22weight%22%3A%201%7D%7D%2C%20%22type%22%3A%20%22Feature%22%7D%2C%20%7B%22geometry%22%3A%20%7B%22coordinates%22%3A%20%5B%5B%5B127.08068541280403%2C%2037.56906425519017%5D%2C%20%5B127.10304174249214%2C%2037.57076342290955%5D%2C%20%5B127.11519584981606%2C%2037.557533180704915%5D%2C%20%5B127.1116764203608%2C%2037.540669955324965%5D%2C%20%5B127.10087519791962%2C%2037.524841220167055%5D%2C%20%5B127.0690698130372%2C%2037.522279423505026%5D%2C%20%5B127.05867359288398%2C%2037.52629974922568%5D%2C%20%5B127.07421053024362%2C%2037.55724769712085%5D%2C%20%5B127.08068541280403%2C%2037.56906425519017%5D%5D%5D%2C%20%22type%22%3A%20%22Polygon%22%7D%2C%20%22id%22%3A%20%22%5Cuad11%5Cuc9c4%5Cuad6c%22%2C%20%22properties%22%3A%20%7B%22base_year%22%3A%20%222013%22%2C%20%22code%22%3A%20%2211050%22%2C%20%22highlight%22%3A%20%7B%7D%2C%20%22name%22%3A%20%22%5Cuad11%5Cuc9c4%5Cuad6c%22%2C%20%22name_eng%22%3A%20%22Gwangjin-gu%22%2C%20%22style%22%3A%20%7B%22color%22%3A%20%22black%22%2C%20%22fillColor%22%3A%20%22%23006837%22%2C%20%22fillOpacity%22%3A%200.6%2C%20%22opacity%22%3A%201%2C%20%22weight%22%3A%201%7D%7D%2C%20%22type%22%3A%20%22Feature%22%7D%2C%20%7B%22geometry%22%3A%20%7B%22coordinates%22%3A%20%5B%5B%5B127.02547266349976%2C%2037.568943552237734%5D%2C%20%5B127.05005601081567%2C%2037.567577612590846%5D%2C%20%5B127.07421053024362%2C%2037.55724769712085%5D%2C%20%5B127.05867359288398%2C%2037.52629974922568%5D%2C%20%5B127.02302831890559%2C%2037.53231899582663%5D%2C%20%5B127.01070894177482%2C%2037.54118048964762%5D%2C%20%5B127.02547266349976%2C%2037.568943552237734%5D%5D%5D%2C%20%22type%22%3A%20%22Polygon%22%7D%2C%20%22id%22%3A%20%22%5Cuc131%5Cub3d9%5Cuad6c%22%2C%20%22properties%22%3A%20%7B%22base_year%22%3A%20%222013%22%2C%20%22code%22%3A%20%2211040%22%2C%20%22highlight%22%3A%20%7B%7D%2C%20%22name%22%3A%20%22%5Cuc131%5Cub3d9%5Cuad6c%22%2C%20%22name_eng%22%3A%20%22Seongdong-gu%22%2C%20%22style%22%3A%20%7B%22color%22%3A%20%22black%22%2C%20%22fillColor%22%3A%20%22%23d9f0a3%22%2C%20%22fillOpacity%22%3A%200.6%2C%20%22opacity%22%3A%201%2C%20%22weight%22%3A%201%7D%7D%2C%20%22type%22%3A%20%22Feature%22%7D%2C%20%7B%22geometry%22%3A%20%7B%22coordinates%22%3A%20%5B%5B%5B127.01070894177482%2C%2037.54118048964762%5D%2C%20%5B127.02302831890559%2C%2037.53231899582663%5D%2C%20%5B127.01397119667513%2C%2037.52503988289669%5D%2C%20%5B126.98223807916081%2C%2037.509314966770326%5D%2C%20%5B126.95249990298159%2C%2037.51722500741813%5D%2C%20%5B126.94566733083212%2C%2037.526617542453366%5D%2C%20%5B126.96448570553055%2C%2037.548705692021635%5D%2C%20%5B126.98752996903328%2C%2037.55094818807139%5D%2C%20%5B127.01070894177482%2C%2037.54118048964762%5D%5D%5D%2C%20%22type%22%3A%20%22Polygon%22%7D%2C%20%22id%22%3A%20%22%5Cuc6a9%5Cuc0b0%5Cuad6c%22%2C%20%22properties%22%3A%20%7B%22base_year%22%3A%20%222013%22%2C%20%22code%22%3A%20%2211030%22%2C%20%22highlight%22%3A%20%7B%7D%2C%20%22name%22%3A%20%22%5Cuc6a9%5Cuc0b0%5Cuad6c%22%2C%20%22name_eng%22%3A%20%22Yongsan-gu%22%2C%20%22style%22%3A%20%7B%22color%22%3A%20%22black%22%2C%20%22fillColor%22%3A%20%22%23addd8e%22%2C%20%22fillOpacity%22%3A%200.6%2C%20%22opacity%22%3A%201%2C%20%22weight%22%3A%201%7D%7D%2C%20%22type%22%3A%20%22Feature%22%7D%2C%20%7B%22geometry%22%3A%20%7B%22coordinates%22%3A%20%5B%5B%5B127.02547266349976%2C%2037.568943552237734%5D%2C%20%5B127.01070894177482%2C%2037.54118048964762%5D%2C%20%5B126.98752996903328%2C%2037.55094818807139%5D%2C%20%5B126.96448570553055%2C%2037.548705692021635%5D%2C%20%5B126.96358226710812%2C%2037.55605635475154%5D%2C%20%5B126.96873633279075%2C%2037.56313604690827%5D%2C%20%5B127.02547266349976%2C%2037.568943552237734%5D%5D%5D%2C%20%22type%22%3A%20%22Polygon%22%7D%2C%20%22id%22%3A%20%22%5Cuc911%5Cuad6c%22%2C%20%22properties%22%3A%20%7B%22base_year%22%3A%20%222013%22%2C%20%22code%22%3A%20%2211020%22%2C%20%22highlight%22%3A%20%7B%7D%2C%20%22name%22%3A%20%22%5Cuc911%5Cuad6c%22%2C%20%22name_eng%22%3A%20%22Jung-gu%22%2C%20%22style%22%3A%20%7B%22color%22%3A%20%22black%22%2C%20%22fillColor%22%3A%20%22%2378c679%22%2C%20%22fillOpacity%22%3A%200.6%2C%20%22opacity%22%3A%201%2C%20%22weight%22%3A%201%7D%7D%2C%20%22type%22%3A%20%22Feature%22%7D%2C%20%7B%22geometry%22%3A%20%7B%22coordinates%22%3A%20%5B%5B%5B126.9738864128702%2C%2037.62949634786888%5D%2C%20%5B126.977175406416%2C%2037.62859715400388%5D%2C%20%5B126.98879865992384%2C%2037.6118927319756%5D%2C%20%5B126.99348293358314%2C%2037.588565457216156%5D%2C%20%5B127.02527254528003%2C%2037.57524616245249%5D%2C%20%5B127.02547266349976%2C%2037.568943552237734%5D%2C%20%5B126.96873633279075%2C%2037.56313604690827%5D%2C%20%5B126.95565425846463%2C%2037.576080790881456%5D%2C%20%5B126.9524752030572%2C%2037.60508692737045%5D%2C%20%5B126.95427017006129%2C%2037.622033431339425%5D%2C%20%5B126.9738864128702%2C%2037.62949634786888%5D%5D%5D%2C%20%22type%22%3A%20%22Polygon%22%7D%2C%20%22id%22%3A%20%22%5Cuc885%5Cub85c%5Cuad6c%22%2C%20%22properties%22%3A%20%7B%22base_year%22%3A%20%222013%22%2C%20%22code%22%3A%20%2211010%22%2C%20%22highlight%22%3A%20%7B%7D%2C%20%22name%22%3A%20%22%5Cuc885%5Cub85c%5Cuad6c%22%2C%20%22name_eng%22%3A%20%22Jongno-gu%22%2C%20%22style%22%3A%20%7B%22color%22%3A%20%22black%22%2C%20%22fillColor%22%3A%20%22%23d9f0a3%22%2C%20%22fillOpacity%22%3A%200.6%2C%20%22opacity%22%3A%201%2C%20%22weight%22%3A%201%7D%7D%2C%20%22type%22%3A%20%22Feature%22%7D%5D%2C%20%22type%22%3A%20%22FeatureCollection%22%7D%2C%0A%20%20%20%20%20%20%20%20%20%20%20%20%7B%0A%20%20%20%20%20%20%20%20%20%20%20%20%7D%0A%20%20%20%20%20%20%20%20%29.addTo%28choropleth_56cda46ffeb44f7e8c9cb46bc77a0730%20%29%3B%0A%20%20%20%20%20%20%20%20geo_json_aa550acd305e4e4db97eb20c1b8d6104.setStyle%28function%28feature%29%20%7Breturn%20feature.properties.style%3B%7D%29%3B%0A%20%20%20%20%20%20%20%20%0A%20%20%20%20%0A%20%20%20%20var%20color_map_59c31a9d4aa34d4b9305e88e00ecf653%20%3D%20%7B%7D%3B%0A%0A%20%20%20%20%0A%20%20%20%20color_map_59c31a9d4aa34d4b9305e88e00ecf653.color%20%3D%20d3.scale.threshold%28%29%0A%20%20%20%20%20%20%20%20%20%20%20%20%20%20.domain%28%5B0.0%2C%200.028056112224448898%2C%200.056112224448897796%2C%200.0841683366733467%2C%200.11222444889779559%2C%200.1402805611222445%2C%200.1683366733466934%2C%200.1963927855711423%2C%200.22444889779559118%2C%200.25250501002004005%2C%200.280561122244489%2C%200.30861723446893785%2C%200.3366733466933868%2C%200.36472945891783565%2C%200.3927855711422846%2C%200.42084168336673344%2C%200.44889779559118237%2C%200.47695390781563124%2C%200.5050100200400801%2C%200.533066132264529%2C%200.561122244488978%2C%200.5891783567134269%2C%200.6172344689378757%2C%200.6452905811623246%2C%200.6733466933867736%2C%200.7014028056112225%2C%200.7294589178356713%2C%200.7575150300601202%2C%200.7855711422845691%2C%200.8136272545090181%2C%200.8416833667334669%2C%200.8697394789579158%2C%200.8977955911823647%2C%200.9258517034068137%2C%200.9539078156312625%2C%200.9819639278557114%2C%201.0100200400801602%2C%201.0380761523046091%2C%201.066132264529058%2C%201.094188376753507%2C%201.122244488977956%2C%201.1503006012024048%2C%201.1783567134268538%2C%201.2064128256513027%2C%201.2344689378757514%2C%201.2625250501002003%2C%201.2905811623246493%2C%201.3186372745490982%2C%201.346693386773547%2C%201.374749498997996%2C%201.402805611222445%2C%201.4308617234468939%2C%201.4589178356713426%2C%201.4869739478957915%2C%201.5150300601202404%2C%201.5430861723446894%2C%201.5711422845691383%2C%201.5991983967935872%2C%201.6272545090180361%2C%201.655310621242485%2C%201.6833667334669338%2C%201.7114228456913827%2C%201.7394789579158316%2C%201.7675350701402806%2C%201.7955911823647295%2C%201.8236472945891784%2C%201.8517034068136273%2C%201.8797595190380763%2C%201.907815631262525%2C%201.9358717434869739%2C%201.9639278557114228%2C%201.9919839679358717%2C%202.0200400801603204%2C%202.0480961923847696%2C%202.0761523046092183%2C%202.1042084168336674%2C%202.132264529058116%2C%202.1603206412825653%2C%202.188376753507014%2C%202.216432865731463%2C%202.244488977955912%2C%202.2725450901803605%2C%202.3006012024048097%2C%202.3286573146292584%2C%202.3567134268537075%2C%202.3847695390781563%2C%202.4128256513026054%2C%202.440881763527054%2C%202.468937875751503%2C%202.496993987975952%2C%202.5250501002004007%2C%202.55310621242485%2C%202.5811623246492985%2C%202.6092184368737477%2C%202.6372745490981964%2C%202.6653306613226455%2C%202.693386773547094%2C%202.721442885771543%2C%202.749498997995992%2C%202.7775551102204408%2C%202.80561122244489%2C%202.8336673346693386%2C%202.8617234468937878%2C%202.8897795591182365%2C%202.917835671342685%2C%202.9458917835671343%2C%202.973947895791583%2C%203.002004008016032%2C%203.030060120240481%2C%203.05811623246493%2C%203.0861723446893787%2C%203.1142284569138274%2C%203.1422845691382766%2C%203.1703406813627253%2C%203.1983967935871744%2C%203.226452905811623%2C%203.2545090180360723%2C%203.282565130260521%2C%203.31062124248497%2C%203.338677354709419%2C%203.3667334669338675%2C%203.3947895791583167%2C%203.4228456913827654%2C%203.4509018036072145%2C%203.4789579158316633%2C%203.5070140280561124%2C%203.535070140280561%2C%203.56312625250501%2C%203.591182364729459%2C%203.6192384769539077%2C%203.647294589178357%2C%203.6753507014028055%2C%203.7034068136272547%2C%203.7314629258517034%2C%203.7595190380761525%2C%203.787575150300601%2C%203.81563126252505%2C%203.843687374749499%2C%203.8717434869739478%2C%203.899799599198397%2C%203.9278557114228456%2C%203.9559118236472948%2C%203.9839679358717435%2C%204.012024048096192%2C%204.040080160320641%2C%204.0681362725450905%2C%204.096192384769539%2C%204.124248496993988%2C%204.152304609218437%2C%204.180360721442886%2C%204.208416833667335%2C%204.236472945891784%2C%204.264529058116232%2C%204.292585170340681%2C%204.320641282565131%2C%204.348697394789579%2C%204.376753507014028%2C%204.404809619238477%2C%204.432865731462926%2C%204.460921843687375%2C%204.488977955911824%2C%204.517034068136272%2C%204.545090180360721%2C%204.573146292585171%2C%204.601202404809619%2C%204.629258517034068%2C%204.657314629258517%2C%204.6853707414829655%2C%204.713426853707415%2C%204.741482965931864%2C%204.7695390781563125%2C%204.797595190380761%2C%204.825651302605211%2C%204.8537074148296595%2C%204.881763527054108%2C%204.909819639278557%2C%204.937875751503006%2C%204.965931863727455%2C%204.993987975951904%2C%205.022044088176353%2C%205.050100200400801%2C%205.078156312625251%2C%205.1062124248497%2C%205.134268537074148%2C%205.162324649298597%2C%205.190380761523046%2C%205.218436873747495%2C%205.246492985971944%2C%205.274549098196393%2C%205.302605210420841%2C%205.330661322645291%2C%205.35871743486974%2C%205.386773547094188%2C%205.414829659318637%2C%205.442885771543086%2C%205.470941883767535%2C%205.498997995991984%2C%205.527054108216433%2C%205.5551102204408815%2C%205.58316633266533%2C%205.61122244488978%2C%205.6392785571142285%2C%205.667334669338677%2C%205.695390781563126%2C%205.7234468937875755%2C%205.751503006012024%2C%205.779559118236473%2C%205.807615230460922%2C%205.83567134268537%2C%205.86372745490982%2C%205.891783567134269%2C%205.919839679358717%2C%205.947895791583166%2C%205.975951903807616%2C%206.004008016032064%2C%206.032064128256513%2C%206.060120240480962%2C%206.0881763527054105%2C%206.11623246492986%2C%206.144288577154309%2C%206.1723446893787575%2C%206.200400801603206%2C%206.228456913827655%2C%206.2565130260521045%2C%206.284569138276553%2C%206.312625250501002%2C%206.340681362725451%2C%206.3687374749499%2C%206.396793587174349%2C%206.424849699398798%2C%206.452905811623246%2C%206.480961923847695%2C%206.509018036072145%2C%206.537074148296593%2C%206.565130260521042%2C%206.593186372745491%2C%206.62124248496994%2C%206.649298597194389%2C%206.677354709418838%2C%206.705410821643286%2C%206.733466933867735%2C%206.761523046092185%2C%206.789579158316633%2C%206.817635270541082%2C%206.845691382765531%2C%206.87374749498998%2C%206.901803607214429%2C%206.929859719438878%2C%206.9579158316633265%2C%206.985971943887775%2C%207.014028056112225%2C%207.0420841683366735%2C%207.070140280561122%2C%207.098196392785571%2C%207.12625250501002%2C%207.154308617234469%2C%207.182364729458918%2C%207.210420841683367%2C%207.238476953907815%2C%207.266533066132265%2C%207.294589178356714%2C%207.322645290581162%2C%207.350701402805611%2C%207.37875751503006%2C%207.406813627254509%2C%207.434869739478958%2C%207.462925851703407%2C%207.490981963927855%2C%207.519038076152305%2C%207.547094188376754%2C%207.575150300601202%2C%207.603206412825651%2C%207.6312625250501%2C%207.659318637274549%2C%207.687374749498998%2C%207.715430861723447%2C%207.7434869739478955%2C%207.771543086172345%2C%207.799599198396794%2C%207.8276553106212425%2C%207.855711422845691%2C%207.88376753507014%2C%207.9118236472945895%2C%207.939879759519038%2C%207.967935871743487%2C%207.995991983967936%2C%208.024048096192384%2C%208.052104208416834%2C%208.080160320641282%2C%208.108216432865731%2C%208.136272545090181%2C%208.164328657314629%2C%208.192384769539078%2C%208.220440881763528%2C%208.248496993987976%2C%208.276553106212425%2C%208.304609218436873%2C%208.332665330661323%2C%208.360721442885772%2C%208.38877755511022%2C%208.41683366733467%2C%208.444889779559118%2C%208.472945891783567%2C%208.501002004008017%2C%208.529058116232465%2C%208.557114228456914%2C%208.585170340681362%2C%208.613226452905812%2C%208.641282565130261%2C%208.669338677354709%2C%208.697394789579159%2C%208.725450901803606%2C%208.753507014028056%2C%208.781563126252506%2C%208.809619238476953%2C%208.837675350701403%2C%208.865731462925853%2C%208.8937875751503%2C%208.92184368737475%2C%208.949899799599198%2C%208.977955911823647%2C%209.006012024048097%2C%209.034068136272545%2C%209.062124248496994%2C%209.090180360721442%2C%209.118236472945892%2C%209.146292585170341%2C%209.17434869739479%2C%209.202404809619239%2C%209.230460921843687%2C%209.258517034068136%2C%209.286573146292586%2C%209.314629258517034%2C%209.342685370741483%2C%209.370741482965931%2C%209.39879759519038%2C%209.42685370741483%2C%209.454909819639278%2C%209.482965931863728%2C%209.511022044088177%2C%209.539078156312625%2C%209.567134268537075%2C%209.595190380761522%2C%209.623246492985972%2C%209.651302605210422%2C%209.67935871743487%2C%209.707414829659319%2C%209.735470941883767%2C%209.763527054108216%2C%209.791583166332666%2C%209.819639278557114%2C%209.847695390781563%2C%209.875751503006011%2C%209.90380761523046%2C%209.93186372745491%2C%209.959919839679358%2C%209.987975951903808%2C%2010.016032064128256%2C%2010.044088176352705%2C%2010.072144288577155%2C%2010.100200400801603%2C%2010.128256513026052%2C%2010.156312625250502%2C%2010.18436873747495%2C%2010.2124248496994%2C%2010.240480961923847%2C%2010.268537074148297%2C%2010.296593186372746%2C%2010.324649298597194%2C%2010.352705410821644%2C%2010.380761523046091%2C%2010.408817635270541%2C%2010.43687374749499%2C%2010.464929859719438%2C%2010.492985971943888%2C%2010.521042084168336%2C%2010.549098196392785%2C%2010.577154308617235%2C%2010.605210420841683%2C%2010.633266533066132%2C%2010.661322645290582%2C%2010.68937875751503%2C%2010.71743486973948%2C%2010.745490981963927%2C%2010.773547094188377%2C%2010.801603206412826%2C%2010.829659318637274%2C%2010.857715430861724%2C%2010.885771543086172%2C%2010.913827655310621%2C%2010.94188376753507%2C%2010.969939879759519%2C%2010.997995991983968%2C%2011.026052104208416%2C%2011.054108216432866%2C%2011.082164328657315%2C%2011.110220440881763%2C%2011.138276553106213%2C%2011.16633266533066%2C%2011.19438877755511%2C%2011.22244488977956%2C%2011.250501002004007%2C%2011.278557114228457%2C%2011.306613226452907%2C%2011.334669338677354%2C%2011.362725450901804%2C%2011.390781563126252%2C%2011.418837675350701%2C%2011.446893787575151%2C%2011.474949899799599%2C%2011.503006012024048%2C%2011.531062124248496%2C%2011.559118236472946%2C%2011.587174348697395%2C%2011.615230460921843%2C%2011.643286573146293%2C%2011.67134268537074%2C%2011.69939879759519%2C%2011.72745490981964%2C%2011.755511022044088%2C%2011.783567134268537%2C%2011.811623246492985%2C%2011.839679358717435%2C%2011.867735470941884%2C%2011.895791583166332%2C%2011.923847695390782%2C%2011.951903807615231%2C%2011.97995991983968%2C%2012.008016032064129%2C%2012.036072144288577%2C%2012.064128256513026%2C%2012.092184368737476%2C%2012.120240480961924%2C%2012.148296593186373%2C%2012.176352705410821%2C%2012.20440881763527%2C%2012.23246492985972%2C%2012.260521042084168%2C%2012.288577154308618%2C%2012.316633266533065%2C%2012.344689378757515%2C%2012.372745490981965%2C%2012.400801603206412%2C%2012.428857715430862%2C%2012.45691382765531%2C%2012.48496993987976%2C%2012.513026052104209%2C%2012.541082164328657%2C%2012.569138276553106%2C%2012.597194388777556%2C%2012.625250501002004%2C%2012.653306613226453%2C%2012.681362725450901%2C%2012.70941883767535%2C%2012.7374749498998%2C%2012.765531062124248%2C%2012.793587174348698%2C%2012.821643286573146%2C%2012.849699398797595%2C%2012.877755511022045%2C%2012.905811623246493%2C%2012.933867735470942%2C%2012.96192384769539%2C%2012.98997995991984%2C%2013.01803607214429%2C%2013.046092184368737%2C%2013.074148296593187%2C%2013.102204408817636%2C%2013.130260521042084%2C%2013.158316633266534%2C%2013.186372745490981%2C%2013.214428857715431%2C%2013.24248496993988%2C%2013.270541082164328%2C%2013.298597194388778%2C%2013.326653306613226%2C%2013.354709418837675%2C%2013.382765531062125%2C%2013.410821643286573%2C%2013.438877755511022%2C%2013.46693386773547%2C%2013.49498997995992%2C%2013.52304609218437%2C%2013.551102204408817%2C%2013.579158316633267%2C%2013.607214428857715%2C%2013.635270541082164%2C%2013.663326653306614%2C%2013.691382765531062%2C%2013.719438877755511%2C%2013.74749498997996%2C%2013.775551102204409%2C%2013.803607214428858%2C%2013.831663326653306%2C%2013.859719438877756%2C%2013.887775551102205%2C%2013.915831663326653%2C%2013.943887775551103%2C%2013.97194388777555%2C%2014.0%5D%29%0A%20%20%20%20%20%20%20%20%20%20%20%20%20%20.range%28%5B%27%23ffffccff%27%2C%20%27%23ffffccff%27%2C%20%27%23ffffccff%27%2C%20%27%23ffffccff%27%2C%20%27%23ffffccff%27%2C%20%27%23ffffccff%27%2C%20%27%23ffffccff%27%2C%20%27%23ffffccff%27%2C%20%27%23ffffccff%27%2C%20%27%23ffffccff%27%2C%20%27%23ffffccff%27%2C%20%27%23ffffccff%27%2C%20%27%23ffffccff%27%2C%20%27%23ffffccff%27%2C%20%27%23ffffccff%27%2C%20%27%23ffffccff%27%2C%20%27%23ffffccff%27%2C%20%27%23ffffccff%27%2C%20%27%23ffffccff%27%2C%20%27%23ffffccff%27%2C%20%27%23ffffccff%27%2C%20%27%23ffffccff%27%2C%20%27%23ffffccff%27%2C%20%27%23ffffccff%27%2C%20%27%23ffffccff%27%2C%20%27%23ffffccff%27%2C%20%27%23ffffccff%27%2C%20%27%23ffffccff%27%2C%20%27%23ffffccff%27%2C%20%27%23ffffccff%27%2C%20%27%23ffffccff%27%2C%20%27%23ffffccff%27%2C%20%27%23ffffccff%27%2C%20%27%23ffffccff%27%2C%20%27%23ffffccff%27%2C%20%27%23ffffccff%27%2C%20%27%23ffffccff%27%2C%20%27%23ffffccff%27%2C%20%27%23ffffccff%27%2C%20%27%23ffffccff%27%2C%20%27%23ffffccff%27%2C%20%27%23ffffccff%27%2C%20%27%23ffffccff%27%2C%20%27%23ffffccff%27%2C%20%27%23ffffccff%27%2C%20%27%23ffffccff%27%2C%20%27%23ffffccff%27%2C%20%27%23ffffccff%27%2C%20%27%23ffffccff%27%2C%20%27%23ffffccff%27%2C%20%27%23ffffccff%27%2C%20%27%23ffffccff%27%2C%20%27%23ffffccff%27%2C%20%27%23ffffccff%27%2C%20%27%23ffffccff%27%2C%20%27%23ffffccff%27%2C%20%27%23ffffccff%27%2C%20%27%23ffffccff%27%2C%20%27%23ffffccff%27%2C%20%27%23ffffccff%27%2C%20%27%23ffffccff%27%2C%20%27%23ffffccff%27%2C%20%27%23ffffccff%27%2C%20%27%23ffffccff%27%2C%20%27%23ffffccff%27%2C%20%27%23ffffccff%27%2C%20%27%23ffffccff%27%2C%20%27%23ffffccff%27%2C%20%27%23ffffccff%27%2C%20%27%23ffffccff%27%2C%20%27%23ffffccff%27%2C%20%27%23ffffccff%27%2C%20%27%23ffffccff%27%2C%20%27%23ffffccff%27%2C%20%27%23ffffccff%27%2C%20%27%23ffffccff%27%2C%20%27%23ffffccff%27%2C%20%27%23ffffccff%27%2C%20%27%23ffffccff%27%2C%20%27%23ffffccff%27%2C%20%27%23ffffccff%27%2C%20%27%23ffffccff%27%2C%20%27%23ffffccff%27%2C%20%27%23ffffccff%27%2C%20%27%23d9f0a3ff%27%2C%20%27%23d9f0a3ff%27%2C%20%27%23d9f0a3ff%27%2C%20%27%23d9f0a3ff%27%2C%20%27%23d9f0a3ff%27%2C%20%27%23d9f0a3ff%27%2C%20%27%23d9f0a3ff%27%2C%20%27%23d9f0a3ff%27%2C%20%27%23d9f0a3ff%27%2C%20%27%23d9f0a3ff%27%2C%20%27%23d9f0a3ff%27%2C%20%27%23d9f0a3ff%27%2C%20%27%23d9f0a3ff%27%2C%20%27%23d9f0a3ff%27%2C%20%27%23d9f0a3ff%27%2C%20%27%23d9f0a3ff%27%2C%20%27%23d9f0a3ff%27%2C%20%27%23d9f0a3ff%27%2C%20%27%23d9f0a3ff%27%2C%20%27%23d9f0a3ff%27%2C%20%27%23d9f0a3ff%27%2C%20%27%23d9f0a3ff%27%2C%20%27%23d9f0a3ff%27%2C%20%27%23d9f0a3ff%27%2C%20%27%23d9f0a3ff%27%2C%20%27%23d9f0a3ff%27%2C%20%27%23d9f0a3ff%27%2C%20%27%23d9f0a3ff%27%2C%20%27%23d9f0a3ff%27%2C%20%27%23d9f0a3ff%27%2C%20%27%23d9f0a3ff%27%2C%20%27%23d9f0a3ff%27%2C%20%27%23d9f0a3ff%27%2C%20%27%23d9f0a3ff%27%2C%20%27%23d9f0a3ff%27%2C%20%27%23d9f0a3ff%27%2C%20%27%23d9f0a3ff%27%2C%20%27%23d9f0a3ff%27%2C%20%27%23d9f0a3ff%27%2C%20%27%23d9f0a3ff%27%2C%20%27%23d9f0a3ff%27%2C%20%27%23d9f0a3ff%27%2C%20%27%23d9f0a3ff%27%2C%20%27%23d9f0a3ff%27%2C%20%27%23d9f0a3ff%27%2C%20%27%23d9f0a3ff%27%2C%20%27%23d9f0a3ff%27%2C%20%27%23d9f0a3ff%27%2C%20%27%23d9f0a3ff%27%2C%20%27%23d9f0a3ff%27%2C%20%27%23d9f0a3ff%27%2C%20%27%23d9f0a3ff%27%2C%20%27%23d9f0a3ff%27%2C%20%27%23d9f0a3ff%27%2C%20%27%23d9f0a3ff%27%2C%20%27%23d9f0a3ff%27%2C%20%27%23d9f0a3ff%27%2C%20%27%23d9f0a3ff%27%2C%20%27%23d9f0a3ff%27%2C%20%27%23d9f0a3ff%27%2C%20%27%23d9f0a3ff%27%2C%20%27%23d9f0a3ff%27%2C%20%27%23d9f0a3ff%27%2C%20%27%23d9f0a3ff%27%2C%20%27%23d9f0a3ff%27%2C%20%27%23d9f0a3ff%27%2C%20%27%23d9f0a3ff%27%2C%20%27%23d9f0a3ff%27%2C%20%27%23d9f0a3ff%27%2C%20%27%23d9f0a3ff%27%2C%20%27%23d9f0a3ff%27%2C%20%27%23d9f0a3ff%27%2C%20%27%23d9f0a3ff%27%2C%20%27%23d9f0a3ff%27%2C%20%27%23d9f0a3ff%27%2C%20%27%23d9f0a3ff%27%2C%20%27%23d9f0a3ff%27%2C%20%27%23d9f0a3ff%27%2C%20%27%23d9f0a3ff%27%2C%20%27%23d9f0a3ff%27%2C%20%27%23d9f0a3ff%27%2C%20%27%23d9f0a3ff%27%2C%20%27%23d9f0a3ff%27%2C%20%27%23addd8eff%27%2C%20%27%23addd8eff%27%2C%20%27%23addd8eff%27%2C%20%27%23addd8eff%27%2C%20%27%23addd8eff%27%2C%20%27%23addd8eff%27%2C%20%27%23addd8eff%27%2C%20%27%23addd8eff%27%2C%20%27%23addd8eff%27%2C%20%27%23addd8eff%27%2C%20%27%23addd8eff%27%2C%20%27%23addd8eff%27%2C%20%27%23addd8eff%27%2C%20%27%23addd8eff%27%2C%20%27%23addd8eff%27%2C%20%27%23addd8eff%27%2C%20%27%23addd8eff%27%2C%20%27%23addd8eff%27%2C%20%27%23addd8eff%27%2C%20%27%23addd8eff%27%2C%20%27%23addd8eff%27%2C%20%27%23addd8eff%27%2C%20%27%23addd8eff%27%2C%20%27%23addd8eff%27%2C%20%27%23addd8eff%27%2C%20%27%23addd8eff%27%2C%20%27%23addd8eff%27%2C%20%27%23addd8eff%27%2C%20%27%23addd8eff%27%2C%20%27%23addd8eff%27%2C%20%27%23addd8eff%27%2C%20%27%23addd8eff%27%2C%20%27%23addd8eff%27%2C%20%27%23addd8eff%27%2C%20%27%23addd8eff%27%2C%20%27%23addd8eff%27%2C%20%27%23addd8eff%27%2C%20%27%23addd8eff%27%2C%20%27%23addd8eff%27%2C%20%27%23addd8eff%27%2C%20%27%23addd8eff%27%2C%20%27%23addd8eff%27%2C%20%27%23addd8eff%27%2C%20%27%23addd8eff%27%2C%20%27%23addd8eff%27%2C%20%27%23addd8eff%27%2C%20%27%23addd8eff%27%2C%20%27%23addd8eff%27%2C%20%27%23addd8eff%27%2C%20%27%23addd8eff%27%2C%20%27%23addd8eff%27%2C%20%27%23addd8eff%27%2C%20%27%23addd8eff%27%2C%20%27%23addd8eff%27%2C%20%27%23addd8eff%27%2C%20%27%23addd8eff%27%2C%20%27%23addd8eff%27%2C%20%27%23addd8eff%27%2C%20%27%23addd8eff%27%2C%20%27%23addd8eff%27%2C%20%27%23addd8eff%27%2C%20%27%23addd8eff%27%2C%20%27%23addd8eff%27%2C%20%27%23addd8eff%27%2C%20%27%23addd8eff%27%2C%20%27%23addd8eff%27%2C%20%27%23addd8eff%27%2C%20%27%23addd8eff%27%2C%20%27%23addd8eff%27%2C%20%27%23addd8eff%27%2C%20%27%23addd8eff%27%2C%20%27%23addd8eff%27%2C%20%27%23addd8eff%27%2C%20%27%23addd8eff%27%2C%20%27%23addd8eff%27%2C%20%27%23addd8eff%27%2C%20%27%23addd8eff%27%2C%20%27%23addd8eff%27%2C%20%27%23addd8eff%27%2C%20%27%23addd8eff%27%2C%20%27%23addd8eff%27%2C%20%27%23addd8eff%27%2C%20%27%23addd8eff%27%2C%20%27%2378c679ff%27%2C%20%27%2378c679ff%27%2C%20%27%2378c679ff%27%2C%20%27%2378c679ff%27%2C%20%27%2378c679ff%27%2C%20%27%2378c679ff%27%2C%20%27%2378c679ff%27%2C%20%27%2378c679ff%27%2C%20%27%2378c679ff%27%2C%20%27%2378c679ff%27%2C%20%27%2378c679ff%27%2C%20%27%2378c679ff%27%2C%20%27%2378c679ff%27%2C%20%27%2378c679ff%27%2C%20%27%2378c679ff%27%2C%20%27%2378c679ff%27%2C%20%27%2378c679ff%27%2C%20%27%2378c679ff%27%2C%20%27%2378c679ff%27%2C%20%27%2378c679ff%27%2C%20%27%2378c679ff%27%2C%20%27%2378c679ff%27%2C%20%27%2378c679ff%27%2C%20%27%2378c679ff%27%2C%20%27%2378c679ff%27%2C%20%27%2378c679ff%27%2C%20%27%2378c679ff%27%2C%20%27%2378c679ff%27%2C%20%27%2378c679ff%27%2C%20%27%2378c679ff%27%2C%20%27%2378c679ff%27%2C%20%27%2378c679ff%27%2C%20%27%2378c679ff%27%2C%20%27%2378c679ff%27%2C%20%27%2378c679ff%27%2C%20%27%2378c679ff%27%2C%20%27%2378c679ff%27%2C%20%27%2378c679ff%27%2C%20%27%2378c679ff%27%2C%20%27%2378c679ff%27%2C%20%27%2378c679ff%27%2C%20%27%2378c679ff%27%2C%20%27%2378c679ff%27%2C%20%27%2378c679ff%27%2C%20%27%2378c679ff%27%2C%20%27%2378c679ff%27%2C%20%27%2378c679ff%27%2C%20%27%2378c679ff%27%2C%20%27%2378c679ff%27%2C%20%27%2378c679ff%27%2C%20%27%2378c679ff%27%2C%20%27%2378c679ff%27%2C%20%27%2378c679ff%27%2C%20%27%2378c679ff%27%2C%20%27%2378c679ff%27%2C%20%27%2378c679ff%27%2C%20%27%2378c679ff%27%2C%20%27%2378c679ff%27%2C%20%27%2378c679ff%27%2C%20%27%2378c679ff%27%2C%20%27%2378c679ff%27%2C%20%27%2378c679ff%27%2C%20%27%2378c679ff%27%2C%20%27%2378c679ff%27%2C%20%27%2378c679ff%27%2C%20%27%2378c679ff%27%2C%20%27%2378c679ff%27%2C%20%27%2378c679ff%27%2C%20%27%2378c679ff%27%2C%20%27%2378c679ff%27%2C%20%27%2378c679ff%27%2C%20%27%2378c679ff%27%2C%20%27%2378c679ff%27%2C%20%27%2378c679ff%27%2C%20%27%2378c679ff%27%2C%20%27%2378c679ff%27%2C%20%27%2378c679ff%27%2C%20%27%2378c679ff%27%2C%20%27%2378c679ff%27%2C%20%27%2378c679ff%27%2C%20%27%2378c679ff%27%2C%20%27%2378c679ff%27%2C%20%27%2378c679ff%27%2C%20%27%2331a354ff%27%2C%20%27%2331a354ff%27%2C%20%27%2331a354ff%27%2C%20%27%2331a354ff%27%2C%20%27%2331a354ff%27%2C%20%27%2331a354ff%27%2C%20%27%2331a354ff%27%2C%20%27%2331a354ff%27%2C%20%27%2331a354ff%27%2C%20%27%2331a354ff%27%2C%20%27%2331a354ff%27%2C%20%27%2331a354ff%27%2C%20%27%2331a354ff%27%2C%20%27%2331a354ff%27%2C%20%27%2331a354ff%27%2C%20%27%2331a354ff%27%2C%20%27%2331a354ff%27%2C%20%27%2331a354ff%27%2C%20%27%2331a354ff%27%2C%20%27%2331a354ff%27%2C%20%27%2331a354ff%27%2C%20%27%2331a354ff%27%2C%20%27%2331a354ff%27%2C%20%27%2331a354ff%27%2C%20%27%2331a354ff%27%2C%20%27%2331a354ff%27%2C%20%27%2331a354ff%27%2C%20%27%2331a354ff%27%2C%20%27%2331a354ff%27%2C%20%27%2331a354ff%27%2C%20%27%2331a354ff%27%2C%20%27%2331a354ff%27%2C%20%27%2331a354ff%27%2C%20%27%2331a354ff%27%2C%20%27%2331a354ff%27%2C%20%27%2331a354ff%27%2C%20%27%2331a354ff%27%2C%20%27%2331a354ff%27%2C%20%27%2331a354ff%27%2C%20%27%2331a354ff%27%2C%20%27%2331a354ff%27%2C%20%27%2331a354ff%27%2C%20%27%2331a354ff%27%2C%20%27%2331a354ff%27%2C%20%27%2331a354ff%27%2C%20%27%2331a354ff%27%2C%20%27%2331a354ff%27%2C%20%27%2331a354ff%27%2C%20%27%2331a354ff%27%2C%20%27%2331a354ff%27%2C%20%27%2331a354ff%27%2C%20%27%2331a354ff%27%2C%20%27%2331a354ff%27%2C%20%27%2331a354ff%27%2C%20%27%2331a354ff%27%2C%20%27%2331a354ff%27%2C%20%27%2331a354ff%27%2C%20%27%2331a354ff%27%2C%20%27%2331a354ff%27%2C%20%27%2331a354ff%27%2C%20%27%2331a354ff%27%2C%20%27%2331a354ff%27%2C%20%27%2331a354ff%27%2C%20%27%2331a354ff%27%2C%20%27%2331a354ff%27%2C%20%27%2331a354ff%27%2C%20%27%2331a354ff%27%2C%20%27%2331a354ff%27%2C%20%27%2331a354ff%27%2C%20%27%2331a354ff%27%2C%20%27%2331a354ff%27%2C%20%27%2331a354ff%27%2C%20%27%2331a354ff%27%2C%20%27%2331a354ff%27%2C%20%27%2331a354ff%27%2C%20%27%2331a354ff%27%2C%20%27%2331a354ff%27%2C%20%27%2331a354ff%27%2C%20%27%2331a354ff%27%2C%20%27%2331a354ff%27%2C%20%27%2331a354ff%27%2C%20%27%2331a354ff%27%2C%20%27%2331a354ff%27%2C%20%27%23006837ff%27%2C%20%27%23006837ff%27%2C%20%27%23006837ff%27%2C%20%27%23006837ff%27%2C%20%27%23006837ff%27%2C%20%27%23006837ff%27%2C%20%27%23006837ff%27%2C%20%27%23006837ff%27%2C%20%27%23006837ff%27%2C%20%27%23006837ff%27%2C%20%27%23006837ff%27%2C%20%27%23006837ff%27%2C%20%27%23006837ff%27%2C%20%27%23006837ff%27%2C%20%27%23006837ff%27%2C%20%27%23006837ff%27%2C%20%27%23006837ff%27%2C%20%27%23006837ff%27%2C%20%27%23006837ff%27%2C%20%27%23006837ff%27%2C%20%27%23006837ff%27%2C%20%27%23006837ff%27%2C%20%27%23006837ff%27%2C%20%27%23006837ff%27%2C%20%27%23006837ff%27%2C%20%27%23006837ff%27%2C%20%27%23006837ff%27%2C%20%27%23006837ff%27%2C%20%27%23006837ff%27%2C%20%27%23006837ff%27%2C%20%27%23006837ff%27%2C%20%27%23006837ff%27%2C%20%27%23006837ff%27%2C%20%27%23006837ff%27%2C%20%27%23006837ff%27%2C%20%27%23006837ff%27%2C%20%27%23006837ff%27%2C%20%27%23006837ff%27%2C%20%27%23006837ff%27%2C%20%27%23006837ff%27%2C%20%27%23006837ff%27%2C%20%27%23006837ff%27%2C%20%27%23006837ff%27%2C%20%27%23006837ff%27%2C%20%27%23006837ff%27%2C%20%27%23006837ff%27%2C%20%27%23006837ff%27%2C%20%27%23006837ff%27%2C%20%27%23006837ff%27%2C%20%27%23006837ff%27%2C%20%27%23006837ff%27%2C%20%27%23006837ff%27%2C%20%27%23006837ff%27%2C%20%27%23006837ff%27%2C%20%27%23006837ff%27%2C%20%27%23006837ff%27%2C%20%27%23006837ff%27%2C%20%27%23006837ff%27%2C%20%27%23006837ff%27%2C%20%27%23006837ff%27%2C%20%27%23006837ff%27%2C%20%27%23006837ff%27%2C%20%27%23006837ff%27%2C%20%27%23006837ff%27%2C%20%27%23006837ff%27%2C%20%27%23006837ff%27%2C%20%27%23006837ff%27%2C%20%27%23006837ff%27%2C%20%27%23006837ff%27%2C%20%27%23006837ff%27%2C%20%27%23006837ff%27%2C%20%27%23006837ff%27%2C%20%27%23006837ff%27%2C%20%27%23006837ff%27%2C%20%27%23006837ff%27%2C%20%27%23006837ff%27%2C%20%27%23006837ff%27%2C%20%27%23006837ff%27%2C%20%27%23006837ff%27%2C%20%27%23006837ff%27%2C%20%27%23006837ff%27%2C%20%27%23006837ff%27%2C%20%27%23006837ff%27%2C%20%27%23006837ff%27%5D%29%3B%0A%20%20%20%20%0A%0A%20%20%20%20color_map_59c31a9d4aa34d4b9305e88e00ecf653.x%20%3D%20d3.scale.linear%28%29%0A%20%20%20%20%20%20%20%20%20%20%20%20%20%20.domain%28%5B0.0%2C%2014.0%5D%29%0A%20%20%20%20%20%20%20%20%20%20%20%20%20%20.range%28%5B0%2C%20400%5D%29%3B%0A%0A%20%20%20%20color_map_59c31a9d4aa34d4b9305e88e00ecf653.legend%20%3D%20L.control%28%7Bposition%3A%20%27topright%27%7D%29%3B%0A%20%20%20%20color_map_59c31a9d4aa34d4b9305e88e00ecf653.legend.onAdd%20%3D%20function%20%28map%29%20%7Bvar%20div%20%3D%20L.DomUtil.create%28%27div%27%2C%20%27legend%27%29%3B%20return%20div%7D%3B%0A%20%20%20%20color_map_59c31a9d4aa34d4b9305e88e00ecf653.legend.addTo%28map_3584605c7993443a92d46b1005b68787%29%3B%0A%0A%20%20%20%20color_map_59c31a9d4aa34d4b9305e88e00ecf653.xAxis%20%3D%20d3.svg.axis%28%29%0A%20%20%20%20%20%20%20%20.scale%28color_map_59c31a9d4aa34d4b9305e88e00ecf653.x%29%0A%20%20%20%20%20%20%20%20.orient%28%22top%22%29%0A%20%20%20%20%20%20%20%20.tickSize%281%29%0A%20%20%20%20%20%20%20%20.tickValues%28%5B0.0%2C%202.3333333333333335%2C%204.666666666666667%2C%207.0%2C%209.333333333333334%2C%2011.666666666666668%2C%2014.0%5D%29%3B%0A%0A%20%20%20%20color_map_59c31a9d4aa34d4b9305e88e00ecf653.svg%20%3D%20d3.select%28%22.legend.leaflet-control%22%29.append%28%22svg%22%29%0A%20%20%20%20%20%20%20%20.attr%28%22id%22%2C%20%27legend%27%29%0A%20%20%20%20%20%20%20%20.attr%28%22width%22%2C%20450%29%0A%20%20%20%20%20%20%20%20.attr%28%22height%22%2C%2040%29%3B%0A%0A%20%20%20%20color_map_59c31a9d4aa34d4b9305e88e00ecf653.g%20%3D%20color_map_59c31a9d4aa34d4b9305e88e00ecf653.svg.append%28%22g%22%29%0A%20%20%20%20%20%20%20%20.attr%28%22class%22%2C%20%22key%22%29%0A%20%20%20%20%20%20%20%20.attr%28%22transform%22%2C%20%22translate%2825%2C16%29%22%29%3B%0A%0A%20%20%20%20color_map_59c31a9d4aa34d4b9305e88e00ecf653.g.selectAll%28%22rect%22%29%0A%20%20%20%20%20%20%20%20.data%28color_map_59c31a9d4aa34d4b9305e88e00ecf653.color.range%28%29.map%28function%28d%2C%20i%29%20%7B%0A%20%20%20%20%20%20%20%20%20%20return%20%7B%0A%20%20%20%20%20%20%20%20%20%20%20%20x0%3A%20i%20%3F%20color_map_59c31a9d4aa34d4b9305e88e00ecf653.x%28color_map_59c31a9d4aa34d4b9305e88e00ecf653.color.domain%28%29%5Bi%20-%201%5D%29%20%3A%20color_map_59c31a9d4aa34d4b9305e88e00ecf653.x.range%28%29%5B0%5D%2C%0A%20%20%20%20%20%20%20%20%20%20%20%20x1%3A%20i%20%3C%20color_map_59c31a9d4aa34d4b9305e88e00ecf653.color.domain%28%29.length%20%3F%20color_map_59c31a9d4aa34d4b9305e88e00ecf653.x%28color_map_59c31a9d4aa34d4b9305e88e00ecf653.color.domain%28%29%5Bi%5D%29%20%3A%20color_map_59c31a9d4aa34d4b9305e88e00ecf653.x.range%28%29%5B1%5D%2C%0A%20%20%20%20%20%20%20%20%20%20%20%20z%3A%20d%0A%20%20%20%20%20%20%20%20%20%20%7D%3B%0A%20%20%20%20%20%20%20%20%7D%29%29%0A%20%20%20%20%20%20.enter%28%29.append%28%22rect%22%29%0A%20%20%20%20%20%20%20%20.attr%28%22height%22%2C%2010%29%0A%20%20%20%20%20%20%20%20.attr%28%22x%22%2C%20function%28d%29%20%7B%20return%20d.x0%3B%20%7D%29%0A%20%20%20%20%20%20%20%20.attr%28%22width%22%2C%20function%28d%29%20%7B%20return%20d.x1%20-%20d.x0%3B%20%7D%29%0A%20%20%20%20%20%20%20%20.style%28%22fill%22%2C%20function%28d%29%20%7B%20return%20d.z%3B%20%7D%29%3B%0A%0A%20%20%20%20color_map_59c31a9d4aa34d4b9305e88e00ecf653.g.call%28color_map_59c31a9d4aa34d4b9305e88e00ecf653.xAxis%29.append%28%22text%22%29%0A%20%20%20%20%20%20%20%20.attr%28%22class%22%2C%20%22caption%22%29%0A%20%20%20%20%20%20%20%20.attr%28%22y%22%2C%2021%29%0A%20%20%20%20%20%20%20%20.text%28%27Count%27%29%3B%0A%3C/script%3E onload=\"this.contentDocument.open();this.contentDocument.write(    decodeURIComponent(this.getAttribute('data-html')));this.contentDocument.close();\" allowfullscreen webkitallowfullscreen mozallowfullscreen></iframe></div></div>"
            ],
            "text/plain": [
              "<folium.folium.Map at 0x7fb9ef766e10>"
            ]
          },
          "metadata": {
            "tags": []
          },
          "execution_count": 80
        }
      ]
    },
    {
      "cell_type": "code",
      "metadata": {
        "id": "bz9gq04pI4hA"
      },
      "source": [
        ""
      ],
      "execution_count": null,
      "outputs": []
    },
    {
      "cell_type": "code",
      "metadata": {
        "id": "3UDcf5U9Kj8x"
      },
      "source": [
        ""
      ],
      "execution_count": null,
      "outputs": []
    }
  ]
}